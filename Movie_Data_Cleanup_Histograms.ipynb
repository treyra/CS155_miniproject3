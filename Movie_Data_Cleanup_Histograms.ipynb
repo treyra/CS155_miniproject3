{
  "nbformat": 4,
  "nbformat_minor": 0,
  "metadata": {
    "colab": {
      "name": "Movie_Data_Cleanup_Histograms.ipynb",
      "provenance": [],
      "collapsed_sections": [],
      "authorship_tag": "ABX9TyNiUR+IDd41T7zPjNrhhzU4",
      "include_colab_link": true
    },
    "kernelspec": {
      "name": "python3",
      "display_name": "Python 3"
    }
  },
  "cells": [
    {
      "cell_type": "markdown",
      "metadata": {
        "id": "view-in-github",
        "colab_type": "text"
      },
      "source": [
        "<a href=\"https://colab.research.google.com/github/treyra/CS155_miniproject2/blob/master/Movie_Data_Cleanup_Histograms.ipynb\" target=\"_parent\"><img src=\"https://colab.research.google.com/assets/colab-badge.svg\" alt=\"Open In Colab\"/></a>"
      ]
    },
    {
      "cell_type": "code",
      "metadata": {
        "id": "RzaSknd8RhTs"
      },
      "source": [
        "import numpy as np\n",
        "import seaborn as ss\n",
        "from matplotlib import pyplot as plt\n",
        "%matplotlib inline"
      ],
      "execution_count": 26,
      "outputs": []
    },
    {
      "cell_type": "code",
      "metadata": {
        "id": "sxjizPocRmMD"
      },
      "source": [
        "# Import Data\n",
        "movies = np.genfromtxt('https://raw.githubusercontent.com/lakigigar/Caltech-CS155-2021/main/projects/project2/data/movies.txt',delimiter='\\t',dtype=None,encoding='ISO-8859-1')\n",
        "df_movies =np.array([list(datum) for datum in movies])\n",
        "#df_movies\n",
        "data=np.loadtxt('https://raw.githubusercontent.com/lakigigar/Caltech-CS155-2021/main/projects/project2/data/data.txt').astype(int)\n",
        "train=np.loadtxt('https://raw.githubusercontent.com/lakigigar/Caltech-CS155-2021/main/projects/project2/data/train.txt').astype(int)\n",
        "test=np.loadtxt('https://raw.githubusercontent.com/lakigigar/Caltech-CS155-2021/main/projects/project2/data/test.txt').astype(int)"
      ],
      "execution_count": 27,
      "outputs": []
    },
    {
      "cell_type": "code",
      "metadata": {
        "colab": {
          "base_uri": "https://localhost:8080/"
        },
        "id": "P7u_3eFKYDoM",
        "outputId": "cac376e3-ef33-4098-db84-a3039640926b"
      },
      "source": [
        "len(df_movies)"
      ],
      "execution_count": 28,
      "outputs": [
        {
          "output_type": "execute_result",
          "data": {
            "text/plain": [
              "1682"
            ]
          },
          "metadata": {
            "tags": []
          },
          "execution_count": 28
        }
      ]
    },
    {
      "cell_type": "code",
      "metadata": {
        "id": "lJdN9SYvU6B-"
      },
      "source": [
        "# Cleaning up movie dataset\n",
        "# Removing quotation marks\n",
        "for i in range(len(df_movies)):\n",
        "    if df_movies[i][1][0]=='\"':\n",
        "        df_movies[i][1]=df_movies[i][1][1:]\n",
        "    if df_movies[i][1][-1]=='\"':\n",
        "        df_movies[i][1]=df_movies[i][1][:-1]\n",
        "# Find unique movie names\n",
        "unique_movies =np.unique(df_movies[:,1])\n",
        "# \n",
        "unique_movie_ids=np.zeros(len(unique_movies))\n",
        "ids_to_del=()\n",
        "for i,name in enumerate(unique_movies):\n",
        "    # find the id matching a movie name, the first one to show up\n",
        "    unique_movie_ids[i]=df_movies[np.nonzero(df_movies[:,1]==name)[0][0],0]\n",
        "    # if a movies has more than 1 ids, save in ids_to_del\n",
        "    ids=df_movies[np.nonzero(df_movies[:,1]==name)[0],0]\n",
        "    if len(ids)>1:\n",
        "        ids_to_del+=(ids,)\n",
        "# sort for unique ids\n",
        "unique_movie_ids=np.array(sorted(unique_movie_ids))\n",
        "movie_idxs=(unique_movie_ids-1).astype(int)\n",
        "# remove duplicates\n",
        "movies_clean=df_movies[movie_idxs,:]\n",
        "# change movie indices from duplicates (ids_to_del) to the original in the other dataframes\n",
        "for ids in ids_to_del:\n",
        "    data[data[:,1]==int(ids[1]),1]=int(ids[0])\n",
        "    test[test[:,1]==int(ids[1]),1]=int(ids[0])\n",
        "    train[train[:,1]==int(ids[1]),1]=int(ids[0])\n",
        "\n",
        "    \n",
        "data_clean=np.unique(data,axis=0) \n",
        "test_clean=np.unique(test,axis=0) \n",
        "train_clean=np.unique(train,axis=0)"
      ],
      "execution_count": 29,
      "outputs": []
    },
    {
      "cell_type": "code",
      "metadata": {
        "colab": {
          "base_uri": "https://localhost:8080/"
        },
        "id": "z0v9KfPkYPnQ",
        "outputId": "b3d087c2-15fd-4afa-fb37-79c9430fcc96"
      },
      "source": [
        "len(movies_clean)"
      ],
      "execution_count": 30,
      "outputs": [
        {
          "output_type": "execute_result",
          "data": {
            "text/plain": [
              "1664"
            ]
          },
          "metadata": {
            "tags": []
          },
          "execution_count": 30
        }
      ]
    },
    {
      "cell_type": "code",
      "metadata": {
        "id": "UQ_fbVNT1ayo"
      },
      "source": [
        "# import pandas as pd\n",
        "# movies_clean=pd.DataFrame(movies_clean)\n",
        "# data_clean=pd.DataFrame(data_clean)\n",
        "# test_clean=pd.DataFrame(test_clean)\n",
        "# train_clean=pd.DataFrame(movies_clean)"
      ],
      "execution_count": 31,
      "outputs": []
    },
    {
      "cell_type": "code",
      "metadata": {
        "id": "JQ4gRJ_M15vD"
      },
      "source": [
        "# # save the files\n",
        "# # put it together in a dataframe and save\n",
        "# from google.colab import  drive\n",
        "\n",
        "# def save_csv(df, savestr):\n",
        "#   drive.mount(\"/drive\", force_remount=True)\n",
        "#   df.to_csv('/drive/My Drive/CS155_miniproject_2/'+str(savestr)+'.csv')\n",
        "# save_csv(movies_clean,'movies_clean')\n",
        "# save_csv(data_clean,'data_clean')\n",
        "# save_csv(test_clean,'test_clean')\n",
        "# save_csv(train_clean,'train_clean')"
      ],
      "execution_count": 32,
      "outputs": []
    },
    {
      "cell_type": "code",
      "metadata": {
        "colab": {
          "base_uri": "https://localhost:8080/",
          "height": 295
        },
        "id": "W7hRXeQFZK-u",
        "outputId": "a32e97be-8626-4749-bde3-82b3411c0536"
      },
      "source": [
        "# How many review do we have of each type\n",
        "revs=data_clean[:,2]\n",
        "Bins=np.arange(.5,6,1)\n",
        "plt.figure(1)\n",
        "plt.hist(revs,bins=Bins)\n",
        "plt.xlabel('Rating Number')\n",
        "plt.ylabel('Number of Ratings');\n",
        "plt.title('All Movie Ratings');\n",
        "plt.show()"
      ],
      "execution_count": 33,
      "outputs": [
        {
          "output_type": "display_data",
          "data": {
            "image/png": "[encoded data removed]",
            "text/plain": [
              "<Figure size 432x288 with 1 Axes>"
            ]
          },
          "metadata": {
            "tags": [],
            "needs_background": "light"
          }
        }
      ]
    },
    {
      "cell_type": "code",
      "metadata": {
        "colab": {
          "base_uri": "https://localhost:8080/"
        },
        "id": "xlH3GYW9ZdQv",
        "outputId": "8f6ee5bf-edff-4ceb-eec2-4591ed44c7e0"
      },
      "source": [
        "# Find the avg movie rating and number of ratings for each movie\n",
        "avg_rating=np.zeros((len(movies_clean),2))\n",
        "pop_score=np.zeros((len(movies_clean),2))\n",
        "# set the first column to id\n",
        "avg_rating[:,0]=movies_clean[:,0]\n",
        "pop_score[:,0]=movies_clean[:,0]\n",
        "# Now calc avg and number of ratings\n",
        "#For each id, find the avg ratings and the number of ratings\n",
        "for i,id in enumerate(movies_clean[:,0].astype(int)):\n",
        "    avg_rating[i,1]=(data_clean[data_clean[:,1]==id,2]).mean()\n",
        "    pop_score[i,1]=(data_clean[data_clean[:,1]==id,2]).shape[0]\n",
        "# Now take out the 10 most popular ones\n",
        "popular_ids=np.array([pop_score[(-pop_score[:,1]).argsort()[:10],0]])\n",
        "print(popular_ids)\n",
        "# Now the 10 highest scoring ones\n",
        "highest_avg_ids=np.array([avg_rating[(-avg_rating[:,1]).argsort()[:10],0]])\n",
        "print(highest_avg_ids)"
      ],
      "execution_count": 34,
      "outputs": [
        {
          "output_type": "stream",
          "text": [
            "[[ 50. 258. 100. 181. 294. 286. 288.   1. 300. 121.]]\n",
            "[[1500. 1536. 1293. 1201.  814. 1189. 1122. 1599. 1467. 1653.]]\n"
          ],
          "name": "stdout"
        }
      ]
    },
    {
      "cell_type": "code",
      "metadata": {
        "colab": {
          "base_uri": "https://localhost:8080/",
          "height": 573
        },
        "id": "_hwH1hVrbhCN",
        "outputId": "d973a451-12c9-4352-88f7-5b460d542fe0"
      },
      "source": [
        "# plot\n",
        "popular_ratings=data_clean[(data_clean[:,[1]]==popular_ids).any(1),2]\n",
        "avg_ratings=data_clean[(data_clean[:,[1]]==highest_avg_ids).any(1),2]\n",
        "plt.figure()\n",
        "Bins=np.arange(.5,6,1)\n",
        "plt.hist(popular_ratings,bins=Bins);\n",
        "plt.xlabel('Rating Number')\n",
        "plt.ylabel('Number of Ratings');\n",
        "plt.title('10 Most Popular Movie Ratings');\n",
        "plt.show()\n",
        "plt.figure()\n",
        "plt.hist(avg_ratings,bins=Bins);\n",
        "plt.xlabel('Rating Number')\n",
        "plt.ylabel('Number of Ratings');\n",
        "plt.title('10 Highest Rated Movie Ratings');\n",
        "plt.show()"
      ],
      "execution_count": 35,
      "outputs": [
        {
          "output_type": "display_data",
          "data": {
            "image/png": "[encoded data removed]",
            "text/plain": [
              "<Figure size 432x288 with 1 Axes>"
            ]
          },
          "metadata": {
            "tags": [],
            "needs_background": "light"
          }
        },
        {
          "output_type": "display_data",
          "data": {
            "image/png": "[encoded data removed]",
            "text/plain": [
              "<Figure size 432x288 with 1 Axes>"
            ]
          },
          "metadata": {
            "tags": [],
            "needs_background": "light"
          }
        }
      ]
    },
    {
      "cell_type": "code",
      "metadata": {
        "colab": {
          "base_uri": "https://localhost:8080/"
        },
        "id": "03k518QjckQO",
        "outputId": "1d46e727-ae86-4ffe-90df-e7dd455cdedc"
      },
      "source": [
        "# Most popular\n",
        "for row in movies_clean:\n",
        "  if int(row[0]) in popular_ids:\n",
        "    print(row[1])"
      ],
      "execution_count": 36,
      "outputs": [
        {
          "output_type": "stream",
          "text": [
            "Toy Story (1995)\n",
            "Star Wars (1977)\n",
            "Fargo (1996)\n",
            "Independence Day (ID4) (1996)\n",
            "Return of the Jedi (1983)\n",
            "Contact (1997)\n",
            "English Patient, The (1996)\n",
            "Scream (1996)\n",
            "Liar Liar (1997)\n",
            "Air Force One (1997)\n"
          ],
          "name": "stdout"
        }
      ]
    },
    {
      "cell_type": "code",
      "metadata": {
        "colab": {
          "base_uri": "https://localhost:8080/"
        },
        "id": "1jZCLGuyeLe2",
        "outputId": "c4d6dc6c-42e0-49b1-da44-ddc82e672ab7"
      },
      "source": [
        "# higest rated\n",
        "for row in movies_clean:\n",
        "  if int(row[0]) in highest_avg_ids:\n",
        "    print(row[1])"
      ],
      "execution_count": 37,
      "outputs": [
        {
          "output_type": "stream",
          "text": [
            "Great Day in Harlem, A (1994)\n",
            "They Made Me a Criminal (1939)\n",
            "Prefontaine (1997)\n",
            "Marlene Dietrich: Shadow and Light (1996) \n",
            "Star Kid (1997)\n",
            "Saint of Fort Washington, The (1993)\n",
            "Santa with Muscles (1996)\n",
            "Aiqing wansui (1994)\n",
            "Someone Else's America (1995)\n",
            "Entertaining Angels: The Dorothy Day Story (1996)\n"
          ],
          "name": "stdout"
        }
      ]
    },
    {
      "cell_type": "code",
      "metadata": {
        "colab": {
          "base_uri": "https://localhost:8080/",
          "height": 868
        },
        "id": "xHHfgs_SeeIs",
        "outputId": "ea58c147-31b4-4917-ac72-a79990cb239e"
      },
      "source": [
        "# get all genres\n",
        "title_row = np.array(['Movie Id','Movie Title','Unknown', 'Action', 'Adventure', 'Animation', 'Children’s', 'Comedy', 'Crime', 'Documentary', 'Drama', 'Fantasy', 'Film-Noir', 'Horror', 'Musical', 'Mystery', 'Romance', 'Sci-Fi', 'Thriller', 'War', 'Western'])\n",
        "# pick 3 genres\n",
        "picked_genres = ['Animation','Crime', 'Documentary'] # sorted alphabetically\n",
        "# get all movies from genres\n",
        "genre_idx = []\n",
        "for i,element in enumerate(title_row):\n",
        "  if element in picked_genres:\n",
        "    genre_idx.append(i)\n",
        "print(genre_idx)\n",
        "# plot ratings\n",
        "for i,idx in enumerate(genre_idx):\n",
        "  # find movies in the genre\n",
        "  ids_in_genre=movies_clean[movies_clean[:,idx]=='1',0].astype(int)\n",
        "  # get ratings\n",
        "  ratings =data_clean[(data_clean[:,[1]]==ids_in_genre).any(1),2]\n",
        "  # plot\n",
        "  plt.hist(ratings,bins=Bins)\n",
        "  plt.title(picked_genres[i])\n",
        "  plt.xlabel('Rating Number')\n",
        "  plt.ylabel('Number of Ratings');\n",
        "  plt.show()"
      ],
      "execution_count": 38,
      "outputs": [
        {
          "output_type": "stream",
          "text": [
            "[5, 8, 9]\n"
          ],
          "name": "stdout"
        },
        {
          "output_type": "display_data",
          "data": {
            "image/png": "[encoded data removed]",
            "text/plain": [
              "<Figure size 432x288 with 1 Axes>"
            ]
          },
          "metadata": {
            "tags": [],
            "needs_background": "light"
          }
        },
        {
          "output_type": "display_data",
          "data": {
            "image/png": "[encoded data removed]",
            "text/plain": [
              "<Figure size 432x288 with 1 Axes>"
            ]
          },
          "metadata": {
            "tags": [],
            "needs_background": "light"
          }
        },
        {
          "output_type": "display_data",
          "data": {
            "image/png": "[encoded data removed]",
            "text/plain": [
              "<Figure size 432x288 with 1 Axes>"
            ]
          },
          "metadata": {
            "tags": [],
            "needs_background": "light"
          }
        }
      ]
    }
  ]
}