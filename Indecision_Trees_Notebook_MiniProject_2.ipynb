{
  "nbformat": 4,
  "nbformat_minor": 0,
  "metadata": {
    "colab": {
      "name": "Indecision_Trees_Notebook_MiniProject 2.ipynb",
      "provenance": [],
      "collapsed_sections": [],
      "include_colab_link": true
    },
    "kernelspec": {
      "name": "python3",
      "display_name": "Python 3"
    }
  },
  "cells": [
    {
      "cell_type": "markdown",
      "metadata": {
        "id": "view-in-github",
        "colab_type": "text"
      },
      "source": [
        "<a href=\"https://colab.research.google.com/github/treyra/CS155_miniproject2/blob/master/Indecision_Trees_Notebook_MiniProject_2.ipynb\" target=\"_parent\"><img src=\"https://colab.research.google.com/assets/colab-badge.svg\" alt=\"Open In Colab\"/></a>"
      ]
    },
    {
      "cell_type": "markdown",
      "metadata": {
        "id": "9rphIgmHgMbM"
      },
      "source": [
        "Approach Team Indecision Trees"
      ]
    },
    {
      "cell_type": "code",
      "metadata": {
        "id": "HnjN8NhzgU5a"
      },
      "source": [
        "import numpy as np\n",
        "import pandas as pd\n",
        "from matplotlib import pyplot as plt\n",
        "%matplotlib inline"
      ],
      "execution_count": null,
      "outputs": []
    },
    {
      "cell_type": "markdown",
      "metadata": {
        "id": "9LDoISr5gf3L"
      },
      "source": [
        "First load the cleaned data from our repo"
      ]
    },
    {
      "cell_type": "code",
      "metadata": {
        "id": "GPPwhohcgfPA"
      },
      "source": [
        "# load the data\n",
        "df_train = pd.read_csv('https://raw.githubusercontent.com/treyra/CS155_miniproject2/master/data/train_clean.csv',sep=',', header=0,index_col=0)\n",
        "df_test = pd.read_csv('https://raw.githubusercontent.com/treyra/CS155_miniproject2/master/data/test_clean.csv',sep=',', header=0,index_col=0)\n",
        "df_data = pd.read_csv('https://raw.githubusercontent.com/treyra/CS155_miniproject2/master/data/data_clean.csv',sep=',', header=0,index_col=0)"
      ],
      "execution_count": null,
      "outputs": []
    },
    {
      "cell_type": "markdown",
      "metadata": {
        "id": "swsJ-dSWgp4g"
      },
      "source": [
        "Now perform SVD"
      ]
    },
    {
      "cell_type": "code",
      "metadata": {
        "id": "0HJHCbNrgpNR"
      },
      "source": [
        ""
      ],
      "execution_count": null,
      "outputs": []
    },
    {
      "cell_type": "markdown",
      "metadata": {
        "id": "j0OvQqCPgsPD"
      },
      "source": [
        "And then create interesting visualizations"
      ]
    },
    {
      "cell_type": "markdown",
      "metadata": {
        "id": "U3awaxL9gw_o"
      },
      "source": [
        "Some helpful functions that we used"
      ]
    },
    {
      "cell_type": "code",
      "metadata": {
        "id": "EL1BP1iFgyuo"
      },
      "source": [
        "# get movies in specified genre\n",
        "def get_genre(picked_genre):\n",
        "  title_row = ['Movie Id','Movie Title','Unknown', 'Action', 'Adventure', 'Animation', 'Children’s', 'Comedy', 'Crime', 'Documentary', 'Drama', 'Fantasy', 'Film-Noir', 'Horror', 'Musical', 'Mystery', 'Romance', 'Sci-Fi', 'Thriller', 'War', 'Western']\n",
        "  # get all movies from genres\n",
        "  genre_idx = title_row.index(picked_genre)\n",
        "  # find movies in the genre\n",
        "  ids_in_genre=movies_clean[movies_clean[:,genre_idx]==1,0].astype(int)\n",
        "  return ids_in_genre\n",
        "\n",
        "# Get movie index from movie ids\n",
        "def get_idx_from_id(ids):\n",
        "  movie_list = list(movies_clean[:,0])\n",
        "  movie_idx = []\n",
        "  for id in ids:\n",
        "    movie_idx.append(movie_list.index(id))\n",
        "  return movie_idx\n",
        "\n",
        "# pick movies by name and get index\n",
        "def find_movie_idxs_from_name(movies_to_plot):\n",
        "  movie_list = list(movies_clean[:,1])\n",
        "  movie_idx = []\n",
        "  for name in movies_to_plot:\n",
        "    movie_idx.append(movie_list.index(name))\n",
        "  return movie_idx\n",
        "\n",
        "# Function to plot genres\n",
        "def compare_scatter_plot(genres):\n",
        "  NUM_COLORS = len(genres)\n",
        "  cm = plt.get_cmap('gist_rainbow')\n",
        "  fig = plt.figure()\n",
        "  ax = fig.add_subplot(221)\n",
        "  ax.set_prop_cycle(color=[cm(1.*i/NUM_COLORS) for i in range(NUM_COLORS)])\n",
        "  for genre in genres:\n",
        "    ids_in_genre = get_genre(genre)\n",
        "    genre_idxs = get_idx_from_id(ids_in_genre)\n",
        "    ax.scatter(Vtilde[0,genre_idxs],Vtilde[1,genre_idxs], marker='.',s=50)\n",
        "  ax.legend(genres)\n",
        "\n",
        "# get all movies from a timeframe\n",
        "def find_decade(start, end):\n",
        "  movie_list = list(movies_clean[:,1])\n",
        "  movie_idx = []\n",
        "  for moviename in movie_list:\n",
        "    if int(moviename[-5:-1]) in range(start,end):\n",
        "      movie_idx.append(movie_list.index(moviename))\n",
        "  return movie_idx\n"
      ],
      "execution_count": null,
      "outputs": []
    }
  ]
}