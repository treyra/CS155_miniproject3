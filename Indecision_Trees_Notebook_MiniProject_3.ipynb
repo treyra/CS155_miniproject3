{
  "nbformat": 4,
  "nbformat_minor": 0,
  "metadata": {
    "colab": {
      "name": "Indecision_Trees_Notebook_MiniProject_3",
      "provenance": [],
      "collapsed_sections": [],
      "include_colab_link": true
    },
    "kernelspec": {
      "name": "python3",
      "display_name": "Python 3"
    },
    "widgets": {
      "application/vnd.jupyter.widget-state+json": {
        "0af71856de45444286d7f4abf62bbbdc": {
          "model_module": "@jupyter-widgets/controls",
          "model_name": "HBoxModel",
          "state": {
            "_view_name": "HBoxView",
            "_dom_classes": [],
            "_model_name": "HBoxModel",
            "_view_module": "@jupyter-widgets/controls",
            "_model_module_version": "1.5.0",
            "_view_count": null,
            "_view_module_version": "1.5.0",
            "box_style": "",
            "layout": "IPY_MODEL_17f917189f64471b9b876b7703142452",
            "_model_module": "@jupyter-widgets/controls",
            "children": [
              "IPY_MODEL_ef08d0e2295e4f69bf950621bb6cf0b5",
              "IPY_MODEL_6d63467299ad424b8032ec6386d5330f"
            ]
          }
        },
        "17f917189f64471b9b876b7703142452": {
          "model_module": "@jupyter-widgets/base",
          "model_name": "LayoutModel",
          "state": {
            "_view_name": "LayoutView",
            "grid_template_rows": null,
            "right": null,
            "justify_content": null,
            "_view_module": "@jupyter-widgets/base",
            "overflow": null,
            "_model_module_version": "1.2.0",
            "_view_count": null,
            "flex_flow": null,
            "width": null,
            "min_width": null,
            "border": null,
            "align_items": null,
            "bottom": null,
            "_model_module": "@jupyter-widgets/base",
            "top": null,
            "grid_column": null,
            "overflow_y": null,
            "overflow_x": null,
            "grid_auto_flow": null,
            "grid_area": null,
            "grid_template_columns": null,
            "flex": null,
            "_model_name": "LayoutModel",
            "justify_items": null,
            "grid_row": null,
            "max_height": null,
            "align_content": null,
            "visibility": null,
            "align_self": null,
            "height": null,
            "min_height": null,
            "padding": null,
            "grid_auto_rows": null,
            "grid_gap": null,
            "max_width": null,
            "order": null,
            "_view_module_version": "1.2.0",
            "grid_template_areas": null,
            "object_position": null,
            "object_fit": null,
            "grid_auto_columns": null,
            "margin": null,
            "display": null,
            "left": null
          }
        },
        "ef08d0e2295e4f69bf950621bb6cf0b5": {
          "model_module": "@jupyter-widgets/controls",
          "model_name": "FloatProgressModel",
          "state": {
            "_view_name": "ProgressView",
            "style": "IPY_MODEL_00f1ab8fa48b4d55b98b78d87dcd3d47",
            "_dom_classes": [],
            "description": "100%",
            "_model_name": "FloatProgressModel",
            "bar_style": "success",
            "max": 50,
            "_view_module": "@jupyter-widgets/controls",
            "_model_module_version": "1.5.0",
            "value": 50,
            "_view_count": null,
            "_view_module_version": "1.5.0",
            "orientation": "horizontal",
            "min": 0,
            "description_tooltip": null,
            "_model_module": "@jupyter-widgets/controls",
            "layout": "IPY_MODEL_f316cc55894947c5ba23b3d04c324630"
          }
        },
        "6d63467299ad424b8032ec6386d5330f": {
          "model_module": "@jupyter-widgets/controls",
          "model_name": "HTMLModel",
          "state": {
            "_view_name": "HTMLView",
            "style": "IPY_MODEL_a01589e4ff024af193010f219ef1d9b0",
            "_dom_classes": [],
            "description": "",
            "_model_name": "HTMLModel",
            "placeholder": "​",
            "_view_module": "@jupyter-widgets/controls",
            "_model_module_version": "1.5.0",
            "value": " 50/50 [53:32&lt;00:00, 64.25s/it]",
            "_view_count": null,
            "_view_module_version": "1.5.0",
            "description_tooltip": null,
            "_model_module": "@jupyter-widgets/controls",
            "layout": "IPY_MODEL_845cffdb33e84731acb84fbc8863ac4e"
          }
        },
        "00f1ab8fa48b4d55b98b78d87dcd3d47": {
          "model_module": "@jupyter-widgets/controls",
          "model_name": "ProgressStyleModel",
          "state": {
            "_view_name": "StyleView",
            "_model_name": "ProgressStyleModel",
            "description_width": "initial",
            "_view_module": "@jupyter-widgets/base",
            "_model_module_version": "1.5.0",
            "_view_count": null,
            "_view_module_version": "1.2.0",
            "bar_color": null,
            "_model_module": "@jupyter-widgets/controls"
          }
        },
        "f316cc55894947c5ba23b3d04c324630": {
          "model_module": "@jupyter-widgets/base",
          "model_name": "LayoutModel",
          "state": {
            "_view_name": "LayoutView",
            "grid_template_rows": null,
            "right": null,
            "justify_content": null,
            "_view_module": "@jupyter-widgets/base",
            "overflow": null,
            "_model_module_version": "1.2.0",
            "_view_count": null,
            "flex_flow": null,
            "width": null,
            "min_width": null,
            "border": null,
            "align_items": null,
            "bottom": null,
            "_model_module": "@jupyter-widgets/base",
            "top": null,
            "grid_column": null,
            "overflow_y": null,
            "overflow_x": null,
            "grid_auto_flow": null,
            "grid_area": null,
            "grid_template_columns": null,
            "flex": null,
            "_model_name": "LayoutModel",
            "justify_items": null,
            "grid_row": null,
            "max_height": null,
            "align_content": null,
            "visibility": null,
            "align_self": null,
            "height": null,
            "min_height": null,
            "padding": null,
            "grid_auto_rows": null,
            "grid_gap": null,
            "max_width": null,
            "order": null,
            "_view_module_version": "1.2.0",
            "grid_template_areas": null,
            "object_position": null,
            "object_fit": null,
            "grid_auto_columns": null,
            "margin": null,
            "display": null,
            "left": null
          }
        },
        "a01589e4ff024af193010f219ef1d9b0": {
          "model_module": "@jupyter-widgets/controls",
          "model_name": "DescriptionStyleModel",
          "state": {
            "_view_name": "StyleView",
            "_model_name": "DescriptionStyleModel",
            "description_width": "",
            "_view_module": "@jupyter-widgets/base",
            "_model_module_version": "1.5.0",
            "_view_count": null,
            "_view_module_version": "1.2.0",
            "_model_module": "@jupyter-widgets/controls"
          }
        },
        "845cffdb33e84731acb84fbc8863ac4e": {
          "model_module": "@jupyter-widgets/base",
          "model_name": "LayoutModel",
          "state": {
            "_view_name": "LayoutView",
            "grid_template_rows": null,
            "right": null,
            "justify_content": null,
            "_view_module": "@jupyter-widgets/base",
            "overflow": null,
            "_model_module_version": "1.2.0",
            "_view_count": null,
            "flex_flow": null,
            "width": null,
            "min_width": null,
            "border": null,
            "align_items": null,
            "bottom": null,
            "_model_module": "@jupyter-widgets/base",
            "top": null,
            "grid_column": null,
            "overflow_y": null,
            "overflow_x": null,
            "grid_auto_flow": null,
            "grid_area": null,
            "grid_template_columns": null,
            "flex": null,
            "_model_name": "LayoutModel",
            "justify_items": null,
            "grid_row": null,
            "max_height": null,
            "align_content": null,
            "visibility": null,
            "align_self": null,
            "height": null,
            "min_height": null,
            "padding": null,
            "grid_auto_rows": null,
            "grid_gap": null,
            "max_width": null,
            "order": null,
            "_view_module_version": "1.2.0",
            "grid_template_areas": null,
            "object_position": null,
            "object_fit": null,
            "grid_auto_columns": null,
            "margin": null,
            "display": null,
            "left": null
          }
        },
        "df1bc8c1b4004c31ac0a730b4ccae65d": {
          "model_module": "@jupyter-widgets/controls",
          "model_name": "HBoxModel",
          "state": {
            "_view_name": "HBoxView",
            "_dom_classes": [],
            "_model_name": "HBoxModel",
            "_view_module": "@jupyter-widgets/controls",
            "_model_module_version": "1.5.0",
            "_view_count": null,
            "_view_module_version": "1.5.0",
            "box_style": "",
            "layout": "IPY_MODEL_58a23c06292a46d285823237bc20b8ed",
            "_model_module": "@jupyter-widgets/controls",
            "children": [
              "IPY_MODEL_bdbf4229b8a54d2aa087c3bf10f13fe9",
              "IPY_MODEL_da0030480bf2444981d9cf2d2f6434b0"
            ]
          }
        },
        "58a23c06292a46d285823237bc20b8ed": {
          "model_module": "@jupyter-widgets/base",
          "model_name": "LayoutModel",
          "state": {
            "_view_name": "LayoutView",
            "grid_template_rows": null,
            "right": null,
            "justify_content": null,
            "_view_module": "@jupyter-widgets/base",
            "overflow": null,
            "_model_module_version": "1.2.0",
            "_view_count": null,
            "flex_flow": null,
            "width": null,
            "min_width": null,
            "border": null,
            "align_items": null,
            "bottom": null,
            "_model_module": "@jupyter-widgets/base",
            "top": null,
            "grid_column": null,
            "overflow_y": null,
            "overflow_x": null,
            "grid_auto_flow": null,
            "grid_area": null,
            "grid_template_columns": null,
            "flex": null,
            "_model_name": "LayoutModel",
            "justify_items": null,
            "grid_row": null,
            "max_height": null,
            "align_content": null,
            "visibility": null,
            "align_self": null,
            "height": null,
            "min_height": null,
            "padding": null,
            "grid_auto_rows": null,
            "grid_gap": null,
            "max_width": null,
            "order": null,
            "_view_module_version": "1.2.0",
            "grid_template_areas": null,
            "object_position": null,
            "object_fit": null,
            "grid_auto_columns": null,
            "margin": null,
            "display": null,
            "left": null
          }
        },
        "bdbf4229b8a54d2aa087c3bf10f13fe9": {
          "model_module": "@jupyter-widgets/controls",
          "model_name": "FloatProgressModel",
          "state": {
            "_view_name": "ProgressView",
            "style": "IPY_MODEL_0854589d6bc947c193a8766ec5144f49",
            "_dom_classes": [],
            "description": "100%",
            "_model_name": "FloatProgressModel",
            "bar_style": "success",
            "max": 50,
            "_view_module": "@jupyter-widgets/controls",
            "_model_module_version": "1.5.0",
            "value": 50,
            "_view_count": null,
            "_view_module_version": "1.5.0",
            "orientation": "horizontal",
            "min": 0,
            "description_tooltip": null,
            "_model_module": "@jupyter-widgets/controls",
            "layout": "IPY_MODEL_910cbd561b194e3285bba4e89eee098f"
          }
        },
        "da0030480bf2444981d9cf2d2f6434b0": {
          "model_module": "@jupyter-widgets/controls",
          "model_name": "HTMLModel",
          "state": {
            "_view_name": "HTMLView",
            "style": "IPY_MODEL_d73bc972fc9a4c35aa154fff259f266d",
            "_dom_classes": [],
            "description": "",
            "_model_name": "HTMLModel",
            "placeholder": "​",
            "_view_module": "@jupyter-widgets/controls",
            "_model_module_version": "1.5.0",
            "value": " 50/50 [16:01&lt;00:00, 19.24s/it]",
            "_view_count": null,
            "_view_module_version": "1.5.0",
            "description_tooltip": null,
            "_model_module": "@jupyter-widgets/controls",
            "layout": "IPY_MODEL_f8333e5d0f2e42c5a19bc1f8ec10786f"
          }
        },
        "0854589d6bc947c193a8766ec5144f49": {
          "model_module": "@jupyter-widgets/controls",
          "model_name": "ProgressStyleModel",
          "state": {
            "_view_name": "StyleView",
            "_model_name": "ProgressStyleModel",
            "description_width": "initial",
            "_view_module": "@jupyter-widgets/base",
            "_model_module_version": "1.5.0",
            "_view_count": null,
            "_view_module_version": "1.2.0",
            "bar_color": null,
            "_model_module": "@jupyter-widgets/controls"
          }
        },
        "910cbd561b194e3285bba4e89eee098f": {
          "model_module": "@jupyter-widgets/base",
          "model_name": "LayoutModel",
          "state": {
            "_view_name": "LayoutView",
            "grid_template_rows": null,
            "right": null,
            "justify_content": null,
            "_view_module": "@jupyter-widgets/base",
            "overflow": null,
            "_model_module_version": "1.2.0",
            "_view_count": null,
            "flex_flow": null,
            "width": null,
            "min_width": null,
            "border": null,
            "align_items": null,
            "bottom": null,
            "_model_module": "@jupyter-widgets/base",
            "top": null,
            "grid_column": null,
            "overflow_y": null,
            "overflow_x": null,
            "grid_auto_flow": null,
            "grid_area": null,
            "grid_template_columns": null,
            "flex": null,
            "_model_name": "LayoutModel",
            "justify_items": null,
            "grid_row": null,
            "max_height": null,
            "align_content": null,
            "visibility": null,
            "align_self": null,
            "height": null,
            "min_height": null,
            "padding": null,
            "grid_auto_rows": null,
            "grid_gap": null,
            "max_width": null,
            "order": null,
            "_view_module_version": "1.2.0",
            "grid_template_areas": null,
            "object_position": null,
            "object_fit": null,
            "grid_auto_columns": null,
            "margin": null,
            "display": null,
            "left": null
          }
        },
        "d73bc972fc9a4c35aa154fff259f266d": {
          "model_module": "@jupyter-widgets/controls",
          "model_name": "DescriptionStyleModel",
          "state": {
            "_view_name": "StyleView",
            "_model_name": "DescriptionStyleModel",
            "description_width": "",
            "_view_module": "@jupyter-widgets/base",
            "_model_module_version": "1.5.0",
            "_view_count": null,
            "_view_module_version": "1.2.0",
            "_model_module": "@jupyter-widgets/controls"
          }
        },
        "f8333e5d0f2e42c5a19bc1f8ec10786f": {
          "model_module": "@jupyter-widgets/base",
          "model_name": "LayoutModel",
          "state": {
            "_view_name": "LayoutView",
            "grid_template_rows": null,
            "right": null,
            "justify_content": null,
            "_view_module": "@jupyter-widgets/base",
            "overflow": null,
            "_model_module_version": "1.2.0",
            "_view_count": null,
            "flex_flow": null,
            "width": null,
            "min_width": null,
            "border": null,
            "align_items": null,
            "bottom": null,
            "_model_module": "@jupyter-widgets/base",
            "top": null,
            "grid_column": null,
            "overflow_y": null,
            "overflow_x": null,
            "grid_auto_flow": null,
            "grid_area": null,
            "grid_template_columns": null,
            "flex": null,
            "_model_name": "LayoutModel",
            "justify_items": null,
            "grid_row": null,
            "max_height": null,
            "align_content": null,
            "visibility": null,
            "align_self": null,
            "height": null,
            "min_height": null,
            "padding": null,
            "grid_auto_rows": null,
            "grid_gap": null,
            "max_width": null,
            "order": null,
            "_view_module_version": "1.2.0",
            "grid_template_areas": null,
            "object_position": null,
            "object_fit": null,
            "grid_auto_columns": null,
            "margin": null,
            "display": null,
            "left": null
          }
        },
        "35f371baad5b4a61a033ea6a52078efb": {
          "model_module": "@jupyter-widgets/controls",
          "model_name": "HBoxModel",
          "state": {
            "_view_name": "HBoxView",
            "_dom_classes": [],
            "_model_name": "HBoxModel",
            "_view_module": "@jupyter-widgets/controls",
            "_model_module_version": "1.5.0",
            "_view_count": null,
            "_view_module_version": "1.5.0",
            "box_style": "",
            "layout": "IPY_MODEL_1ec40b9de2e74a9f9d43cb3c3bbe383e",
            "_model_module": "@jupyter-widgets/controls",
            "children": [
              "IPY_MODEL_7cf05b769e1542baa5ea7179cb27b1ad",
              "IPY_MODEL_ec50b492c0c24bfab693efff8ad7ab18"
            ]
          }
        },
        "1ec40b9de2e74a9f9d43cb3c3bbe383e": {
          "model_module": "@jupyter-widgets/base",
          "model_name": "LayoutModel",
          "state": {
            "_view_name": "LayoutView",
            "grid_template_rows": null,
            "right": null,
            "justify_content": null,
            "_view_module": "@jupyter-widgets/base",
            "overflow": null,
            "_model_module_version": "1.2.0",
            "_view_count": null,
            "flex_flow": null,
            "width": null,
            "min_width": null,
            "border": null,
            "align_items": null,
            "bottom": null,
            "_model_module": "@jupyter-widgets/base",
            "top": null,
            "grid_column": null,
            "overflow_y": null,
            "overflow_x": null,
            "grid_auto_flow": null,
            "grid_area": null,
            "grid_template_columns": null,
            "flex": null,
            "_model_name": "LayoutModel",
            "justify_items": null,
            "grid_row": null,
            "max_height": null,
            "align_content": null,
            "visibility": null,
            "align_self": null,
            "height": null,
            "min_height": null,
            "padding": null,
            "grid_auto_rows": null,
            "grid_gap": null,
            "max_width": null,
            "order": null,
            "_view_module_version": "1.2.0",
            "grid_template_areas": null,
            "object_position": null,
            "object_fit": null,
            "grid_auto_columns": null,
            "margin": null,
            "display": null,
            "left": null
          }
        },
        "7cf05b769e1542baa5ea7179cb27b1ad": {
          "model_module": "@jupyter-widgets/controls",
          "model_name": "FloatProgressModel",
          "state": {
            "_view_name": "ProgressView",
            "style": "IPY_MODEL_624279bda8a64511a1e335230521d6fc",
            "_dom_classes": [],
            "description": "100%",
            "_model_name": "FloatProgressModel",
            "bar_style": "success",
            "max": 50,
            "_view_module": "@jupyter-widgets/controls",
            "_model_module_version": "1.5.0",
            "value": 50,
            "_view_count": null,
            "_view_module_version": "1.5.0",
            "orientation": "horizontal",
            "min": 0,
            "description_tooltip": null,
            "_model_module": "@jupyter-widgets/controls",
            "layout": "IPY_MODEL_0c6c251369c74125867efa75ab79768e"
          }
        },
        "ec50b492c0c24bfab693efff8ad7ab18": {
          "model_module": "@jupyter-widgets/controls",
          "model_name": "HTMLModel",
          "state": {
            "_view_name": "HTMLView",
            "style": "IPY_MODEL_4198e6897cbf45baa2a1a8c4d15dff85",
            "_dom_classes": [],
            "description": "",
            "_model_name": "HTMLModel",
            "placeholder": "​",
            "_view_module": "@jupyter-widgets/controls",
            "_model_module_version": "1.5.0",
            "value": " 50/50 [09:43&lt;00:00, 11.67s/it]",
            "_view_count": null,
            "_view_module_version": "1.5.0",
            "description_tooltip": null,
            "_model_module": "@jupyter-widgets/controls",
            "layout": "IPY_MODEL_04de8865e6ae4d61934256c7a85712a0"
          }
        },
        "624279bda8a64511a1e335230521d6fc": {
          "model_module": "@jupyter-widgets/controls",
          "model_name": "ProgressStyleModel",
          "state": {
            "_view_name": "StyleView",
            "_model_name": "ProgressStyleModel",
            "description_width": "initial",
            "_view_module": "@jupyter-widgets/base",
            "_model_module_version": "1.5.0",
            "_view_count": null,
            "_view_module_version": "1.2.0",
            "bar_color": null,
            "_model_module": "@jupyter-widgets/controls"
          }
        },
        "0c6c251369c74125867efa75ab79768e": {
          "model_module": "@jupyter-widgets/base",
          "model_name": "LayoutModel",
          "state": {
            "_view_name": "LayoutView",
            "grid_template_rows": null,
            "right": null,
            "justify_content": null,
            "_view_module": "@jupyter-widgets/base",
            "overflow": null,
            "_model_module_version": "1.2.0",
            "_view_count": null,
            "flex_flow": null,
            "width": null,
            "min_width": null,
            "border": null,
            "align_items": null,
            "bottom": null,
            "_model_module": "@jupyter-widgets/base",
            "top": null,
            "grid_column": null,
            "overflow_y": null,
            "overflow_x": null,
            "grid_auto_flow": null,
            "grid_area": null,
            "grid_template_columns": null,
            "flex": null,
            "_model_name": "LayoutModel",
            "justify_items": null,
            "grid_row": null,
            "max_height": null,
            "align_content": null,
            "visibility": null,
            "align_self": null,
            "height": null,
            "min_height": null,
            "padding": null,
            "grid_auto_rows": null,
            "grid_gap": null,
            "max_width": null,
            "order": null,
            "_view_module_version": "1.2.0",
            "grid_template_areas": null,
            "object_position": null,
            "object_fit": null,
            "grid_auto_columns": null,
            "margin": null,
            "display": null,
            "left": null
          }
        },
        "4198e6897cbf45baa2a1a8c4d15dff85": {
          "model_module": "@jupyter-widgets/controls",
          "model_name": "DescriptionStyleModel",
          "state": {
            "_view_name": "StyleView",
            "_model_name": "DescriptionStyleModel",
            "description_width": "",
            "_view_module": "@jupyter-widgets/base",
            "_model_module_version": "1.5.0",
            "_view_count": null,
            "_view_module_version": "1.2.0",
            "_model_module": "@jupyter-widgets/controls"
          }
        },
        "04de8865e6ae4d61934256c7a85712a0": {
          "model_module": "@jupyter-widgets/base",
          "model_name": "LayoutModel",
          "state": {
            "_view_name": "LayoutView",
            "grid_template_rows": null,
            "right": null,
            "justify_content": null,
            "_view_module": "@jupyter-widgets/base",
            "overflow": null,
            "_model_module_version": "1.2.0",
            "_view_count": null,
            "flex_flow": null,
            "width": null,
            "min_width": null,
            "border": null,
            "align_items": null,
            "bottom": null,
            "_model_module": "@jupyter-widgets/base",
            "top": null,
            "grid_column": null,
            "overflow_y": null,
            "overflow_x": null,
            "grid_auto_flow": null,
            "grid_area": null,
            "grid_template_columns": null,
            "flex": null,
            "_model_name": "LayoutModel",
            "justify_items": null,
            "grid_row": null,
            "max_height": null,
            "align_content": null,
            "visibility": null,
            "align_self": null,
            "height": null,
            "min_height": null,
            "padding": null,
            "grid_auto_rows": null,
            "grid_gap": null,
            "max_width": null,
            "order": null,
            "_view_module_version": "1.2.0",
            "grid_template_areas": null,
            "object_position": null,
            "object_fit": null,
            "grid_auto_columns": null,
            "margin": null,
            "display": null,
            "left": null
          }
        },
        "48233a5cdab9415ea9c6d82efa5b466c": {
          "model_module": "@jupyter-widgets/controls",
          "model_name": "HBoxModel",
          "state": {
            "_view_name": "HBoxView",
            "_dom_classes": [],
            "_model_name": "HBoxModel",
            "_view_module": "@jupyter-widgets/controls",
            "_model_module_version": "1.5.0",
            "_view_count": null,
            "_view_module_version": "1.5.0",
            "box_style": "",
            "layout": "IPY_MODEL_6531af6dd72146f7a20f4828d59a6a68",
            "_model_module": "@jupyter-widgets/controls",
            "children": [
              "IPY_MODEL_518f0207927f48198fb8b85666641846",
              "IPY_MODEL_341ad478e2664620b4c2653e6d46fcf2"
            ]
          }
        },
        "6531af6dd72146f7a20f4828d59a6a68": {
          "model_module": "@jupyter-widgets/base",
          "model_name": "LayoutModel",
          "state": {
            "_view_name": "LayoutView",
            "grid_template_rows": null,
            "right": null,
            "justify_content": null,
            "_view_module": "@jupyter-widgets/base",
            "overflow": null,
            "_model_module_version": "1.2.0",
            "_view_count": null,
            "flex_flow": null,
            "width": null,
            "min_width": null,
            "border": null,
            "align_items": null,
            "bottom": null,
            "_model_module": "@jupyter-widgets/base",
            "top": null,
            "grid_column": null,
            "overflow_y": null,
            "overflow_x": null,
            "grid_auto_flow": null,
            "grid_area": null,
            "grid_template_columns": null,
            "flex": null,
            "_model_name": "LayoutModel",
            "justify_items": null,
            "grid_row": null,
            "max_height": null,
            "align_content": null,
            "visibility": null,
            "align_self": null,
            "height": null,
            "min_height": null,
            "padding": null,
            "grid_auto_rows": null,
            "grid_gap": null,
            "max_width": null,
            "order": null,
            "_view_module_version": "1.2.0",
            "grid_template_areas": null,
            "object_position": null,
            "object_fit": null,
            "grid_auto_columns": null,
            "margin": null,
            "display": null,
            "left": null
          }
        },
        "518f0207927f48198fb8b85666641846": {
          "model_module": "@jupyter-widgets/controls",
          "model_name": "FloatProgressModel",
          "state": {
            "_view_name": "ProgressView",
            "style": "IPY_MODEL_1b34676f08ee419eaed42be2d16cd3ef",
            "_dom_classes": [],
            "description": "100%",
            "_model_name": "FloatProgressModel",
            "bar_style": "success",
            "max": 50,
            "_view_module": "@jupyter-widgets/controls",
            "_model_module_version": "1.5.0",
            "value": 50,
            "_view_count": null,
            "_view_module_version": "1.5.0",
            "orientation": "horizontal",
            "min": 0,
            "description_tooltip": null,
            "_model_module": "@jupyter-widgets/controls",
            "layout": "IPY_MODEL_2433be9fa2d14a0fb47c266cd308f3c6"
          }
        },
        "341ad478e2664620b4c2653e6d46fcf2": {
          "model_module": "@jupyter-widgets/controls",
          "model_name": "HTMLModel",
          "state": {
            "_view_name": "HTMLView",
            "style": "IPY_MODEL_ceb316dd152c4f4597953d4fb8b32d67",
            "_dom_classes": [],
            "description": "",
            "_model_name": "HTMLModel",
            "placeholder": "​",
            "_view_module": "@jupyter-widgets/controls",
            "_model_module_version": "1.5.0",
            "value": " 50/50 [02:11&lt;00:00,  2.63s/it]",
            "_view_count": null,
            "_view_module_version": "1.5.0",
            "description_tooltip": null,
            "_model_module": "@jupyter-widgets/controls",
            "layout": "IPY_MODEL_e6dd8acf627145c4a85553c582ea5a6b"
          }
        },
        "1b34676f08ee419eaed42be2d16cd3ef": {
          "model_module": "@jupyter-widgets/controls",
          "model_name": "ProgressStyleModel",
          "state": {
            "_view_name": "StyleView",
            "_model_name": "ProgressStyleModel",
            "description_width": "initial",
            "_view_module": "@jupyter-widgets/base",
            "_model_module_version": "1.5.0",
            "_view_count": null,
            "_view_module_version": "1.2.0",
            "bar_color": null,
            "_model_module": "@jupyter-widgets/controls"
          }
        },
        "2433be9fa2d14a0fb47c266cd308f3c6": {
          "model_module": "@jupyter-widgets/base",
          "model_name": "LayoutModel",
          "state": {
            "_view_name": "LayoutView",
            "grid_template_rows": null,
            "right": null,
            "justify_content": null,
            "_view_module": "@jupyter-widgets/base",
            "overflow": null,
            "_model_module_version": "1.2.0",
            "_view_count": null,
            "flex_flow": null,
            "width": null,
            "min_width": null,
            "border": null,
            "align_items": null,
            "bottom": null,
            "_model_module": "@jupyter-widgets/base",
            "top": null,
            "grid_column": null,
            "overflow_y": null,
            "overflow_x": null,
            "grid_auto_flow": null,
            "grid_area": null,
            "grid_template_columns": null,
            "flex": null,
            "_model_name": "LayoutModel",
            "justify_items": null,
            "grid_row": null,
            "max_height": null,
            "align_content": null,
            "visibility": null,
            "align_self": null,
            "height": null,
            "min_height": null,
            "padding": null,
            "grid_auto_rows": null,
            "grid_gap": null,
            "max_width": null,
            "order": null,
            "_view_module_version": "1.2.0",
            "grid_template_areas": null,
            "object_position": null,
            "object_fit": null,
            "grid_auto_columns": null,
            "margin": null,
            "display": null,
            "left": null
          }
        },
        "ceb316dd152c4f4597953d4fb8b32d67": {
          "model_module": "@jupyter-widgets/controls",
          "model_name": "DescriptionStyleModel",
          "state": {
            "_view_name": "StyleView",
            "_model_name": "DescriptionStyleModel",
            "description_width": "",
            "_view_module": "@jupyter-widgets/base",
            "_model_module_version": "1.5.0",
            "_view_count": null,
            "_view_module_version": "1.2.0",
            "_model_module": "@jupyter-widgets/controls"
          }
        },
        "e6dd8acf627145c4a85553c582ea5a6b": {
          "model_module": "@jupyter-widgets/base",
          "model_name": "LayoutModel",
          "state": {
            "_view_name": "LayoutView",
            "grid_template_rows": null,
            "right": null,
            "justify_content": null,
            "_view_module": "@jupyter-widgets/base",
            "overflow": null,
            "_model_module_version": "1.2.0",
            "_view_count": null,
            "flex_flow": null,
            "width": null,
            "min_width": null,
            "border": null,
            "align_items": null,
            "bottom": null,
            "_model_module": "@jupyter-widgets/base",
            "top": null,
            "grid_column": null,
            "overflow_y": null,
            "overflow_x": null,
            "grid_auto_flow": null,
            "grid_area": null,
            "grid_template_columns": null,
            "flex": null,
            "_model_name": "LayoutModel",
            "justify_items": null,
            "grid_row": null,
            "max_height": null,
            "align_content": null,
            "visibility": null,
            "align_self": null,
            "height": null,
            "min_height": null,
            "padding": null,
            "grid_auto_rows": null,
            "grid_gap": null,
            "max_width": null,
            "order": null,
            "_view_module_version": "1.2.0",
            "grid_template_areas": null,
            "object_position": null,
            "object_fit": null,
            "grid_auto_columns": null,
            "margin": null,
            "display": null,
            "left": null
          }
        }
      }
    }
  },
  "cells": [
    {
      "cell_type": "markdown",
      "metadata": {
        "id": "view-in-github",
        "colab_type": "text"
      },
      "source": [
        "<a href=\"https://colab.research.google.com/github/treyra/CS155_miniproject3/blob/main/Indecision_Trees_Notebook_MiniProject_3.ipynb\" target=\"_parent\"><img src=\"https://colab.research.google.com/assets/colab-badge.svg\" alt=\"Open In Colab\"/></a>"
      ]
    },
    {
      "cell_type": "markdown",
      "metadata": {
        "id": "IqIVzr9fXRz3"
      },
      "source": [
        "#Data Pre-processing\r\n",
        "\r\n"
      ]
    },
    {
      "cell_type": "code",
      "metadata": {
        "id": "kwUm54mhYliJ"
      },
      "source": [
        "import numpy as np\r\n",
        "from tqdm.notebook import tqdm"
      ],
      "execution_count": null,
      "outputs": []
    },
    {
      "cell_type": "code",
      "metadata": {
        "colab": {
          "base_uri": "https://localhost:8080/",
          "height": 36
        },
        "id": "CBwIp4TQYeT_",
        "outputId": "94d887dd-232b-4661-b5a3-83541aba8f64"
      },
      "source": [
        "# read in the data\n",
        "# Import Data\n",
        "data = np.genfromtxt('https://raw.githubusercontent.com/lakigigar/Caltech-CS155-2021/main/projects/project3/data/shakespeare.txt',delimiter='\\t',dtype=None,encoding='ISO-8859-1')\n",
        "data[-15]"
      ],
      "execution_count": null,
      "outputs": [
        {
          "output_type": "execute_result",
          "data": {
            "application/vnd.google.colaboratory.intrinsic+json": {
              "type": "string"
            },
            "text/plain": [
              "'154'"
            ]
          },
          "metadata": {
            "tags": []
          },
          "execution_count": 2
        }
      ]
    },
    {
      "cell_type": "code",
      "metadata": {
        "id": "FWjzTm1TY-Us"
      },
      "source": [
        "# make all words lower case\n",
        "for i in range(len(data)):\n",
        "  data[i]=data[i].lower()"
      ],
      "execution_count": null,
      "outputs": []
    },
    {
      "cell_type": "code",
      "metadata": {
        "id": "DTZh0lAeajPB"
      },
      "source": [
        "# remove space at beginning of line\n",
        "for i in range(len(data)):\n",
        "  while data[i][0] == ' ':\n",
        "    line = list(data[i])\n",
        "    data[i] = \"\".join(line[1:len(line)])"
      ],
      "execution_count": null,
      "outputs": []
    },
    {
      "cell_type": "code",
      "metadata": {
        "id": "faG6yVLGbrUK"
      },
      "source": [
        "# remove \\n\n",
        "for i in range(len(data)):\n",
        "        data[i] = data[i].replace('\\n', '')"
      ],
      "execution_count": null,
      "outputs": []
    },
    {
      "cell_type": "code",
      "metadata": {
        "id": "EFb9hQSUbz_d"
      },
      "source": [
        "# remove punctuation\n",
        "to_remove = ['.', ',', ';', ':', '?', '!', '-', \"'\",\"(\",\")\"]\n",
        "for k in range(len(to_remove)):\n",
        "  for i in range(len(data)):\n",
        "    data[i] = ''.join([j for j in data[i] if j not in to_remove])"
      ],
      "execution_count": null,
      "outputs": []
    },
    {
      "cell_type": "code",
      "metadata": {
        "id": "7WOHcW20X2sf"
      },
      "source": [
        "# remove empty lines\n",
        "# find indices to remove\n",
        "remove_idx = []\n",
        "for i in range(len(data)):\n",
        "  if data[i] == '\\n':\n",
        "    remove_idx.append(i)\n",
        "  if data[i] == '':\n",
        "    remove_idx.append(i)\n",
        "# remove\n",
        "data_clean = []\n",
        "for k in range(len(data)):\n",
        "  if k not in remove_idx:\n",
        "    data_clean.append(data[k])\n",
        "data = data_clean"
      ],
      "execution_count": null,
      "outputs": []
    },
    {
      "cell_type": "code",
      "metadata": {
        "colab": {
          "base_uri": "https://localhost:8080/"
        },
        "id": "ijE-a5WWdmi9",
        "outputId": "c7cd4a87-0733-463f-ea8c-d3d0a89656c8"
      },
      "source": [
        "# remove sonnets which are too long or too short\n",
        "# always 14 lines long\n",
        "# check how long each sonnet is - should be 14!\n",
        "digit_idxs = []\n",
        "for i in range(len(data)):\n",
        "  if data[i].isdigit():\n",
        "    digit_idxs.append(i)\n",
        "#print(digit_idxs)\n",
        "# get difference\n",
        "length = np.diff(np.array(digit_idxs))\n",
        "#print(length)\n",
        "# remove the sonnet with too many or too few lines\n",
        "remove_nbrs = dict()\n",
        "for i in range(len(length)):\n",
        "  if length[i]!=15:\n",
        "    remove_nbrs.update({data[digit_idxs[i]]:length[i]})\n",
        "# remove the sonnets with the numbers in remove_numbers\n",
        "remove_idx = []\n",
        "for i in range(len(data)):\n",
        "  if data[i] in remove_nbrs:\n",
        "    print(data[i])\n",
        "    for k in range(0,remove_nbrs[data[i]]):\n",
        "      remove_idx.append(i+k)\n",
        "# remove\n",
        "data_clean = []\n",
        "for k in range(len(data)):\n",
        "  if k not in remove_idx:\n",
        "    data_clean.append(data[k])\n",
        "data = data_clean"
      ],
      "execution_count": null,
      "outputs": [
        {
          "output_type": "stream",
          "text": [
            "99\n",
            "126\n"
          ],
          "name": "stdout"
        }
      ]
    },
    {
      "cell_type": "code",
      "metadata": {
        "id": "HfeWb8KGYI4C"
      },
      "source": [
        "# remove numbers\n",
        "for i in range(len(data)):\n",
        "  data[i] = ''.join([j for j in data[i] if not j.isdigit()])\n",
        "# remove created empty lines again\n",
        "# find indices to remove\n",
        "remove_idx = []\n",
        "for i in range(len(data)):\n",
        "  if data[i] == '\\n':\n",
        "    remove_idx.append(i)\n",
        "  if data[i] == '':\n",
        "    remove_idx.append(i)\n",
        "# remove\n",
        "data_clean = []\n",
        "for k in range(len(data)):\n",
        "  if k not in remove_idx:\n",
        "    data_clean.append(data[k])\n",
        "data = data_clean"
      ],
      "execution_count": null,
      "outputs": []
    },
    {
      "cell_type": "code",
      "metadata": {
        "id": "sDdcig86YOrb"
      },
      "source": [
        "# this is the data per line\n",
        "data_by_line = data"
      ],
      "execution_count": null,
      "outputs": []
    },
    {
      "cell_type": "code",
      "metadata": {
        "id": "BZhwdlDLfaTK"
      },
      "source": [
        "# get data per sonnet\n",
        "# split up in sonnets\n",
        "nr_sonnets = len(data)/14\n",
        "data_by_sonnet = [None] * int(nr_sonnets)\n",
        "i = 0\n",
        "for k in range(0, len(data), 14):\n",
        "  cString = ''\n",
        "  for idx in range(14):\n",
        "    #print(idx)\n",
        "    if idx != 0:\n",
        "      try:\n",
        "        cString = cString + ' ' + data[k + idx]\n",
        "      except:\n",
        "        import pdb; pdb.set_trace()\n",
        "    else: \n",
        "      cString = data[k]\n",
        "  data_by_sonnet[i] = cString\n",
        "  i+=1"
      ],
      "execution_count": null,
      "outputs": []
    },
    {
      "cell_type": "code",
      "metadata": {
        "colab": {
          "base_uri": "https://localhost:8080/"
        },
        "id": "DluK2BGo6BYY",
        "outputId": "5965935b-464a-4f42-f858-dc307d57f5d0"
      },
      "source": [
        "# mount drive\r\n",
        "# save data by line and data by sonnet\r\n",
        "from google.colab import drive\r\n",
        "drive.mount('./drive',force_remount=True)"
      ],
      "execution_count": null,
      "outputs": [
        {
          "output_type": "stream",
          "text": [
            "Mounted at ./drive\n"
          ],
          "name": "stdout"
        }
      ]
    },
    {
      "cell_type": "code",
      "metadata": {
        "id": "D9dxC62XZSzC"
      },
      "source": [
        "# make new file for data per line\n",
        "with open('/content/drive/My Drive/CS155_miniproject_3/data_line.txt', 'w') as f:\n",
        "  for item in data_by_line:\n",
        "        f.write(\"%s\\n\" % item)"
      ],
      "execution_count": null,
      "outputs": []
    },
    {
      "cell_type": "code",
      "metadata": {
        "id": "QY0xUd3KbjXB"
      },
      "source": [
        "# make new file for data per sonnet\n",
        "with open('/content/drive/My Drive/CS155_miniproject_3/data_sonnet.txt', 'w') as f:\n",
        "  for item in data_by_sonnet:\n",
        "        f.write(\"%s\\n\" % item)"
      ],
      "execution_count": null,
      "outputs": []
    },
    {
      "cell_type": "markdown",
      "metadata": {
        "id": "1ibninVYXaKH"
      },
      "source": [
        "We can also load the pre-processed data directly as:"
      ]
    },
    {
      "cell_type": "code",
      "metadata": {
        "id": "IR0TkrchXYb9"
      },
      "source": [
        "# load the data - for now from drive until we have repo\r\n",
        "# open existing text file\r\n",
        "data_sonnet_raw = np.genfromtxt('https://raw.githubusercontent.com/treyra/CS155_miniproject3/main/data/data_sonnet.txt',delimiter='\\t',dtype=None,encoding='ISO-8859-1')\r\n",
        "data_line = np.genfromtxt('https://raw.githubusercontent.com/treyra/CS155_miniproject3/main/data/data_line.txt',delimiter='\\t',dtype=None,encoding='ISO-8859-1')"
      ],
      "execution_count": null,
      "outputs": []
    },
    {
      "cell_type": "markdown",
      "metadata": {
        "id": "_67hRGyojhRL"
      },
      "source": [
        "#HMM Model\r\n",
        "\r\n",
        "Based off of HW 6's solution code"
      ]
    },
    {
      "cell_type": "code",
      "metadata": {
        "id": "YYCseFowX1pv"
      },
      "source": [
        "class HiddenMarkovModel:\r\n",
        "    '''\r\n",
        "    Class implementation of Hidden Markov Models.\r\n",
        "    '''\r\n",
        "\r\n",
        "    def __init__(self, A, O):\r\n",
        "        '''\r\n",
        "        Initializes an HMM. Assumes the following:\r\n",
        "            - States and observations are integers starting from 0. \r\n",
        "            - There is a start state (see notes on A_start below). There\r\n",
        "              is no integer associated with the start state, only\r\n",
        "              probabilities in the vector A_start.\r\n",
        "            - There is no end state. \r\n",
        "        Arguments:\r\n",
        "            A:          Transition matrix with dimensions L x L.\r\n",
        "                        The (i, j)^th element is the probability of\r\n",
        "                        transitioning from state i to state j. Note that\r\n",
        "                        this does not include the starting probabilities.\r\n",
        "            O:          Observation matrix with dimensions L x D.\r\n",
        "                        The (i, j)^th element is the probability of\r\n",
        "                        emitting observation j given state i.\r\n",
        "        Parameters:\r\n",
        "            L:          Number of states.\r\n",
        "            D:          Number of observations.\r\n",
        "            \r\n",
        "            A:          The transition matrix.\r\n",
        "            \r\n",
        "            O:          The observation matrix.\r\n",
        "            \r\n",
        "            A_start:    Starting transition probabilities. The i^th element\r\n",
        "                        is the probability of transitioning from the start\r\n",
        "                        state to state i. For simplicity, we assume that\r\n",
        "                        this distribution is uniform.\r\n",
        "        '''\r\n",
        "\r\n",
        "        self.L = len(A)\r\n",
        "        self.D = len(O[0])\r\n",
        "        self.A = np.array(A)\r\n",
        "        self.O = np.array(O)\r\n",
        "        self.A_start = [1. / self.L for _ in range(self.L)]\r\n",
        "\r\n",
        "\r\n",
        "    def viterbi(self, x):\r\n",
        "        '''\r\n",
        "        Uses the Viterbi algorithm to find the max probability state \r\n",
        "        sequence corresponding to a given input sequence.\r\n",
        "        Arguments:\r\n",
        "            x:          Input sequence in the form of a list of length M,\r\n",
        "                        consisting of integers ranging from 0 to D - 1.\r\n",
        "        Returns:\r\n",
        "            max_seq:    Output sequence corresponding to x with the highest\r\n",
        "                        probability.\r\n",
        "        '''\r\n",
        "\r\n",
        "        M = len(x)      # Length of sequence.\r\n",
        "\r\n",
        "        # The (i, j)^th elements of probs and seqs are the max probability\r\n",
        "        # of the prefix of length i ending in state j and the prefix\r\n",
        "        # that gives this probability, respectively.\r\n",
        "        #\r\n",
        "        # For instance, probs[1][0] is the probability of the prefix of\r\n",
        "        # length 1 ending in state 0.\r\n",
        "        probs = [[0. for _ in range(self.L)] for _ in range(M + 1)]\r\n",
        "        seqs = [['' for _ in range(self.L)] for _ in range(M + 1)]\r\n",
        "\r\n",
        "        # Calculate initial prefixes and probabilities.\r\n",
        "        for curr in range(self.L):\r\n",
        "            probs[1][curr] = self.A_start[curr] * self.O[curr][x[0]]\r\n",
        "            seqs[1][curr] = str(curr)\r\n",
        "\r\n",
        "        # Calculate best prefixes and probabilities throughout sequence.\r\n",
        "        for t in range(2, M + 1):\r\n",
        "            # Iterate over all possible current states.\r\n",
        "            for curr in range(self.L):\r\n",
        "                max_prob = float(\"-inf\")\r\n",
        "                max_prefix = ''\r\n",
        "\r\n",
        "                # Iterate over all possible previous states to find one\r\n",
        "                # that would maximize the probability of the current state.\r\n",
        "                for prev in range(self.L):\r\n",
        "                    curr_prob = probs[t - 1][prev] \\\r\n",
        "                                * self.A[prev][curr] \\\r\n",
        "                                * self.O[curr][x[t - 1]]\r\n",
        "\r\n",
        "                    # Continually update max probability and prefix.\r\n",
        "                    if curr_prob >= max_prob:\r\n",
        "                        max_prob = curr_prob\r\n",
        "                        max_prefix = seqs[t - 1][prev]\r\n",
        "\r\n",
        "                # Store the max probability and prefix.\r\n",
        "                probs[t][curr] = max_prob\r\n",
        "                seqs[t][curr] = max_prefix + str(curr)\r\n",
        "\r\n",
        "        # Find the index of the max probability of a sequence ending in x^M\r\n",
        "        # and the corresponding output sequence.\r\n",
        "        max_i = max(enumerate(probs[-1]), key=lambda x: x[1])[0]\r\n",
        "        max_seq = seqs[-1][max_i]\r\n",
        "\r\n",
        "        return max_seq\r\n",
        "\r\n",
        "\r\n",
        "    def forward(self, x, normalize=False):\r\n",
        "        '''\r\n",
        "        Uses the forward algorithm to calculate the alpha probability\r\n",
        "        vectors corresponding to a given input sequence.\r\n",
        "        Arguments:\r\n",
        "            x:          Input sequence in the form of a list of length M,\r\n",
        "                        consisting of integers ranging from 0 to D - 1.\r\n",
        "            normalize:  Whether to normalize each set of alpha_j(i) vectors\r\n",
        "                        at each i. This is useful to avoid underflow in\r\n",
        "                        unsupervised learning.\r\n",
        "        Returns:\r\n",
        "            alphas:     Vector of alphas.\r\n",
        "                        The (i, j)^th element of alphas is alpha_j(i),\r\n",
        "                        i.e. the probability of observing prefix x^1:i\r\n",
        "                        and state y^i = j.\r\n",
        "                        e.g. alphas[1][0] corresponds to the probability\r\n",
        "                        of observing x^1:1, i.e. the first observation,\r\n",
        "                        given that y^1 = 0, i.e. the first state is 0.\r\n",
        "        '''\r\n",
        "\r\n",
        "        M = len(x)      # Length of sequence.\r\n",
        "        alphas = [[0. for _ in range(self.L)] for _ in range(M + 1)]\r\n",
        "\r\n",
        "        # Note that alpha_j(0) is already correct for all j's.\r\n",
        "        # Calculate alpha_j(1) for all j's.\r\n",
        "        for curr in range(self.L):\r\n",
        "            alphas[1][curr] = self.A_start[curr] * self.O[curr][x[0]]\r\n",
        "\r\n",
        "        # Calculate alphas throughout sequence.\r\n",
        "        for t in range(1, M):\r\n",
        "            # Iterate over all possible current states.\r\n",
        "            for curr in range(self.L):\r\n",
        "                prob = 0\r\n",
        "\r\n",
        "                # Iterate over all possible previous states to accumulate\r\n",
        "                # the probabilities of all paths from the start state to\r\n",
        "                # the current state.\r\n",
        "                for prev in range(self.L):\r\n",
        "                    prob += alphas[t][prev] \\\r\n",
        "                            * self.A[prev][curr] \\\r\n",
        "                            * self.O[curr][x[t]]\r\n",
        "\r\n",
        "                # Store the accumulated probability.\r\n",
        "                alphas[t + 1][curr] = prob\r\n",
        "\r\n",
        "            if normalize:\r\n",
        "                norm = sum(alphas[t + 1])\r\n",
        "                for curr in range(self.L):\r\n",
        "                    alphas[t + 1][curr] /= norm\r\n",
        "\r\n",
        "        return alphas\r\n",
        "\r\n",
        "\r\n",
        "    def backward(self, x, normalize=False):\r\n",
        "        '''\r\n",
        "        Uses the backward algorithm to calculate the beta probability\r\n",
        "        vectors corresponding to a given input sequence.\r\n",
        "        Arguments:\r\n",
        "            x:          Input sequence in the form of a list of length M,\r\n",
        "                        consisting of integers ranging from 0 to D - 1.\r\n",
        "            normalize:  Whether to normalize each set of alpha_j(i) vectors\r\n",
        "                        at each i. This is useful to avoid underflow in\r\n",
        "                        unsupervised learning.\r\n",
        "        Returns:\r\n",
        "            betas:      Vector of betas.\r\n",
        "                        The (i, j)^th element of betas is beta_j(i), i.e.\r\n",
        "                        the probability of observing prefix x^(i+1):M and\r\n",
        "                        state y^i = j.\r\n",
        "                        e.g. betas[M][0] corresponds to the probability\r\n",
        "                        of observing x^M+1:M, i.e. no observations,\r\n",
        "                        given that y^M = 0, i.e. the last state is 0.\r\n",
        "        '''\r\n",
        "\r\n",
        "        M = len(x)      # Length of sequence.\r\n",
        "        betas = [[0. for _ in range(self.L)] for _ in range(M + 1)]\r\n",
        "\r\n",
        "        # Initialize initial betas.\r\n",
        "        for curr in range(self.L):\r\n",
        "            betas[-1][curr] = 1\r\n",
        "\r\n",
        "        # Calculate betas throughout sequence.\r\n",
        "        for t in range(-1, -M - 1, -1):\r\n",
        "            # Iterate over all possible current states.\r\n",
        "            for curr in range(self.L):\r\n",
        "                prob = 0\r\n",
        "\r\n",
        "                # Iterate over all possible next states to accumulate\r\n",
        "                # the probabilities of all paths from the end state to\r\n",
        "                # the current state.\r\n",
        "                for nxt in range(self.L):\r\n",
        "                    if t == -M:\r\n",
        "                        prob += betas[t][nxt] \\\r\n",
        "                                * self.A_start[nxt] \\\r\n",
        "                                * self.O[nxt][x[t]]\r\n",
        "\r\n",
        "                    else:\r\n",
        "                        prob += betas[t][nxt] \\\r\n",
        "                                * self.A[curr][nxt] \\\r\n",
        "                                * self.O[nxt][x[t]]\r\n",
        "\r\n",
        "                # Store the accumulated probability.\r\n",
        "                betas[t - 1][curr] = prob\r\n",
        "\r\n",
        "            if normalize:\r\n",
        "                norm = sum(betas[t - 1])\r\n",
        "                for curr in range(self.L):\r\n",
        "                    betas[t - 1][curr] /= norm\r\n",
        "\r\n",
        "        return betas\r\n",
        "\r\n",
        "\r\n",
        "    def supervised_learning(self, X, Y):\r\n",
        "        '''\r\n",
        "        Trains the HMM using the Maximum Likelihood closed form solutions\r\n",
        "        for the transition and observation matrices on a labeled\r\n",
        "        datset (X, Y). Note that this method does not return anything, but\r\n",
        "        instead updates the attributes of the HMM object.\r\n",
        "        Arguments:\r\n",
        "            X:          A dataset consisting of input sequences in the form\r\n",
        "                        of lists of variable length, consisting of integers \r\n",
        "                        ranging from 0 to D - 1. In other words, a list of\r\n",
        "                        lists.\r\n",
        "            Y:          A dataset consisting of state sequences in the form\r\n",
        "                        of lists of variable length, consisting of integers \r\n",
        "                        ranging from 0 to L - 1. In other words, a list of\r\n",
        "                        lists.\r\n",
        "                        Note that the elements in X line up with those in Y.\r\n",
        "        '''\r\n",
        "\r\n",
        "        # Calculate each element of A using the M-step formulas.\r\n",
        "        for curr in range(self.L):\r\n",
        "            for nxt in range(self.L):\r\n",
        "                num = 0.\r\n",
        "                den = 0.\r\n",
        "\r\n",
        "                for i in range(len(X)):\r\n",
        "                    x = X[i]\r\n",
        "                    y = Y[i]\r\n",
        "                    M = len(x)\r\n",
        "        \r\n",
        "                    num += len([1 for i in range(M - 1) \\\r\n",
        "                                if y[i] == curr and y[i + 1] == nxt])\r\n",
        "                    den += len([1 for i in range(M - 1) if y[i] == curr])\r\n",
        "\r\n",
        "                self.A[curr][nxt] = num / den\r\n",
        "\r\n",
        "        # Calculate each element of O using the M-step formulas.\r\n",
        "        for curr in range(self.L):\r\n",
        "            for xt in range(self.D):\r\n",
        "                num = 0.\r\n",
        "                den = 0.\r\n",
        "\r\n",
        "                for i in range(len(X)):\r\n",
        "                    x = X[i]\r\n",
        "                    y = Y[i]\r\n",
        "                    M = len(x)\r\n",
        "        \r\n",
        "                    num += len([1 for i in range(M) \\\r\n",
        "                                if y[i] == curr and x[i] == xt])\r\n",
        "                    den += len([1 for i in range(M) if y[i] == curr])\r\n",
        "\r\n",
        "                self.O[curr][xt] = num / den\r\n",
        "\r\n",
        "\r\n",
        "    def unsupervised_learning(self, X, N_iters):\r\n",
        "        '''\r\n",
        "        Trains the HMM using the Baum-Welch algorithm on an unlabeled\r\n",
        "        datset X. Note that this method does not return anything, but\r\n",
        "        instead updates the attributes of the HMM object.\r\n",
        "        Arguments:\r\n",
        "            X:          A dataset consisting of input sequences in the form\r\n",
        "                        of lists of length M, consisting of integers ranging\r\n",
        "                        from 0 to D - 1. In other words, a list of lists.\r\n",
        "            N_iters:    The number of iterations to train on.\r\n",
        "        '''\r\n",
        "\r\n",
        "        # Note that a comment starting with 'E' refers to the fact that\r\n",
        "        # the code under the comment is part of the E-step.\r\n",
        "\r\n",
        "        # Similarly, a comment starting with 'M' refers to the fact that\r\n",
        "        # the code under the comment is part of the M-step.\r\n",
        "\r\n",
        "        for iteration in tqdm(range(1, N_iters + 1)):\r\n",
        "            if iteration % 10 == 0:\r\n",
        "                print(\"Iteration: \" + str(iteration))\r\n",
        "\r\n",
        "            # Numerator and denominator for the update terms of A and O.\r\n",
        "            A_num = [[0. for i in range(self.L)] for j in range(self.L)]\r\n",
        "            O_num = [[0. for i in range(self.D)] for j in range(self.L)]\r\n",
        "            A_den = [0. for i in range(self.L)]\r\n",
        "            O_den = [0. for i in range(self.L)]\r\n",
        "\r\n",
        "            # For each input sequence:\r\n",
        "            for x in X:\r\n",
        "                M = len(x)\r\n",
        "                # Compute the alpha and beta probability vectors.\r\n",
        "                alphas = self.forward(x, normalize=True)\r\n",
        "                betas = self.backward(x, normalize=True)\r\n",
        "\r\n",
        "                # E: Update the expected observation probabilities for a\r\n",
        "                # given (x, y).\r\n",
        "                # The i^th index is P(y^t = i, x).\r\n",
        "                for t in range(1, M + 1):\r\n",
        "                    P_curr = [0. for _ in range(self.L)]\r\n",
        "                    \r\n",
        "                    for curr in range(self.L):\r\n",
        "                        P_curr[curr] = alphas[t][curr] * betas[t][curr]\r\n",
        "\r\n",
        "                    # Normalize the probabilities.\r\n",
        "                    norm = sum(P_curr)\r\n",
        "                    for curr in range(len(P_curr)):\r\n",
        "                        P_curr[curr] /= norm\r\n",
        "\r\n",
        "                    for curr in range(self.L):\r\n",
        "                        if t != M:\r\n",
        "                            A_den[curr] += P_curr[curr]\r\n",
        "                        O_den[curr] += P_curr[curr]\r\n",
        "                        O_num[curr][x[t - 1]] += P_curr[curr]\r\n",
        "\r\n",
        "                # E: Update the expectedP(y^j = a, y^j+1 = b, x) for given (x, y)\r\n",
        "                for t in range(1, M):\r\n",
        "                    P_curr_nxt = [[0. for _ in range(self.L)] for _ in range(self.L)]\r\n",
        "\r\n",
        "                    for curr in range(self.L):\r\n",
        "                        for nxt in range(self.L):\r\n",
        "                            P_curr_nxt[curr][nxt] = alphas[t][curr] \\\r\n",
        "                                                    * self.A[curr][nxt] \\\r\n",
        "                                                    * self.O[nxt][x[t]] \\\r\n",
        "                                                    * betas[t + 1][nxt]\r\n",
        "\r\n",
        "                    # Normalize:\r\n",
        "                    norm = 0\r\n",
        "                    for lst in P_curr_nxt:\r\n",
        "                        norm += sum(lst)\r\n",
        "                    for curr in range(self.L):\r\n",
        "                        for nxt in range(self.L):\r\n",
        "                            P_curr_nxt[curr][nxt] /= norm\r\n",
        "\r\n",
        "                    # Update A_num\r\n",
        "                    for curr in range(self.L):\r\n",
        "                        for nxt in range(self.L):\r\n",
        "                            A_num[curr][nxt] += P_curr_nxt[curr][nxt]\r\n",
        "\r\n",
        "            for curr in range(self.L):\r\n",
        "                for nxt in range(self.L):\r\n",
        "                    self.A[curr][nxt] = A_num[curr][nxt] / A_den[curr]\r\n",
        "\r\n",
        "            for curr in range(self.L):\r\n",
        "                for xt in range(self.D):\r\n",
        "                    self.O[curr][xt] = O_num[curr][xt] / O_den[curr]\r\n",
        "\r\n",
        "    def generate_emission(self, M):\r\n",
        "        '''\r\n",
        "        Generates an emission of length M, assuming that the starting state\r\n",
        "        is chosen uniformly at random. \r\n",
        "        Arguments:\r\n",
        "            M:          Length of the emission to generate.\r\n",
        "        Returns:\r\n",
        "            emission:   The randomly generated emission as a list.\r\n",
        "            states:     The randomly generated states as a list.\r\n",
        "        '''\r\n",
        "\r\n",
        "        emission = []\r\n",
        "        state = random.choice(range(self.L))\r\n",
        "        states = []\r\n",
        "\r\n",
        "        for t in range(M):\r\n",
        "            # Append state.\r\n",
        "            states.append(state)\r\n",
        "\r\n",
        "            # Sample next observation.\r\n",
        "            rand_var = random.uniform(0, 1)\r\n",
        "            next_obs = 0\r\n",
        "\r\n",
        "            while rand_var > 0:\r\n",
        "                rand_var -= self.O[state][next_obs]\r\n",
        "                next_obs += 1\r\n",
        "\r\n",
        "            next_obs -= 1\r\n",
        "            emission.append(next_obs)\r\n",
        "\r\n",
        "            # Sample next state.\r\n",
        "            rand_var = random.uniform(0, 1)\r\n",
        "            next_state = 0\r\n",
        "\r\n",
        "            while rand_var > 0:\r\n",
        "                rand_var -= self.A[state][next_state]\r\n",
        "                next_state += 1\r\n",
        "\r\n",
        "            next_state -= 1\r\n",
        "            state = next_state\r\n",
        "\r\n",
        "        return emission, states\r\n",
        "\r\n",
        "\r\n",
        "    def probability_alphas(self, x):\r\n",
        "        '''\r\n",
        "        Finds the maximum probability of a given input sequence using\r\n",
        "        the forward algorithm.\r\n",
        "        Arguments:\r\n",
        "            x:          Input sequence in the form of a list of length M,\r\n",
        "                        consisting of integers ranging from 0 to D - 1.\r\n",
        "        Returns:\r\n",
        "            prob:       Total probability that x can occur.\r\n",
        "        '''\r\n",
        "\r\n",
        "        # Calculate alpha vectors.\r\n",
        "        alphas = self.forward(x)\r\n",
        "\r\n",
        "        # alpha_j(M) gives the probability that the output sequence ends\r\n",
        "        # in j. Summing this value over all possible states j gives the\r\n",
        "        # total probability of x paired with any output sequence, i.e. the\r\n",
        "        # probability of x.\r\n",
        "        prob = sum(alphas[-1])\r\n",
        "        return prob\r\n",
        "\r\n",
        "\r\n",
        "    def probability_betas(self, x):\r\n",
        "        '''\r\n",
        "        Finds the maximum probability of a given input sequence using\r\n",
        "        the backward algorithm.\r\n",
        "        Arguments:\r\n",
        "            x:          Input sequence in the form of a list of length M,\r\n",
        "                        consisting of integers ranging from 0 to D - 1.\r\n",
        "        Returns:\r\n",
        "            prob:       Total probability that x can occur.\r\n",
        "        '''\r\n",
        "\r\n",
        "        betas = self.backward(x)\r\n",
        "\r\n",
        "        # beta_j(0) gives the probability of the output sequence. Summing\r\n",
        "        # this over all states and then normalizing gives the total\r\n",
        "        # probability of x paired with any output sequence, i.e. the\r\n",
        "        # probability of x.\r\n",
        "        prob = sum([betas[1][k] * self.A_start[k] * self.O[k][x[0]] \\\r\n",
        "            for k in range(self.L)])\r\n",
        "\r\n",
        "        return prob\r\n",
        "\r\n",
        "\r\n",
        "def supervised_HMM(X, Y):\r\n",
        "    '''\r\n",
        "    Helper function to train a supervised HMM. The function determines the\r\n",
        "    number of unique states and observations in the given data, initializes\r\n",
        "    the transition and observation matrices, creates the HMM, and then runs\r\n",
        "    the training function for supervised learning.\r\n",
        "    Arguments:\r\n",
        "        X:          A dataset consisting of input sequences in the form\r\n",
        "                    of lists of variable length, consisting of integers \r\n",
        "                    ranging from 0 to D - 1. In other words, a list of lists.\r\n",
        "        Y:          A dataset consisting of state sequences in the form\r\n",
        "                    of lists of variable length, consisting of integers \r\n",
        "                    ranging from 0 to L - 1. In other words, a list of lists.\r\n",
        "                    Note that the elements in X line up with those in Y.\r\n",
        "    '''\r\n",
        "\r\n",
        "    # Make a set of observations.\r\n",
        "    observations = set()\r\n",
        "    for x in X:\r\n",
        "        observations |= set(x)\r\n",
        "\r\n",
        "    # Make a set of states.\r\n",
        "    states = set()\r\n",
        "    for y in Y:\r\n",
        "        states |= set(y)\r\n",
        "    \r\n",
        "    # Compute L and D.\r\n",
        "    L = len(states)\r\n",
        "    D = len(observations)\r\n",
        "\r\n",
        "    # Randomly initialize and normalize matrices A and O.\r\n",
        "    A = [[random.random() for i in range(L)] for j in range(L)]\r\n",
        "\r\n",
        "    for i in range(len(A)):\r\n",
        "        norm = sum(A[i])\r\n",
        "        for j in range(len(A[i])):\r\n",
        "            A[i][j] /= norm\r\n",
        "    \r\n",
        "    O = [[random.random() for i in range(D)] for j in range(L)]\r\n",
        "\r\n",
        "    for i in range(len(O)):\r\n",
        "        norm = sum(O[i])\r\n",
        "        for j in range(len(O[i])):\r\n",
        "            O[i][j] /= norm\r\n",
        "\r\n",
        "    # Train an HMM with labeled data.\r\n",
        "    HMM = HiddenMarkovModel(A, O)\r\n",
        "    HMM.supervised_learning(X, Y)\r\n",
        "\r\n",
        "    return HMM\r\n",
        "\r\n",
        "\r\n",
        "def unsupervised_HMM(X, n_states, N_iters,rng=np.random.RandomState(1)):\r\n",
        "    '''\r\n",
        "    Helper function to train an unsupervised HMM. The function determines the\r\n",
        "    number of unique observations in the given data, initializes\r\n",
        "    the transition and observation matrices, creates the HMM, and then runs\r\n",
        "    the training function for unsupervised learing.\r\n",
        "    Arguments:\r\n",
        "        X:          A dataset consisting of input sequences in the form\r\n",
        "                    of lists of variable length, consisting of integers \r\n",
        "                    ranging from 0 to D - 1. In other words, a list of lists.\r\n",
        "        n_states:   Number of hidden states to use in training.\r\n",
        "        \r\n",
        "        N_iters:    The number of iterations to train on.\r\n",
        "        rng:        The random number generator for reproducible result.\r\n",
        "                    Default to RandomState(1).\r\n",
        "    '''\r\n",
        "\r\n",
        "    # Make a set of observations.\r\n",
        "    observations = set()\r\n",
        "    for x in X:\r\n",
        "        observations |= set(x)\r\n",
        "    \r\n",
        "    # Compute L and D.\r\n",
        "    L = n_states\r\n",
        "    D = len(observations)\r\n",
        "\r\n",
        "    # Randomly initialize and normalize matrices A.\r\n",
        "    A = [[rng.random() for i in range(L)] for j in range(L)]\r\n",
        "\r\n",
        "    for i in range(len(A)):\r\n",
        "        norm = sum(A[i])\r\n",
        "        for j in range(len(A[i])):\r\n",
        "            A[i][j] /= norm\r\n",
        "    \r\n",
        "    # Randomly initialize and normalize matrix O.\r\n",
        "    O = [[rng.random() for i in range(D)] for j in range(L)]\r\n",
        "\r\n",
        "    for i in range(len(O)):\r\n",
        "        norm = sum(O[i])\r\n",
        "        for j in range(len(O[i])):\r\n",
        "            O[i][j] /= norm\r\n",
        "\r\n",
        "    # Train an HMM with unlabeled data.\r\n",
        "    HMM = HiddenMarkovModel(A, O)\r\n",
        "    HMM.unsupervised_learning(X, N_iters)\r\n",
        "\r\n",
        "    return HMM"
      ],
      "execution_count": null,
      "outputs": []
    },
    {
      "cell_type": "code",
      "metadata": {
        "id": "tXMxhK5HYmzu"
      },
      "source": [
        "########################################\r\n",
        "# CS/CNS/EE 155 2018\r\n",
        "# Problem Set 6\r\n",
        "#\r\n",
        "# Author:       Andrew Kang\r\n",
        "# Description:  Set 6 HMM helper\r\n",
        "########################################\r\n",
        "\r\n",
        "import re\r\n",
        "import numpy as np\r\n",
        "import matplotlib.pyplot as plt\r\n",
        "from wordcloud import WordCloud\r\n",
        "from matplotlib import animation\r\n",
        "from matplotlib.animation import FuncAnimation\r\n",
        "\r\n",
        "\r\n",
        "####################\r\n",
        "# WORDCLOUD FUNCTIONS\r\n",
        "####################\r\n",
        "\r\n",
        "def mask():\r\n",
        "    # Parameters.\r\n",
        "    r = 128\r\n",
        "    d = 2 * r + 1\r\n",
        "\r\n",
        "    # Get points in a circle.\r\n",
        "    y, x = np.ogrid[-r:d-r, -r:d-r]\r\n",
        "    circle = (x**2 + y**2 <= r**2)\r\n",
        "\r\n",
        "    # Create mask.\r\n",
        "    mask = 255 * np.ones((d, d), dtype=np.uint8)\r\n",
        "    mask[circle] = 0\r\n",
        "\r\n",
        "    return mask\r\n",
        "\r\n",
        "def text_to_wordcloud(text, max_words=50, title='', show=True):\r\n",
        "    plt.close('all')\r\n",
        "\r\n",
        "    # Generate a wordcloud image.\r\n",
        "    wordcloud = WordCloud(random_state=0,\r\n",
        "                          max_words=max_words,\r\n",
        "                          background_color='white',\r\n",
        "                          mask=mask()).generate(text)\r\n",
        "\r\n",
        "    # Show the image.\r\n",
        "    if show:\r\n",
        "        plt.imshow(wordcloud, interpolation='bilinear')\r\n",
        "        plt.axis('off')\r\n",
        "        plt.title(title, fontsize=24)\r\n",
        "        plt.show()\r\n",
        "\r\n",
        "    return wordcloud\r\n",
        "\r\n",
        "def states_to_wordclouds(hmm, obs_map, max_words=50, show=True):\r\n",
        "    # Initialize.\r\n",
        "    M = 100000\r\n",
        "    n_states = len(hmm.A)\r\n",
        "    obs_map_r = obs_map_reverser(obs_map)\r\n",
        "    wordclouds = []\r\n",
        "\r\n",
        "    # Generate a large emission.\r\n",
        "    emission, states = hmm.generate_emission(M)\r\n",
        "\r\n",
        "    # For each state, get a list of observations that have been emitted\r\n",
        "    # from that state.\r\n",
        "    obs_count = []\r\n",
        "    for i in range(n_states):\r\n",
        "        obs_lst = np.array(emission)[np.where(np.array(states) == i)[0]]\r\n",
        "        obs_count.append(obs_lst)\r\n",
        "\r\n",
        "    # For each state, convert it into a wordcloud.\r\n",
        "    for i in range(n_states):\r\n",
        "        obs_lst = obs_count[i]\r\n",
        "        sentence = [obs_map_r[j] for j in obs_lst]\r\n",
        "        sentence_str = ' '.join(sentence)\r\n",
        "\r\n",
        "        wordclouds.append(text_to_wordcloud(sentence_str, max_words=max_words, title='State %d' % i, show=show))\r\n",
        "\r\n",
        "    return wordclouds\r\n",
        "\r\n",
        "\r\n",
        "####################\r\n",
        "# HMM FUNCTIONS\r\n",
        "####################\r\n",
        "\r\n",
        "def parse_observations(text):\r\n",
        "    # Convert text to dataset.\r\n",
        "    lines = [line.split() for line in text.split('\\n') if line.split()]\r\n",
        "\r\n",
        "    obs_counter = 0\r\n",
        "    obs = []\r\n",
        "    obs_map = {}\r\n",
        "\r\n",
        "    for line in lines:\r\n",
        "        obs_elem = []\r\n",
        "        \r\n",
        "        for word in line:\r\n",
        "            word = re.sub(r'[^\\w]', '', word).lower()\r\n",
        "            if word not in obs_map:\r\n",
        "                # Add unique words to the observations map.\r\n",
        "                obs_map[word] = obs_counter\r\n",
        "                obs_counter += 1\r\n",
        "            \r\n",
        "            # Add the encoded word.\r\n",
        "            obs_elem.append(obs_map[word])\r\n",
        "        \r\n",
        "        # Add the encoded sequence.\r\n",
        "        obs.append(obs_elem)\r\n",
        "\r\n",
        "    return obs, obs_map\r\n",
        "\r\n",
        "def obs_map_reverser(obs_map):\r\n",
        "    obs_map_r = {}\r\n",
        "\r\n",
        "    for key in obs_map:\r\n",
        "        obs_map_r[obs_map[key]] = key\r\n",
        "\r\n",
        "    return obs_map_r\r\n",
        "\r\n",
        "def sample_sentence(hmm, obs_map, n_words=100):\r\n",
        "    # Get reverse map.\r\n",
        "    obs_map_r = obs_map_reverser(obs_map)\r\n",
        "\r\n",
        "    # Sample and convert sentence.\r\n",
        "    emission, states = hmm.generate_emission(n_words)\r\n",
        "    sentence = [obs_map_r[i] for i in emission]\r\n",
        "\r\n",
        "    return ' '.join(sentence).capitalize() + '...'\r\n",
        "\r\n",
        "\r\n",
        "####################\r\n",
        "# HMM VISUALIZATION FUNCTIONS\r\n",
        "####################\r\n",
        "\r\n",
        "def visualize_sparsities(hmm, O_max_cols=50, O_vmax=0.1):\r\n",
        "    plt.close('all')\r\n",
        "    plt.set_cmap('viridis')\r\n",
        "\r\n",
        "    # Visualize sparsity of A.\r\n",
        "    plt.imshow(hmm.A, vmax=1.0)\r\n",
        "    plt.colorbar()\r\n",
        "    plt.title('Sparsity of A matrix')\r\n",
        "    plt.show()\r\n",
        "\r\n",
        "    # Visualize parsity of O.\r\n",
        "    plt.imshow(np.array(hmm.O)[:, :O_max_cols], vmax=O_vmax, aspect='auto')\r\n",
        "    plt.colorbar()\r\n",
        "    plt.title('Sparsity of O matrix')\r\n",
        "    plt.show()\r\n",
        "\r\n",
        "\r\n",
        "####################\r\n",
        "# HMM ANIMATION FUNCTIONS\r\n",
        "####################\r\n",
        "\r\n",
        "def animate_emission(hmm, obs_map, M=8, height=12, width=12, delay=1):\r\n",
        "    # Parameters.\r\n",
        "    lim = 1200\r\n",
        "    text_x_offset = 40\r\n",
        "    text_y_offset = 80\r\n",
        "    x_offset = 580\r\n",
        "    y_offset = 520\r\n",
        "    R = 420\r\n",
        "    r = 100\r\n",
        "    arrow_size = 20\r\n",
        "    arrow_p1 = 0.03\r\n",
        "    arrow_p2 = 0.02\r\n",
        "    arrow_p3 = 0.06\r\n",
        "    \r\n",
        "    # Initialize.\r\n",
        "    n_states = len(hmm.A)\r\n",
        "    obs_map_r = obs_map_reverser(obs_map)\r\n",
        "    wordclouds = states_to_wordclouds(hmm, obs_map, max_words=20, show=False)\r\n",
        "\r\n",
        "    # Initialize plot.    \r\n",
        "    fig, ax = plt.subplots()\r\n",
        "    fig.set_figheight(height)\r\n",
        "    fig.set_figwidth(width)\r\n",
        "    ax.grid('off')\r\n",
        "    plt.axis('off')\r\n",
        "    ax.set_xlim([0, lim])\r\n",
        "    ax.set_ylim([0, lim])\r\n",
        "\r\n",
        "    # Plot each wordcloud.\r\n",
        "    for i, wordcloud in enumerate(wordclouds):\r\n",
        "        x = x_offset + int(R * np.cos(np.pi * 2 * i / n_states))\r\n",
        "        y = y_offset + int(R * np.sin(np.pi * 2 * i / n_states))\r\n",
        "        ax.imshow(wordcloud.to_array(), extent=(x - r, x + r, y - r, y + r), aspect='auto', zorder=-1)\r\n",
        "\r\n",
        "    # Initialize text.\r\n",
        "    text = ax.text(text_x_offset, lim - text_y_offset, '', fontsize=24)\r\n",
        "        \r\n",
        "    # Make the arrows.\r\n",
        "    zorder_mult = n_states ** 2 * 100\r\n",
        "    arrows = []\r\n",
        "    for i in range(n_states):\r\n",
        "        row = []\r\n",
        "        for j in range(n_states):\r\n",
        "            # Arrow coordinates.\r\n",
        "            x_i = x_offset + R * np.cos(np.pi * 2 * i / n_states)\r\n",
        "            y_i = y_offset + R * np.sin(np.pi * 2 * i / n_states)\r\n",
        "            x_j = x_offset + R * np.cos(np.pi * 2 * j / n_states)\r\n",
        "            y_j = y_offset + R * np.sin(np.pi * 2 * j / n_states)\r\n",
        "            \r\n",
        "            dx = x_j - x_i\r\n",
        "            dy = y_j - y_i\r\n",
        "            d = np.sqrt(dx**2 + dy**2)\r\n",
        "\r\n",
        "            if i != j:\r\n",
        "                arrow = ax.arrow(x_i + (r/d + arrow_p1) * dx + arrow_p2 * dy,\r\n",
        "                                 y_i + (r/d + arrow_p1) * dy + arrow_p2 * dx,\r\n",
        "                                 (1 - 2 * r/d - arrow_p3) * dx,\r\n",
        "                                 (1 - 2 * r/d - arrow_p3) * dy,\r\n",
        "                                 color=(1 - hmm.A[i][j], ) * 3,\r\n",
        "                                 head_width=arrow_size, head_length=arrow_size,\r\n",
        "                                 zorder=int(hmm.A[i][j] * zorder_mult))\r\n",
        "            else:\r\n",
        "                arrow = ax.arrow(x_i, y_i, 0, 0,\r\n",
        "                                 color=(1 - hmm.A[i][j], ) * 3,\r\n",
        "                                 head_width=arrow_size, head_length=arrow_size,\r\n",
        "                                 zorder=int(hmm.A[i][j] * zorder_mult))\r\n",
        "\r\n",
        "            row.append(arrow)\r\n",
        "        arrows.append(row)\r\n",
        "\r\n",
        "    emission, states = hmm.generate_emission(M)\r\n",
        "\r\n",
        "    def animate(i):\r\n",
        "        if i >= delay:\r\n",
        "            i -= delay\r\n",
        "\r\n",
        "            if i == 0:\r\n",
        "                arrows[states[0]][states[0]].set_color('red')\r\n",
        "            elif i == 1:\r\n",
        "                arrows[states[0]][states[0]].set_color((1 - hmm.A[states[0]][states[0]], ) * 3)\r\n",
        "                arrows[states[i - 1]][states[i]].set_color('red')\r\n",
        "            else:\r\n",
        "                arrows[states[i - 2]][states[i - 1]].set_color((1 - hmm.A[states[i - 2]][states[i - 1]], ) * 3)\r\n",
        "                arrows[states[i - 1]][states[i]].set_color('red')\r\n",
        "\r\n",
        "            # Set text.\r\n",
        "            text.set_text(' '.join([obs_map_r[e] for e in emission][:i+1]).capitalize())\r\n",
        "\r\n",
        "            return arrows + [text]\r\n",
        "\r\n",
        "    # Animate!\r\n",
        "    print('\\nAnimating...')\r\n",
        "    anim = FuncAnimation(fig, animate, frames=M+delay, interval=1000)\r\n",
        "\r\n",
        "    return anim"
      ],
      "execution_count": null,
      "outputs": []
    },
    {
      "cell_type": "markdown",
      "metadata": {
        "id": "5zIXBL7AYzi_"
      },
      "source": [
        "Making the syllable dictionary"
      ]
    },
    {
      "cell_type": "code",
      "metadata": {
        "colab": {
          "base_uri": "https://localhost:8080/"
        },
        "id": "XmAsx0KXYnS3",
        "outputId": "ac93b3bc-78cc-4381-b721-39f630bfbccf"
      },
      "source": [
        "!wget https://raw.githubusercontent.com/lakigigar/Caltech-CS155-2021/main/projects/project3/data/Syllable_dictionary.txt"
      ],
      "execution_count": null,
      "outputs": [
        {
          "output_type": "stream",
          "text": [
            "--2021-03-09 21:35:05--  https://raw.githubusercontent.com/lakigigar/Caltech-CS155-2021/main/projects/project3/data/Syllable_dictionary.txt\n",
            "Resolving raw.githubusercontent.com (raw.githubusercontent.com)... 185.199.109.133, 185.199.111.133, 185.199.108.133, ...\n",
            "Connecting to raw.githubusercontent.com (raw.githubusercontent.com)|185.199.109.133|:443... connected.\n",
            "HTTP request sent, awaiting response... 200 OK\n",
            "Length: 33379 (33K) [text/plain]\n",
            "Saving to: ‘Syllable_dictionary.txt’\n",
            "\n",
            "Syllable_dictionary 100%[===================>]  32.60K  --.-KB/s    in 0.004s  \n",
            "\n",
            "2021-03-09 21:35:05 (8.79 MB/s) - ‘Syllable_dictionary.txt’ saved [33379/33379]\n",
            "\n"
          ],
          "name": "stdout"
        }
      ]
    },
    {
      "cell_type": "code",
      "metadata": {
        "id": "Nt660eWVY4MX"
      },
      "source": [
        "import re\r\n",
        "with open('Syllable_dictionary.txt', \"r\") as f:\r\n",
        "  syl_data = f.readlines()\r\n",
        "  #dict_exp = dict(re.findall(r'(\\S+)\\s+(.+)', f.read()))"
      ],
      "execution_count": null,
      "outputs": []
    },
    {
      "cell_type": "code",
      "metadata": {
        "id": "PX66KB1SY6Ee"
      },
      "source": [
        "# remove all ' or \" and \\n\r\n",
        "# remove punctuation\r\n",
        "to_remove = ['-', \"'\"]\r\n",
        "for k in range(len(to_remove)):\r\n",
        "  for i in range(len(syl_data)):\r\n",
        "    syl_data[i] = ''.join([j for j in syl_data[i] if j not in to_remove])\r\n",
        "#print(syl_data[0])\r\n",
        "for i in range(len(syl_data)):\r\n",
        "  syl_data[i] = syl_data[i].replace('\\n', '')\r\n",
        "#print(syl_data[0])\r\n",
        "# split the lines into words\r\n",
        "for i in range(len(syl_data)):\r\n",
        "  syl_data[i] = re.findall(r\"[\\w']+|[.,?;]\", syl_data[i])\r\n",
        "#print(syl_data[0])\r\n",
        "# make syl_data a dictionary\r\n",
        "syl_dict = dict()\r\n",
        "for line in syl_data:\r\n",
        "  #print(line)\r\n",
        "  #import pdb; pdb.set_trace()\r\n",
        "  syl_dict.update({line[0]: [line[i] for i in range(1, len(line))]})"
      ],
      "execution_count": null,
      "outputs": []
    },
    {
      "cell_type": "markdown",
      "metadata": {
        "id": "pspO08g0pnp8"
      },
      "source": [
        "# Generating Random Sonnets"
      ]
    },
    {
      "cell_type": "markdown",
      "metadata": {
        "id": "_eGC8JPYHTZO"
      },
      "source": [
        "Extend the HMM class to include the sonnet generation"
      ]
    },
    {
      "cell_type": "code",
      "metadata": {
        "id": "U3UPXzcbHWjG"
      },
      "source": [
        "class SonnetHiddenMarkovModel ( HiddenMarkovModel ):\r\n",
        "    '''\r\n",
        "    Class implementation of Hidden Markov Models for rhyming sonnets\r\n",
        "    '''\r\n",
        "\r\n",
        "    def __init__(self, A, O,rhyme_array,syl_dict,obs_map):\r\n",
        "        \r\n",
        "        self.rhyme_array = rhyme_array\r\n",
        "        self.syl_dict = syl_dict\r\n",
        "        self.obs_map = obs_map\r\n",
        "        self.obs_map_r = obs_map_reverser(obs_map)\r\n",
        "        HiddenMarkovModel.__init__(self,A,O)\r\n",
        "\r\n",
        "\r\n",
        "    def generate_sonnet(self):\r\n",
        "        # now generate a random sonnet with 14 lines and 10 syllables each\r\n",
        "        emission = []\r\n",
        "        states = []\r\n",
        "        # make sure we have 14 lines\r\n",
        "        line_syls = []\r\n",
        "        for i in range(0,14):\r\n",
        "          # each line with 10 syllables\r\n",
        "          emission = []\r\n",
        "          states = []\r\n",
        "          k = 0\r\n",
        "          # Initial state\r\n",
        "          states.append(np.random.randint(0,self.L))\r\n",
        "          emission.append(np.random.choice(self.D,None, True, self.O[states[0],:]))\r\n",
        "          syl_count= syl_dict[self.obs_map_r[emission[0]]]\r\n",
        "          if len(syl_count)>1:\r\n",
        "            # check to use the one not at the end or just randomly\r\n",
        "            not_end_count = [x for x in syl_count if not x.startswith('E')]\r\n",
        "            syl_count = not_end_count\r\n",
        "            # if syl_count[0][0]!='E':\r\n",
        "            #   syl_count = syl_count[0][0]\r\n",
        "          try:\r\n",
        "            k+=int(syl_count[0])\r\n",
        "          except:\r\n",
        "            import pdb; pdb.set_trace()\r\n",
        "          j=0\r\n",
        "          #print(k)\r\n",
        "          while k<10:\r\n",
        "            #import pdb; pdb.set_trace()\r\n",
        "            j+=1\r\n",
        "            # generate next word\r\n",
        "            states.append(np.random.choice(self.L,None, True, self.A[states[j-1],:]))\r\n",
        "            emission.append(np.random.choice(self.D,None, True, self.O[states[j],:]))\r\n",
        "            syl_count= syl_dict[self.obs_map_r[emission[j]]]\r\n",
        "            #print(self.obs_map_r[emission[j]])\r\n",
        "            if len(syl_count)>1:\r\n",
        "              end_count = [x for x in syl_count if x.startswith('E')]\r\n",
        "              #import pdb; pdb.set_trace()\r\n",
        "              if len(end_count) >= 1:\r\n",
        "                if k + int(end_count[0][-1]) > 10:\r\n",
        "                  # if equal to 10 pick this word and save sentence\r\n",
        "                  if k + int(end_count[0][-1]) == 10:\r\n",
        "                    syl_count=int(end_count[0][-1])\r\n",
        "                # check to use the correct one\r\n",
        "                else:\r\n",
        "                  for s in syl_count:\r\n",
        "                    if s[0]!='E':\r\n",
        "                      syl_count = int(s)\r\n",
        "              else:\r\n",
        "                syl_count = int(syl_count[0])\r\n",
        "            else:\r\n",
        "              syl_count = int(syl_count[0])\r\n",
        "            if k+syl_count>10:\r\n",
        "              # regernerate\r\n",
        "              while k+syl_count>10:\r\n",
        "                states[j] = (np.random.choice(self.L,None, True, self.A[states[j-1],:]))\r\n",
        "                emission[j] = (np.random.choice(self.D,None, True, self.O[states[j],:]))\r\n",
        "                syl_count= syl_dict[self.obs_map_r[emission[j]]]\r\n",
        "                end_count = [x for x in syl_count if x.startswith('E')]\r\n",
        "                if len(end_count) >= 1:\r\n",
        "                  syl_count=int(end_count[0][-1])\r\n",
        "                else:\r\n",
        "                  syl_count = int(syl_count[0])\r\n",
        "            try:\r\n",
        "              k+=syl_count # or just pick the first one\r\n",
        "            except:\r\n",
        "              import pdb; pdb.set_trace()\r\n",
        "            #print(k)\r\n",
        "            if k>=10:\r\n",
        "              line_syls.append(k)\r\n",
        "          sentence = [self.obs_map_r[i] for i in emission]\r\n",
        "          print(' '.join(sentence).capitalize())\r\n",
        "          # break the line after 4/8/12 lines\r\n",
        "          if (i == 3 or i == 7 or i == 11):\r\n",
        "            print('\\n')\r\n",
        "        print(line_syls)"
      ],
      "execution_count": null,
      "outputs": []
    },
    {
      "cell_type": "markdown",
      "metadata": {
        "id": "_wcoLHaYp3sE"
      },
      "source": [
        "Now input data and train HMM"
      ]
    },
    {
      "cell_type": "markdown",
      "metadata": {
        "id": "9Osu_bDsKOkf"
      },
      "source": [
        "Modify raw text data into data we can use for our syllable dictionary"
      ]
    },
    {
      "cell_type": "code",
      "metadata": {
        "id": "LsWn1o3rI1Z1"
      },
      "source": [
        "data_sonnet = [[]]\r\n",
        "for i,sonnet in enumerate(data_sonnet_raw):\r\n",
        "    data_sonnet[i] = sonnet.split()\r\n",
        "    if i != len(data_sonnet_raw)-1:\r\n",
        "        data_sonnet.append([])"
      ],
      "execution_count": null,
      "outputs": []
    },
    {
      "cell_type": "code",
      "metadata": {
        "id": "wdN2DOoIp2U8"
      },
      "source": [
        "# create obs map\r\n",
        "count = 0\r\n",
        "obs = []\r\n",
        "obs_map = {}\r\n",
        "\r\n",
        "for line in data_sonnet:\r\n",
        "  obs_line = []\r\n",
        "  for word in line:\r\n",
        "    if word not in obs_map:\r\n",
        "      # add new words to the map\r\n",
        "      obs_map[word] = count\r\n",
        "      count += 1\r\n",
        "    # add the encoded words to the line map\r\n",
        "    obs_line.append(obs_map[word])\r\n",
        "      \r\n",
        "    # add the encoded sequence\r\n",
        "  obs.append(obs_line)"
      ],
      "execution_count": null,
      "outputs": []
    },
    {
      "cell_type": "code",
      "metadata": {
        "id": "qELyN1NdIihW"
      },
      "source": [
        "# train a HMM (only a few epochs)\r\n",
        "hmm5 = unsupervised_HMM(obs, 5, 50)\r\n",
        "\r\n",
        "#Save to drive\r\n",
        "np.save('/content/drive/My Drive/CS155_miniproject_3/5_50_A.npy', hmm5.A)    \r\n",
        "np.save('/content/drive/My Drive/CS155_miniproject_3/5_50_O.npy', hmm5.O)    "
      ],
      "execution_count": null,
      "outputs": []
    },
    {
      "cell_type": "markdown",
      "metadata": {
        "id": "-wn0aSZDIvYO"
      },
      "source": [
        "## Load pre-trained HMMs and generate sonnets\r\n",
        "\r\n",
        "To save time, we trained HMMs with 5, 10, 15, and 20 states and saved them to our git hub, we can now load the A and O matricies and generate sonnets directly"
      ]
    },
    {
      "cell_type": "code",
      "metadata": {
        "colab": {
          "base_uri": "https://localhost:8080/",
          "height": 935
        },
        "id": "62otmV9jp6TE",
        "outputId": "686bb96f-75cd-452c-86e9-72402a251eaf"
      },
      "source": [
        "import requests\r\n",
        "import io\r\n",
        "\r\n",
        "response = requests.get('https://github.com/treyra/CS155_miniproject3/blob/main/trained_hmms/5_50_A.npy?raw=true')\r\n",
        "response.raise_for_status()\r\n",
        "loadA = np.load(io.BytesIO(response.content))  \r\n",
        "response = requests.get('https://github.com/treyra/CS155_miniproject3/blob/main/trained_hmms/5_50_O.npy?raw=true')\r\n",
        "response.raise_for_status()\r\n",
        "loadO = np.load(io.BytesIO(response.content)) \r\n",
        "hmm5 = SonnetHiddenMarkovModel(loadA, loadO,rhyme_array,syl_dict,obs_map)\r\n",
        "hmm5.generate_sonnet()\r\n",
        "\r\n",
        "visualize_sparsities(hmm5, O_max_cols=50)"
      ],
      "execution_count": null,
      "outputs": [
        {
          "output_type": "stream",
          "text": [
            "Which many of my or when thy no behind\n",
            "Nor main beauty womens eye within hath\n",
            "Adonis given beauty on painted scorn\n",
            "A for with alone figured fulness and\n",
            "\n",
            "\n",
            "My plot return mine away despite would\n",
            "Noon which old of me this loves name mock when\n",
            "New if chose when skill call hath not my eye\n",
            "Makes the and set of rebuked as thy love\n",
            "\n",
            "\n",
            "Lives be thou all naked more waste of time\n",
            "His said thy though advocate hours beauty\n",
            "Thee deaths former is battring ride me so\n",
            "To fire pain hot not thou aloft i ear\n",
            "\n",
            "\n",
            "For son my life be hours or my under\n",
            "Richproud graces certain from loved a dear\n",
            "[10, 10, 10, 10, 10, 10, 10, 10, 10, 10, 10, 10, 10, 10]\n"
          ],
          "name": "stdout"
        },
        {
          "output_type": "display_data",
          "data": {
            "image/png": "[encoded data removed]",
            "text/plain": [
              "<Figure size 432x288 with 2 Axes>"
            ]
          },
          "metadata": {
            "tags": [],
            "needs_background": "light"
          }
        },
        {
          "output_type": "display_data",
          "data": {
            "image/png": "[encoded data removed]",
            "text/plain": [
              "<Figure size 432x288 with 2 Axes>"
            ]
          },
          "metadata": {
            "tags": [],
            "needs_background": "light"
          }
        }
      ]
    },
    {
      "cell_type": "code",
      "metadata": {
        "colab": {
          "base_uri": "https://localhost:8080/",
          "height": 935
        },
        "id": "JGzCzBoiJ-s3",
        "outputId": "0e4e4a95-dab6-41aa-aa61-f1ec5716619e"
      },
      "source": [
        "response = requests.get('https://github.com/treyra/CS155_miniproject3/blob/main/trained_hmms/20_50_A.npy?raw=true')\r\n",
        "response.raise_for_status()\r\n",
        "loadA = np.load(io.BytesIO(response.content))  \r\n",
        "response = requests.get('https://github.com/treyra/CS155_miniproject3/blob/main/trained_hmms/20_50_O.npy?raw=true')\r\n",
        "response.raise_for_status()\r\n",
        "loadO = np.load(io.BytesIO(response.content)) \r\n",
        "hmm20 = SonnetHiddenMarkovModel(loadA, loadO,rhyme_array,syl_dict,obs_map)\r\n",
        "hmm20.generate_sonnet()\r\n",
        "\r\n",
        "visualize_sparsities(hmm20, O_max_cols=50)"
      ],
      "execution_count": null,
      "outputs": [
        {
          "output_type": "stream",
          "text": [
            "Days by by prognosticate most all in\n",
            "Her birth rose that you with beauty love and\n",
            "Not it dates nature to no what break not\n",
            "Name purest own a have greeing almost\n",
            "\n",
            "\n",
            "Moods high meadows others rudely worth in\n",
            "Methinks thou if in thee as for by air\n",
            "Of should shame sweets soul is watchman and won\n",
            "My self like making selling widow all\n",
            "\n",
            "\n",
            "To thy upon spites the lease once arise\n",
            "Outworn love age nor who be give why i\n",
            "Things where i thee prove sightless day that have\n",
            "To doth honour folly spends and i call\n",
            "\n",
            "\n",
            "The pride argument too near others by\n",
            "Bestow to love monuments minds worse you\n",
            "[10, 10, 10, 10, 10, 10, 10, 10, 10, 10, 10, 10, 10, 10]\n"
          ],
          "name": "stdout"
        },
        {
          "output_type": "display_data",
          "data": {
            "image/png": "[encoded data removed]",
            "text/plain": [
              "<Figure size 432x288 with 2 Axes>"
            ]
          },
          "metadata": {
            "tags": [],
            "needs_background": "light"
          }
        },
        {
          "output_type": "display_data",
          "data": {
            "image/png": "[encoded data removed]",
            "text/plain": [
              "<Figure size 432x288 with 2 Axes>"
            ]
          },
          "metadata": {
            "tags": [],
            "needs_background": "light"
          }
        }
      ]
    },
    {
      "cell_type": "code",
      "metadata": {
        "colab": {
          "base_uri": "https://localhost:8080/",
          "height": 935
        },
        "id": "jO7xd0ysJVJf",
        "outputId": "020fdcff-29c8-4d0e-fb39-8de1e4a75b05"
      },
      "source": [
        "response = requests.get('https://github.com/treyra/CS155_miniproject3/blob/main/trained_hmms/10_50_A.npy?raw=true')\r\n",
        "response.raise_for_status()\r\n",
        "loadA = np.load(io.BytesIO(response.content))  \r\n",
        "response = requests.get('https://github.com/treyra/CS155_miniproject3/blob/main/trained_hmms/10_50_O.npy?raw=true')\r\n",
        "response.raise_for_status()\r\n",
        "loadO = np.load(io.BytesIO(response.content)) \r\n",
        "hmm10 = SonnetHiddenMarkovModel(loadA, loadO,rhyme_array,syl_dict,obs_map)\r\n",
        "hmm10.generate_sonnet()\r\n",
        "\r\n",
        "visualize_sparsities(hmm10, O_max_cols=50)"
      ],
      "execution_count": null,
      "outputs": [
        {
          "output_type": "stream",
          "text": [
            "Of ten vile like the tenth may nor wrinkles\n",
            "I youth spite worse ten although praise and sweet\n",
            "Make penance dearths without vile a the more\n",
            "As that count beautys give not thine love is\n",
            "\n",
            "\n",
            "Do resurvey no man favourites right\n",
            "I though of womans fault for virtuous of\n",
            "Poverty canst i when i both dreams his\n",
            "Or yet suppressed the world me that are thee\n",
            "\n",
            "\n",
            "Nature with bodys evil and sing or\n",
            "Sweet which shake all such music of hate to\n",
            "Gazeth a still services thou enough\n",
            "Old making they my desperate why leases\n",
            "\n",
            "\n",
            "Wonder doth wish one truth thou placed i\n",
            "Mightst and by as nimble eat in of wrongs\n",
            "[10, 10, 10, 10, 10, 10, 10, 10, 10, 10, 10, 10, 10, 10]\n"
          ],
          "name": "stdout"
        },
        {
          "output_type": "display_data",
          "data": {
            "image/png": "[encoded data removed]",
            "text/plain": [
              "<Figure size 432x288 with 2 Axes>"
            ]
          },
          "metadata": {
            "tags": [],
            "needs_background": "light"
          }
        },
        {
          "output_type": "display_data",
          "data": {
            "image/png": "[encoded data removed]",
            "text/plain": [
              "<Figure size 432x288 with 2 Axes>"
            ]
          },
          "metadata": {
            "tags": [],
            "needs_background": "light"
          }
        }
      ]
    },
    {
      "cell_type": "code",
      "metadata": {
        "colab": {
          "base_uri": "https://localhost:8080/",
          "height": 935
        },
        "id": "ObbGkIntJsFn",
        "outputId": "c8e1dc30-0cfc-4c78-aef4-72ee348055fe"
      },
      "source": [
        "response = requests.get('https://github.com/treyra/CS155_miniproject3/blob/main/trained_hmms/15_50_A.npy?raw=true')\r\n",
        "response.raise_for_status()\r\n",
        "loadA = np.load(io.BytesIO(response.content))  \r\n",
        "response = requests.get('https://github.com/treyra/CS155_miniproject3/blob/main/trained_hmms/15_50_O.npy?raw=true')\r\n",
        "response.raise_for_status()\r\n",
        "loadO = np.load(io.BytesIO(response.content)) \r\n",
        "hmm15 = SonnetHiddenMarkovModel(loadA, loadO,rhyme_array,syl_dict,obs_map)\r\n",
        "hmm15.generate_sonnet()\r\n",
        "\r\n",
        "visualize_sparsities(hmm15, O_max_cols=50)"
      ],
      "execution_count": null,
      "outputs": [
        {
          "output_type": "stream",
          "text": [
            "Nay how in this character no on mock\n",
            "Excuse with relief and from leaves being out\n",
            "To my sweet folly your glory prouder\n",
            "The to of my shadows hours quite sue on\n",
            "\n",
            "\n",
            "Provoke replete approve my reserve this\n",
            "Draw a time says advantage say every\n",
            "Catch through surly presence approve of hate\n",
            "Tell a my to grows my worlds and he till\n",
            "\n",
            "\n",
            "Which a pursuit wolf in my hath worst this\n",
            "My tongue tender prey of others the to\n",
            "Calls we nothing he you quest answers and\n",
            "Imprint be spring all flatter speed thy faith\n",
            "\n",
            "\n",
            "Then as your hours excess fear nurseth write\n",
            "The looking to of on far of hopes and\n",
            "[10, 10, 10, 10, 10, 10, 10, 10, 10, 10, 10, 10, 10, 10]\n"
          ],
          "name": "stdout"
        },
        {
          "output_type": "display_data",
          "data": {
            "image/png": "[encoded data removed]",
            "text/plain": [
              "<Figure size 432x288 with 2 Axes>"
            ]
          },
          "metadata": {
            "tags": [],
            "needs_background": "light"
          }
        },
        {
          "output_type": "display_data",
          "data": {
            "image/png": "[encoded data removed]",
            "text/plain": [
              "<Figure size 432x288 with 2 Axes>"
            ]
          },
          "metadata": {
            "tags": [],
            "needs_background": "light"
          }
        }
      ]
    },
    {
      "cell_type": "code",
      "metadata": {
        "id": "F7RusXU_JoQ_"
      },
      "source": [
        ""
      ],
      "execution_count": null,
      "outputs": []
    },
    {
      "cell_type": "code",
      "metadata": {
        "colab": {
          "base_uri": "https://localhost:8080/"
        },
        "id": "ifR2i89zpnGD",
        "outputId": "088aba3d-d379-4386-df72-111c118547c8"
      },
      "source": [
        "# now generate a random sonnet with 14 lines and 10 syllables each\r\n",
        "emission = []\r\n",
        "states = []\r\n",
        "L = np.array(hmm8.L)\r\n",
        "D = np.array(hmm8.D)  \r\n",
        "O = np.array(hmm8.O)\r\n",
        "A = np.array(hmm8.A)\r\n",
        "obs_map_r = obs_map_reverser(obs_map)\r\n",
        "\r\n",
        "# make sure we have 14 lines\r\n",
        "line_syls = []\r\n",
        "for i in range(0,14):\r\n",
        "  # each line with 10 syllables\r\n",
        "  emission = []\r\n",
        "  states = []\r\n",
        "  k = 0\r\n",
        "  # Initial state\r\n",
        "  states.append(np.random.randint(0,L))\r\n",
        "  emission.append(np.random.choice(D,None, True, O[states[0],:]))\r\n",
        "  syl_count= syl_dict[obs_map_r[emission[0]]]\r\n",
        "  if len(syl_count)>1:\r\n",
        "    # check to use the one not at the end or just randomly\r\n",
        "    not_end_count = [x for x in syl_count if not x.startswith('E')]\r\n",
        "    syl_count = not_end_count\r\n",
        "    # if syl_count[0][0]!='E':\r\n",
        "    #   syl_count = syl_count[0][0]\r\n",
        "  try:\r\n",
        "    k+=int(syl_count[0])\r\n",
        "  except:\r\n",
        "    import pdb; pdb.set_trace()\r\n",
        "  j=0\r\n",
        "  #print(k)\r\n",
        "  while k<10:\r\n",
        "    #import pdb; pdb.set_trace()\r\n",
        "    j+=1\r\n",
        "    # generate next word\r\n",
        "    states.append(np.random.choice(L,None, True, A[states[j-1],:]))\r\n",
        "    emission.append(np.random.choice(D,None, True, O[states[j],:]))\r\n",
        "    syl_count= syl_dict[obs_map_r[emission[j]]]\r\n",
        "    #print(obs_map_r[emission[j]])\r\n",
        "    if len(syl_count)>1:\r\n",
        "      end_count = [x for x in syl_count if x.startswith('E')]\r\n",
        "      #import pdb; pdb.set_trace()\r\n",
        "      if len(end_count) >= 1:\r\n",
        "        if k + int(end_count[0][-1]) > 10:\r\n",
        "          # if equal to 10 pick this word and save sentence\r\n",
        "          if k + int(end_count[0][-1]) == 10:\r\n",
        "            syl_count=int(end_count[0][-1])\r\n",
        "        # check to use the correct one\r\n",
        "        else:\r\n",
        "          for s in syl_count:\r\n",
        "            if s[0]!='E':\r\n",
        "              syl_count = int(s)\r\n",
        "      else:\r\n",
        "        syl_count = int(syl_count[0])\r\n",
        "    else:\r\n",
        "      syl_count = int(syl_count[0])\r\n",
        "    if k+syl_count>10:\r\n",
        "      # regernerate\r\n",
        "      while k+syl_count>10:\r\n",
        "        states[j] = (np.random.choice(L,None, True, A[states[j-1],:]))\r\n",
        "        emission[j] = (np.random.choice(D,None, True, O[states[j],:]))\r\n",
        "        syl_count= syl_dict[obs_map_r[emission[j]]]\r\n",
        "        end_count = [x for x in syl_count if x.startswith('E')]\r\n",
        "        if len(end_count) >= 1:\r\n",
        "          syl_count=int(end_count[0][-1])\r\n",
        "        else:\r\n",
        "          syl_count = int(syl_count[0])\r\n",
        "    try:\r\n",
        "      k+=syl_count # or just pick the first one\r\n",
        "    except:\r\n",
        "      import pdb; pdb.set_trace()\r\n",
        "    #print(k)\r\n",
        "    if k>=10:\r\n",
        "      line_syls.append(k)\r\n",
        "  sentence = [obs_map_r[i] for i in emission]\r\n",
        "  print(' '.join(sentence).capitalize())\r\n",
        "  # break the line after 4/8/12 lines\r\n",
        "  if (i == 3 or i == 7 or i == 11):\r\n",
        "    print('\\n')\r\n",
        "print(line_syls)"
      ],
      "execution_count": null,
      "outputs": [
        {
          "output_type": "stream",
          "text": [
            "Strumpeted disgrace and it might thou foul\n",
            "Expired prey suffer tired which time but should\n",
            "Walks issueless their false of of conquest\n",
            "Of of wards to should to toil outward that\n",
            "\n",
            "\n",
            "Mine being it blest seem quick threescore and say\n",
            "Thy angel prove to were out false hath not\n",
            "Who betraying rotten being the fair and\n",
            "Deep not triumph of my praise day my some\n",
            "\n",
            "\n",
            "Who amis some lives my but could by did\n",
            "Selfexample hath think it affections\n",
            "Eye did are shore by filching beauty sin\n",
            "Thee on what brief active made but not then\n",
            "\n",
            "\n",
            "Virtue commence and richer of thy thou\n",
            "Winter and but that their till doth for but\n",
            "[10, 10, 10, 10, 10, 10, 10, 10, 10, 10, 10, 10, 10, 10]\n"
          ],
          "name": "stdout"
        }
      ]
    },
    {
      "cell_type": "markdown",
      "metadata": {
        "id": "Rllt1ZYsj1NN"
      },
      "source": [
        "# Rhyming HMM"
      ]
    },
    {
      "cell_type": "markdown",
      "metadata": {
        "id": "WJOUjMMojWS1"
      },
      "source": [
        "Loading the rhyming dictionary made using the example rhymes in the training data"
      ]
    },
    {
      "cell_type": "code",
      "metadata": {
        "id": "sqNDclgFY78W"
      },
      "source": [
        "# Loading from our github\r\n",
        "rhyme_array_raw = np.genfromtxt('https://raw.githubusercontent.com/treyra/CS155_miniproject3/main/data/rhyme_list.txt',delimiter='\\t',dtype=None,encoding='ISO-8859-1')\r\n",
        "\r\n",
        "rhyme_array = np.zeros((len(rhyme_array_raw),2),dtype=object)\r\n",
        "for i,rhymes in enumerate(rhyme_array_raw):\r\n",
        "    #Stored as a np array written to a text file, so remove the brackets\r\n",
        "    rhyme_array[i,0] = rhymes.split()[0][2:-1]\r\n",
        "    rhyme_array[i,1] = rhymes.split()[1][1:-2]"
      ],
      "execution_count": null,
      "outputs": []
    },
    {
      "cell_type": "code",
      "metadata": {
        "id": "X6mw4Zd0m9Er"
      },
      "source": [
        "class RhymingHiddenMarkovModel ( HiddenMarkovModel ):\r\n",
        "    '''\r\n",
        "    Class implementation of Hidden Markov Models for rhyming sonnets\r\n",
        "    '''\r\n",
        "\r\n",
        "    def __init__(self, A, O,rhyme_array,syl_dict,obs_map):\r\n",
        "        \r\n",
        "        self.rhyme_array = rhyme_array\r\n",
        "        self.syl_dict = syl_dict\r\n",
        "        self.obs_map = obs_map\r\n",
        "        self.obs_map_r = obs_map_reverser(obs_map)\r\n",
        "        HiddenMarkovModel.__init__(self,A,O)\r\n",
        "\r\n",
        "    def emit_line(self, numSyls = 10, endSeed=None):\r\n",
        "        \"\"\"\r\n",
        "        Generate a random line backwards to forwards\r\n",
        "        using a seeded ending word, if provided\r\n",
        "        Parameters\r\n",
        "        ----------\r\n",
        "        numSyls : int\r\n",
        "            Number of syllables the line should have. \r\n",
        "            Default is 10\r\n",
        "        endSeed : tuple (int,string)\r\n",
        "            The HMM state and the string the line will\r\n",
        "            end in, if any.\r\n",
        "        \"\"\"\r\n",
        "        #Line to emit\r\n",
        "        line = None \r\n",
        "\r\n",
        "        #No seed, pick random initial state\r\n",
        "        if endSeed is None:\r\n",
        "            state = np.random.randint(0,self.L)\r\n",
        "            line = np.array([np.random.choice(self.D,p=self.O[state,:])])\r\n",
        "        else:\r\n",
        "            state = endSeed[0]\r\n",
        "            line = np.array([self.obs_map[endSeed[1]]])\r\n",
        "        k = 0\r\n",
        "        # Initial state\r\n",
        "        syl_count= syl_dict[self.obs_map_r[line[0]]]\r\n",
        "        if len(syl_count)>1:\r\n",
        "          # check to use the one not at the end or just randomly\r\n",
        "          not_end_count = [x for x in syl_count if not x.startswith('E')]\r\n",
        "          syl_count = not_end_count\r\n",
        "          # if syl_count[0][0]!='E':\r\n",
        "          #   syl_count = syl_count[0][0]\r\n",
        "        try:\r\n",
        "          k+=int(syl_count[0])\r\n",
        "        except:\r\n",
        "          import pdb; pdb.set_trace()\r\n",
        "        #Now loop backwards and generate rest of line before word\r\n",
        "        j = 0\r\n",
        "        prevState = state\r\n",
        "        while k < 10:\r\n",
        "            j+=1\r\n",
        "            # generate next word (NOTE: we flipped the A matrix because we want to know the \r\n",
        "            #probability of transitioning TO the previous state)\r\n",
        "            state = np.random.choice(self.L,p= self.A[:,prevState]/np.linalg.norm(self.A[:,prevState],1))\r\n",
        "            line = np.concatenate(([np.random.choice(self.D,p=self.O[state,:])],line)) \r\n",
        "            syl_count= syl_dict[self.obs_map_r[line[0]]]\r\n",
        "            #print(obs_map_r[line[0]])\r\n",
        "            if len(syl_count)>1:\r\n",
        "              end_count = [x for x in syl_count if x.startswith('E')]\r\n",
        "              if len(end_count) >= 1:\r\n",
        "                if k + int(end_count[0][-1]) > 10:\r\n",
        "                  # if equal to 10 pick this word and save sentence\r\n",
        "                  if k + int(end_count[0][-1]) == 10:\r\n",
        "                    syl_count=int(end_count[0][-1])\r\n",
        "                # check to use the correct one\r\n",
        "                else:\r\n",
        "                  for s in syl_count:\r\n",
        "                    if s[0]!='E':\r\n",
        "                      syl_count = int(s)\r\n",
        "              else:\r\n",
        "                syl_count = int(syl_count[0])\r\n",
        "            else:\r\n",
        "              syl_count = int(syl_count[0])\r\n",
        "            if k+syl_count>10:\r\n",
        "              # regernerate\r\n",
        "              while k+syl_count>10:\r\n",
        "                state = np.random.choice(self.L,p= self.A[:,prevState]/np.linalg.norm(self.A[:,prevState],1))\r\n",
        "                line[0] = (np.random.choice(self.D,p = self.O[state,:]))\r\n",
        "                syl_count= syl_dict[self.obs_map_r[line[0]]]\r\n",
        "                end_count = [x for x in syl_count if x.startswith('E')]\r\n",
        "                if len(end_count) >= 1:\r\n",
        "                  syl_count=int(end_count[0][-1])\r\n",
        "                else:\r\n",
        "                  syl_count = int(syl_count[0])\r\n",
        "            try:\r\n",
        "              k+=syl_count # or just pick the first one\r\n",
        "            except:\r\n",
        "              import pdb; pdb.set_trace()\r\n",
        "            #print(k)\r\n",
        "            if k>=10:\r\n",
        "              return [self.obs_map_r[i] for i in line]\r\n",
        "    def genRhymingSonnet(self):\r\n",
        "        \"\"\"\r\n",
        "        Uses rhyme dict to seed lines for a rhyming sonnet\r\n",
        "        \"\"\"\r\n",
        "        sonnet = np.array([[]],dtype=object)\r\n",
        "        #Generate 14 rhyming lines\r\n",
        "        #List of indicies already picked and the word in the pair used\r\n",
        "        #(set to -1 initially)\r\n",
        "        used = np.zeros((7,2)) - 1\r\n",
        "\r\n",
        "        for i in range(14):\r\n",
        "            #Let the first word in the rhyme pair be in any order\r\n",
        "            firstWord = -1\r\n",
        "            if i == 0 or i == 1 or i == 4 or i == 5 or i == 8 or i == 9 or i == 12:\r\n",
        "                rhyme = np.random.randint(0,len(self.rhyme_array))\r\n",
        "                #Redraw for uniqueness (desired behavior?)\r\n",
        "                while rhyme in used:\r\n",
        "                    rhyme = np.random.randint(0,len(self.rhyme_array))\r\n",
        "                #Using integer math to get the right index for each pair of rhymes\r\n",
        "                used[int((i+1)/2),0] = rhyme\r\n",
        "                #Randomly draw the last word, save so we use other next time\r\n",
        "                lastWord = np.random.randint(0,len(self.rhyme_array[rhyme]))\r\n",
        "                used[int((i+1)/2),1] = lastWord\r\n",
        "            else:\r\n",
        "                #Using integer math to get the right index for each pair of rhymes\r\n",
        "                rhyme = int(used[int((i-1)/2),0])\r\n",
        "                #Get the other word in pair (this is to allow for N lenght lists of rhymes)\r\n",
        "                lastWord = np.random.randint(0,len(self.rhyme_array[rhyme])-1)\r\n",
        "                #If we got the word we already used, just assign the one we excluded from the draw\r\n",
        "                if lastWord == used[int((i-1)/2),1]:\r\n",
        "                    lastWord = len(self.rhyme_array[rhyme])-1\r\n",
        "                lastWord = int(lastWord)\r\n",
        "            line = self.emit_line(endSeed=(np.random.randint(0,self.L),self.rhyme_array[rhyme,lastWord]))\r\n",
        "            print(i,end = \": \")\r\n",
        "            print(' '.join(line).capitalize())\r\n",
        "            sonnet = np.append(sonnet,line)           \r\n",
        "        return sonnet\r\n"
      ],
      "execution_count": null,
      "outputs": []
    },
    {
      "cell_type": "code",
      "metadata": {
        "colab": {
          "base_uri": "https://localhost:8080/",
          "height": 160,
          "referenced_widgets": [
            "0af71856de45444286d7f4abf62bbbdc",
            "17f917189f64471b9b876b7703142452",
            "ef08d0e2295e4f69bf950621bb6cf0b5",
            "6d63467299ad424b8032ec6386d5330f",
            "00f1ab8fa48b4d55b98b78d87dcd3d47",
            "f316cc55894947c5ba23b3d04c324630",
            "a01589e4ff024af193010f219ef1d9b0",
            "845cffdb33e84731acb84fbc8863ac4e"
          ]
        },
        "id": "gsZ-FvhJweUv",
        "outputId": "107fa20a-5ee2-46c2-d700-a705139b2d61"
      },
      "source": [
        "# train a HMM (only a few epochs)\r\n",
        "betterHMM = unsupervised_HMM(obs, 20, 50)"
      ],
      "execution_count": null,
      "outputs": [
        {
          "output_type": "display_data",
          "data": {
            "application/vnd.jupyter.widget-view+json": {
              "model_id": "0af71856de45444286d7f4abf62bbbdc",
              "version_minor": 0,
              "version_major": 2
            },
            "text/plain": [
              "HBox(children=(FloatProgress(value=0.0, max=50.0), HTML(value='')))"
            ]
          },
          "metadata": {
            "tags": []
          }
        },
        {
          "output_type": "stream",
          "text": [
            "Iteration: 10\n",
            "Iteration: 20\n",
            "Iteration: 30\n",
            "Iteration: 40\n",
            "Iteration: 50\n",
            "\n"
          ],
          "name": "stdout"
        }
      ]
    },
    {
      "cell_type": "code",
      "metadata": {
        "colab": {
          "base_uri": "https://localhost:8080/"
        },
        "id": "zs3fjGUk7Aoa",
        "outputId": "2cfd76aa-843a-4989-ecc1-0b72a0012962"
      },
      "source": [
        "# mount drive\r\n",
        "# save data by line and data by sonnet\r\n",
        "from google.colab import drive\r\n",
        "drive.mount('./drive',force_remount=True)"
      ],
      "execution_count": null,
      "outputs": [
        {
          "output_type": "stream",
          "text": [
            "Mounted at ./drive\n"
          ],
          "name": "stdout"
        }
      ]
    },
    {
      "cell_type": "code",
      "metadata": {
        "id": "pBz1etao7F7Q"
      },
      "source": [
        "np.save('/content/drive/My Drive/CS155_miniproject_3/20_50_A.npy', betterHMM.A)    \r\n",
        "np.save('/content/drive/My Drive/CS155_miniproject_3/20_50_O.npy', betterHMM.O)    "
      ],
      "execution_count": null,
      "outputs": []
    },
    {
      "cell_type": "code",
      "metadata": {
        "colab": {
          "base_uri": "https://localhost:8080/"
        },
        "id": "LbuVyRJyuNch",
        "outputId": "189a1f05-69e4-44df-92c1-4d0e2176a6fa"
      },
      "source": [
        "#Gen the rhyming Sonnet\r\n",
        "rhyme_hmm = RhymingHiddenMarkovModel(hmm8.A, hmm8.O,rhyme_array,syl_dict,obs_map)\r\n",
        "sonnet = rhyme_hmm.genRhymingSonnet()"
      ],
      "execution_count": null,
      "outputs": [
        {
          "output_type": "stream",
          "text": [
            "0: Desire of the shadow in cheeks a are\n",
            "1: Five one lack she thy yore moods self love stand\n",
            "2: Which and my up hand of yet let sun care\n",
            "3: Thee marriage if lies this grows this said land\n",
            "4: Than my to mortal hath friends since to need\n",
            "5: That on and none my her making your hope\n",
            "6: Limbs knew name store active anchored exceed\n",
            "7: Times twofold back prime cures the at the scope\n",
            "8: Keeps taught lovst like my another thy white\n",
            "9: She may favour hate day and name alone\n",
            "10: Thee darling though o depends a delight\n",
            "11: Change or epitaph see eves leave truth prone\n",
            "12: Thing is wit second methinks receivest\n",
            "13: Pleasing is be not thou i deceivest\n"
          ],
          "name": "stdout"
        }
      ]
    },
    {
      "cell_type": "code",
      "metadata": {
        "colab": {
          "base_uri": "https://localhost:8080/"
        },
        "id": "DKD9XQCtDayr",
        "outputId": "c8a34723-0d7a-4b4e-f543-e2641c23eeca"
      },
      "source": [
        "#Gen the rhyming Sonnet\r\n",
        "rhyme_hmm = RhymingHiddenMarkovModel(betterHMM.A, betterHMM.O,rhyme_array,syl_dict,obs_map)\r\n",
        "sonnet = rhyme_hmm.genRhymingSonnet()"
      ],
      "execution_count": null,
      "outputs": [
        {
          "output_type": "stream",
          "text": [
            "0: Policy whilst every being poor feeding\n",
            "1: Or i daily is i my wantonly\n",
            "2: Self by persuade your hours which right needing\n",
            "3: Woe hems shame mayst find can beauty love dye\n",
            "4: Even watching waste heart time pity for pride\n",
            "5: And and in till boast i in proceeds ill\n",
            "6: One bids answers why kingdom she break ride\n",
            "7: In in thou be thou filching in in skill\n",
            "8: Hours time might if may any might left wronk\n",
            "9: By in thou in suit thou mercy and moan\n",
            "10: And were out what man i my my nights tongue\n",
            "11: Last this his still think the love this the gone\n",
            "12: Live worth she woe and griefs your tell disgrace\n",
            "13: For thou grace a five your thy beautys face\n"
          ],
          "name": "stdout"
        }
      ]
    },
    {
      "cell_type": "code",
      "metadata": {
        "colab": {
          "base_uri": "https://localhost:8080/",
          "height": 160,
          "referenced_widgets": [
            "df1bc8c1b4004c31ac0a730b4ccae65d",
            "58a23c06292a46d285823237bc20b8ed",
            "bdbf4229b8a54d2aa087c3bf10f13fe9",
            "da0030480bf2444981d9cf2d2f6434b0",
            "0854589d6bc947c193a8766ec5144f49",
            "910cbd561b194e3285bba4e89eee098f",
            "d73bc972fc9a4c35aa154fff259f266d",
            "f8333e5d0f2e42c5a19bc1f8ec10786f"
          ]
        },
        "id": "A165id94ye4n",
        "outputId": "7441ccce-c090-4d4f-bf9a-954036b53dfc"
      },
      "source": [
        "# train a HMM (only a few epochs)\r\n",
        "betterHMM = unsupervised_HMM(obs, 15, 50)"
      ],
      "execution_count": null,
      "outputs": [
        {
          "output_type": "display_data",
          "data": {
            "application/vnd.jupyter.widget-view+json": {
              "model_id": "df1bc8c1b4004c31ac0a730b4ccae65d",
              "version_minor": 0,
              "version_major": 2
            },
            "text/plain": [
              "HBox(children=(FloatProgress(value=0.0, max=50.0), HTML(value='')))"
            ]
          },
          "metadata": {
            "tags": []
          }
        },
        {
          "output_type": "stream",
          "text": [
            "Iteration: 10\n",
            "Iteration: 20\n",
            "Iteration: 30\n",
            "Iteration: 40\n",
            "Iteration: 50\n",
            "\n"
          ],
          "name": "stdout"
        }
      ]
    },
    {
      "cell_type": "code",
      "metadata": {
        "id": "6AzUZUdREOPz"
      },
      "source": [
        "np.save('/content/drive/My Drive/CS155_miniproject_3/15_50_A.npy', betterHMM.A)    \r\n",
        "np.save('/content/drive/My Drive/CS155_miniproject_3/15_50_O.npy', betterHMM.O)    "
      ],
      "execution_count": null,
      "outputs": []
    },
    {
      "cell_type": "code",
      "metadata": {
        "colab": {
          "base_uri": "https://localhost:8080/",
          "height": 160,
          "referenced_widgets": [
            "35f371baad5b4a61a033ea6a52078efb",
            "1ec40b9de2e74a9f9d43cb3c3bbe383e",
            "7cf05b769e1542baa5ea7179cb27b1ad",
            "ec50b492c0c24bfab693efff8ad7ab18",
            "624279bda8a64511a1e335230521d6fc",
            "0c6c251369c74125867efa75ab79768e",
            "4198e6897cbf45baa2a1a8c4d15dff85",
            "04de8865e6ae4d61934256c7a85712a0"
          ]
        },
        "id": "GLjf-piTERDb",
        "outputId": "4982ddaa-5cad-4d59-f79b-7c11bc86e82b"
      },
      "source": [
        "# train a HMM (only a few epochs)\r\n",
        "betterHMM = unsupervised_HMM(obs, 10, 50)"
      ],
      "execution_count": null,
      "outputs": [
        {
          "output_type": "display_data",
          "data": {
            "application/vnd.jupyter.widget-view+json": {
              "model_id": "35f371baad5b4a61a033ea6a52078efb",
              "version_minor": 0,
              "version_major": 2
            },
            "text/plain": [
              "HBox(children=(FloatProgress(value=0.0, max=50.0), HTML(value='')))"
            ]
          },
          "metadata": {
            "tags": []
          }
        },
        {
          "output_type": "stream",
          "text": [
            "Iteration: 10\n",
            "Iteration: 20\n",
            "Iteration: 30\n",
            "Iteration: 40\n",
            "Iteration: 50\n",
            "\n"
          ],
          "name": "stdout"
        }
      ]
    },
    {
      "cell_type": "code",
      "metadata": {
        "id": "JmsRdlLQERYj"
      },
      "source": [
        "np.save('/content/drive/My Drive/CS155_miniproject_3/10_50_A.npy', betterHMM.A)    \r\n",
        "np.save('/content/drive/My Drive/CS155_miniproject_3/10_50_O.npy', betterHMM.O)    "
      ],
      "execution_count": null,
      "outputs": []
    },
    {
      "cell_type": "code",
      "metadata": {
        "colab": {
          "base_uri": "https://localhost:8080/",
          "height": 160,
          "referenced_widgets": [
            "48233a5cdab9415ea9c6d82efa5b466c",
            "6531af6dd72146f7a20f4828d59a6a68",
            "518f0207927f48198fb8b85666641846",
            "341ad478e2664620b4c2653e6d46fcf2",
            "1b34676f08ee419eaed42be2d16cd3ef",
            "2433be9fa2d14a0fb47c266cd308f3c6",
            "ceb316dd152c4f4597953d4fb8b32d67",
            "e6dd8acf627145c4a85553c582ea5a6b"
          ]
        },
        "id": "3QzvsYn4FBWT",
        "outputId": "9cb1016e-32c8-45bc-9832-115ffc4d3dd2"
      },
      "source": [
        "# train a HMM (only a few epochs)\r\n",
        "hmm5 = unsupervised_HMM(obs, 5, 50)"
      ],
      "execution_count": null,
      "outputs": [
        {
          "output_type": "display_data",
          "data": {
            "application/vnd.jupyter.widget-view+json": {
              "model_id": "48233a5cdab9415ea9c6d82efa5b466c",
              "version_minor": 0,
              "version_major": 2
            },
            "text/plain": [
              "HBox(children=(FloatProgress(value=0.0, max=50.0), HTML(value='')))"
            ]
          },
          "metadata": {
            "tags": []
          }
        },
        {
          "output_type": "stream",
          "text": [
            "Iteration: 10\n",
            "Iteration: 20\n",
            "Iteration: 30\n",
            "Iteration: 40\n",
            "Iteration: 50\n",
            "\n"
          ],
          "name": "stdout"
        }
      ]
    },
    {
      "cell_type": "code",
      "metadata": {
        "id": "8Aqv-wGQFFAL"
      },
      "source": [
        "np.save('/content/drive/My Drive/CS155_miniproject_3/5_50_A.npy', hmm5.A)    \r\n",
        "np.save('/content/drive/My Drive/CS155_miniproject_3/5_50_O.npy', hmm5.O)    "
      ],
      "execution_count": null,
      "outputs": []
    },
    {
      "cell_type": "code",
      "metadata": {
        "colab": {
          "base_uri": "https://localhost:8080/"
        },
        "id": "qWX7jAEZUX5f",
        "outputId": "8488a315-79e8-45ef-da90-183094a9558f"
      },
      "source": [
        "#Gen the rhyming Sonnet\r\n",
        "rhyme_hmm = RhymingHiddenMarkovModel(betterHMM.A, betterHMM.O,rhyme_array,syl_dict,obs_map)\r\n",
        "sonnet = rhyme_hmm.genRhymingSonnet()"
      ],
      "execution_count": null,
      "outputs": [
        {
          "output_type": "stream",
          "text": [
            "0: Tongue beauties lays out proud my lips taken\n",
            "1: Leads thou how true birds cease back assured\n",
            "2: Inward the a for pale sweet keep shaken\n",
            "3: Now that all thine hath hath if and endured\n",
            "4: Tan thee i that why fire is that for stage\n",
            "5: I must form i despite those do then verse\n",
            "6: Dulness forgive friend fortune absence rage\n",
            "7: Is many the from i desire birds rehearse\n",
            "8: True thy suns but i victor doth behind\n",
            "9: Mistress in they then even of believe style\n",
            "10: Worlds finds sweet gravity these how since kind\n",
            "11: My consumst my rigour form kind compile\n",
            "12: Height the is a a seeming house my know\n",
            "13: Needs then so state edge which i gain eyes show\n"
          ],
          "name": "stdout"
        }
      ]
    },
    {
      "cell_type": "code",
      "metadata": {
        "colab": {
          "base_uri": "https://localhost:8080/"
        },
        "id": "fVV70ggOUcVY",
        "outputId": "bcffd2c9-e82a-40f1-de31-129cfe58b4ee"
      },
      "source": [
        "#Gen the rhyming Sonnet\r\n",
        "rhyme_hmm = RhymingHiddenMarkovModel(hmm5.A, hmm5.O,rhyme_array,syl_dict,obs_map)\r\n",
        "sonnet = rhyme_hmm.genRhymingSonnet()"
      ],
      "execution_count": null,
      "outputs": [
        {
          "output_type": "stream",
          "text": [
            "0: Whom from invention some poor with a thee\n",
            "1: Who say where and and which not largess love\n",
            "2: Which be for i red and i pleasure me\n",
            "3: Rare touches from wet is on my in prove\n",
            "4: That confounds happy as looks for i thine\n",
            "5: Through mind love fears fortune speak ordering\n",
            "6: Should and alone have but enough to mine\n",
            "7: My his on at preposterously in sing\n",
            "8: And and folly hate untutored it edge\n",
            "9: Poor sum long high remembered high as dyed\n",
            "10: Red you being would as although privilege\n",
            "11: To a is wombs his all to dignified\n",
            "12: Who his the sins loves thy my not swearing\n",
            "13: Swear haste but beauty rich ever bearing\n"
          ],
          "name": "stdout"
        }
      ]
    },
    {
      "cell_type": "code",
      "metadata": {
        "colab": {
          "base_uri": "https://localhost:8080/",
          "height": 805
        },
        "id": "3eU1x-zFP3uT",
        "outputId": "d63bf01c-682a-4086-9eed-e0e87ca551b8"
      },
      "source": [
        "import requests\r\n",
        "import io\r\n",
        "\r\n",
        "response = requests.get('https://github.com/treyra/CS155_miniproject3/blob/main/trained_hmms/5_50_A.npy?raw=true')\r\n",
        "response.raise_for_status()\r\n",
        "loadA = np.load(io.BytesIO(response.content))  \r\n",
        "response = requests.get('https://github.com/treyra/CS155_miniproject3/blob/main/trained_hmms/5_50_O.npy?raw=true')\r\n",
        "response.raise_for_status()\r\n",
        "loadO = np.load(io.BytesIO(response.content)) \r\n",
        "rhyme_hmm = RhymingHiddenMarkovModel(loadA, loadO,rhyme_array,syl_dict,obs_map)\r\n",
        "sonnet = rhyme_hmm.genRhymingSonnet()\r\n",
        "\r\n",
        "visualize_sparsities(rhyme_hmm, O_max_cols=50)"
      ],
      "execution_count": null,
      "outputs": [
        {
          "output_type": "stream",
          "text": [
            "0: Prime one deeds day injury thou when mind\n",
            "1: Else am other pen am can was day prove\n",
            "2: Heart be as eyes fire favourites behind\n",
            "3: To with the her make of worlds stand would love\n",
            "4: Shall pursuing glass may deeds enmity\n",
            "5: Taste tell what can perhaps our eyes with power\n",
            "6: But not ear death they blamed posterity\n",
            "7: Of own sight beautys and did that truth flower\n",
            "8: Knife shadows prize walls past ye crawls though pain\n",
            "9: Self holds not acquaintance the till say light\n",
            "10: Perjured rarities he nor thou the slain\n",
            "11: Images unless rank that where in bright\n",
            "12: Of all to good fond of youth the which bough\n",
            "13: Time to unbless is death thee record now\n"
          ],
          "name": "stdout"
        },
        {
          "output_type": "display_data",
          "data": {
            "image/png": "[encoded data removed]",
            "text/plain": [
              "<Figure size 432x288 with 2 Axes>"
            ]
          },
          "metadata": {
            "tags": [],
            "needs_background": "light"
          }
        },
        {
          "output_type": "display_data",
          "data": {
            "image/png": "[encoded data removed]",
            "text/plain": [
              "<Figure size 432x288 with 2 Axes>"
            ]
          },
          "metadata": {
            "tags": [],
            "needs_background": "light"
          }
        }
      ]
    },
    {
      "cell_type": "code",
      "metadata": {
        "colab": {
          "base_uri": "https://localhost:8080/",
          "height": 805
        },
        "id": "ksodpbQh7NLl",
        "outputId": "20b7d4f8-7391-41f2-e039-51ecdc7bad9e"
      },
      "source": [
        "response = requests.get('https://github.com/treyra/CS155_miniproject3/blob/main/trained_hmms/10_50_A.npy?raw=true')\r\n",
        "response.raise_for_status()\r\n",
        "loadA = np.load(io.BytesIO(response.content))  \r\n",
        "response = requests.get('https://github.com/treyra/CS155_miniproject3/blob/main/trained_hmms/10_50_O.npy?raw=true')\r\n",
        "response.raise_for_status()\r\n",
        "loadO = np.load(io.BytesIO(response.content)) \r\n",
        "rhyme_hmm10 = RhymingHiddenMarkovModel(loadA, loadO,rhyme_array,syl_dict,obs_map)\r\n",
        "sonnet = rhyme_hmm10.genRhymingSonnet()\r\n",
        "\r\n",
        "visualize_sparsities(rhyme_hmm10, O_max_cols=50)"
      ],
      "execution_count": null,
      "outputs": [
        {
          "output_type": "stream",
          "text": [
            "0: Dead right shadows lips so brass heavy crowned\n",
            "1: If like then which tell since prognosticate\n",
            "2: At if to love nor while weeds new confound\n",
            "3: If saw worse well drown let leaves belongs date\n",
            "4: The with me doom his his think loathsome sad\n",
            "5: Late two but darkness me still would of sea\n",
            "6: Thine much i thy my it thus thy that glad\n",
            "7: Seen expressed hast that sorrow why me plea\n",
            "8: Wanton they sovereign this thou heart large give\n",
            "9: The beautys the hence forests be pleasure\n",
            "10: Poor great religious that vassal thy live\n",
            "11: Not and still do constant sick say measure\n",
            "12: Thee others me learning defect the wide\n",
            "13: On salve of am from not upon belied\n"
          ],
          "name": "stdout"
        },
        {
          "output_type": "display_data",
          "data": {
            "image/png": "[encoded data removed]",
            "text/plain": [
              "<Figure size 432x288 with 2 Axes>"
            ]
          },
          "metadata": {
            "tags": [],
            "needs_background": "light"
          }
        },
        {
          "output_type": "display_data",
          "data": {
            "image/png": "[encoded data removed]",
            "text/plain": [
              "<Figure size 432x288 with 2 Axes>"
            ]
          },
          "metadata": {
            "tags": [],
            "needs_background": "light"
          }
        }
      ]
    },
    {
      "cell_type": "code",
      "metadata": {
        "colab": {
          "base_uri": "https://localhost:8080/"
        },
        "id": "O4Eqo05A9L4U",
        "outputId": "f34d8490-2fc0-4bc7-8327-83f902c5625a"
      },
      "source": [
        "np.max(rhyme_hmm10.O[5,:]),np.argsort(rhyme_hmm10.O[5,:])[::-1][0:10],rhyme_hmm10.obs_map_r[np.argsort(rhyme_hmm10.O[5,:])[-1]],rhyme_hmm10.obs_map_r[np.argsort(rhyme_hmm10.O[5,:])[-2]],rhyme_hmm10.obs_map_r[np.argsort(rhyme_hmm10.O[5,:])[-3]],rhyme_hmm10.obs_map_r[np.argsort(rhyme_hmm10.O[5,:])[-4]],rhyme_hmm10.obs_map_r[80],np.sort(rhyme_hmm10.O[5,:])[::-1][0:10]"
      ],
      "execution_count": null,
      "outputs": [
        {
          "output_type": "execute_result",
          "data": {
            "text/plain": [
              "(0.2023393038376952,\n",
              " array([ 15,  26,  41, 494,  80,  76,  21,   6,  74, 575]),\n",
              " 'the',\n",
              " 'thou',\n",
              " 'a',\n",
              " 'me',\n",
              " 'thee',\n",
              " array([0.2023393 , 0.10087567, 0.03074391, 0.02997068, 0.02792159,\n",
              "        0.02745061, 0.02157366, 0.02013893, 0.01847856, 0.01570788]))"
            ]
          },
          "metadata": {
            "tags": []
          },
          "execution_count": 49
        }
      ]
    },
    {
      "cell_type": "code",
      "metadata": {
        "colab": {
          "base_uri": "https://localhost:8080/",
          "height": 805
        },
        "id": "B0inRKkY75VX",
        "outputId": "23731a90-e541-403b-cd14-3267d72a7042"
      },
      "source": [
        "response = requests.get('https://github.com/treyra/CS155_miniproject3/blob/main/trained_hmms/15_50_A.npy?raw=true')\r\n",
        "response.raise_for_status()\r\n",
        "loadA = np.load(io.BytesIO(response.content))  \r\n",
        "response = requests.get('https://github.com/treyra/CS155_miniproject3/blob/main/trained_hmms/15_50_O.npy?raw=true')\r\n",
        "response.raise_for_status()\r\n",
        "loadO = np.load(io.BytesIO(response.content)) \r\n",
        "rhyme_hmm15 = RhymingHiddenMarkovModel(loadA, loadO,rhyme_array,syl_dict,obs_map)\r\n",
        "sonnet = rhyme_hmm15.genRhymingSonnet()\r\n",
        "\r\n",
        "visualize_sparsities(rhyme_hmm15, O_max_cols=50)"
      ],
      "execution_count": null,
      "outputs": [
        {
          "output_type": "stream",
          "text": [
            "0: I see change to and be in pattern worth\n",
            "1: Happy of both is shall let i devil\n",
            "2: Feel lusty of thy thee to near to forth\n",
            "3: Thy your thee came lends crime such or evil\n",
            "4: Thy beguiled end thy my taker mens hand\n",
            "5: My my thy unthrifts gentlest my thy fade\n",
            "6: Is with a must i rondure like my stand\n",
            "7: Composed is show from admiring shade\n",
            "8: Whose time thy faster rhyme hours my my change\n",
            "9: Before so by your the in suffer truth\n",
            "10: True fame under ever thou from in strange\n",
            "11: Mute strengthened then alone you who thou youth\n",
            "12: My poor thy more thy me repay misplaced\n",
            "13: Directed razed wilt if true rare disgraced\n"
          ],
          "name": "stdout"
        },
        {
          "output_type": "display_data",
          "data": {
            "image/png": "[encoded data removed]",
            "text/plain": [
              "<Figure size 432x288 with 2 Axes>"
            ]
          },
          "metadata": {
            "tags": [],
            "needs_background": "light"
          }
        },
        {
          "output_type": "display_data",
          "data": {
            "image/png": "[encoded data removed]",
            "text/plain": [
              "<Figure size 432x288 with 2 Axes>"
            ]
          },
          "metadata": {
            "tags": [],
            "needs_background": "light"
          }
        }
      ]
    },
    {
      "cell_type": "code",
      "metadata": {
        "colab": {
          "base_uri": "https://localhost:8080/"
        },
        "id": "V5nMzm0q9I7s",
        "outputId": "3c1e5e58-48a5-4944-adc9-a209c1c1b059"
      },
      "source": [
        "rhyme_hmm15.obs_map[\"his\"]"
      ],
      "execution_count": null,
      "outputs": [
        {
          "output_type": "execute_result",
          "data": {
            "text/plain": [
              "21"
            ]
          },
          "metadata": {
            "tags": []
          },
          "execution_count": 52
        }
      ]
    },
    {
      "cell_type": "code",
      "metadata": {
        "colab": {
          "base_uri": "https://localhost:8080/",
          "height": 805
        },
        "id": "BNuMnrQp78rz",
        "outputId": "a5c79634-49f4-4a16-846c-953730b1834e"
      },
      "source": [
        "response = requests.get('https://github.com/treyra/CS155_miniproject3/blob/main/trained_hmms/20_50_A.npy?raw=true')\r\n",
        "response.raise_for_status()\r\n",
        "loadA = np.load(io.BytesIO(response.content))  \r\n",
        "response = requests.get('https://github.com/treyra/CS155_miniproject3/blob/main/trained_hmms/20_50_O.npy?raw=true')\r\n",
        "response.raise_for_status()\r\n",
        "loadO = np.load(io.BytesIO(response.content)) \r\n",
        "rhyme_hmm20 = RhymingHiddenMarkovModel(loadA, loadO,rhyme_array,syl_dict,obs_map)\r\n",
        "sonnet = rhyme_hmm20.genRhymingSonnet()\r\n",
        "\r\n",
        "visualize_sparsities(rhyme_hmm20, O_max_cols=50)"
      ],
      "execution_count": null,
      "outputs": [
        {
          "output_type": "stream",
          "text": [
            "0: Nor of gone he those with for die and lie\n",
            "1: Indeed that what grown mourning blunt aright\n",
            "2: New the his torment the a thought defy\n",
            "3: Thine accents might old beauty growth some sight\n",
            "4: Pipe but jollity not face derive me\n",
            "5: For still to sometime with advantage right\n",
            "6: For am break my my my fill tend my thee\n",
            "7: Prime base youth to ground to or so in sight\n",
            "8: Love thievish i all borne guard can good cold\n",
            "9: Strong so but with most and of ten lived make\n",
            "10: Thy thy fall some happy here jaws behold\n",
            "11: To friend it self of so is and not sake\n",
            "12: So can great that time state so with what thee\n",
            "13: Some on too sympathized words nor i me\n"
          ],
          "name": "stdout"
        },
        {
          "output_type": "display_data",
          "data": {
            "image/png": "[encoded data removed]",
            "text/plain": [
              "<Figure size 432x288 with 2 Axes>"
            ]
          },
          "metadata": {
            "tags": [],
            "needs_background": "light"
          }
        },
        {
          "output_type": "display_data",
          "data": {
            "image/png": "[encoded data removed]",
            "text/plain": [
              "<Figure size 432x288 with 2 Axes>"
            ]
          },
          "metadata": {
            "tags": [],
            "needs_background": "light"
          }
        }
      ]
    },
    {
      "cell_type": "code",
      "metadata": {
        "colab": {
          "base_uri": "https://localhost:8080/"
        },
        "id": "MlpLqHRoESSl",
        "outputId": "ec068602-c3c0-49f0-fb5e-89614bc4c537"
      },
      "source": [
        "rhyme_hmm20.obs_map[\"my\"],rhyme_hmm20.O[0,132],rhyme_hmm20.O[13,132],rhyme_hmm20.A[0,13],rhyme_hmm20.A[13,0],rhyme_hmm20.O[:,132]"
      ],
      "execution_count": null,
      "outputs": [
        {
          "output_type": "execute_result",
          "data": {
            "text/plain": [
              "(132,\n",
              " 0.3195765348461181,\n",
              " 1.2602427398316739e-20,\n",
              " 0.7585731360225366,\n",
              " 0.040673774237136605,\n",
              " array([3.19576535e-01, 4.30606142e-03, 2.05225203e-36, 8.38775645e-40,\n",
              "        1.24344058e-10, 3.44218527e-57, 1.21413709e-33, 4.05696066e-24,\n",
              "        1.18864722e-36, 1.74800652e-25, 1.61602623e-20, 1.06162193e-02,\n",
              "        7.18120667e-35, 1.26024274e-20, 1.01331619e-03, 1.35177047e-36,\n",
              "        1.72316312e-10, 3.81601139e-10, 4.71151323e-15, 1.93685490e-38]))"
            ]
          },
          "metadata": {
            "tags": []
          },
          "execution_count": 61
        }
      ]
    },
    {
      "cell_type": "markdown",
      "metadata": {
        "id": "k6q88sorZPBn"
      },
      "source": [
        "#RNN model"
      ]
    },
    {
      "cell_type": "code",
      "metadata": {
        "id": "gC0bSyR3ZQGG"
      },
      "source": [
        ""
      ],
      "execution_count": null,
      "outputs": []
    }
  ]
}