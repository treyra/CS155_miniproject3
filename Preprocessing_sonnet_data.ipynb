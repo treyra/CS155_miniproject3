{
  "nbformat": 4,
  "nbformat_minor": 0,
  "metadata": {
    "colab": {
      "name": "Preprocessing_sonnet_data.ipynb",
      "provenance": [],
      "collapsed_sections": [],
      "authorship_tag": "ABX9TyNZvaACx0UuL4Evax5g0IwG",
      "include_colab_link": true
    },
    "kernelspec": {
      "name": "python3",
      "display_name": "Python 3"
    }
  },
  "cells": [
    {
      "cell_type": "markdown",
      "metadata": {
        "id": "view-in-github",
        "colab_type": "text"
      },
      "source": [
        "<a href=\"https://colab.research.google.com/github/treyra/CS155_miniproject3/blob/main/Preprocessing_sonnet_data.ipynb\" target=\"_parent\"><img src=\"https://colab.research.google.com/assets/colab-badge.svg\" alt=\"Open In Colab\"/></a>"
      ]
    },
    {
      "cell_type": "code",
      "metadata": {
        "id": "kwUm54mhYliJ"
      },
      "source": [
        "import numpy as np"
      ],
      "execution_count": 58,
      "outputs": []
    },
    {
      "cell_type": "code",
      "metadata": {
        "colab": {
          "base_uri": "https://localhost:8080/",
          "height": 37
        },
        "id": "CBwIp4TQYeT_",
        "outputId": "a57f6b7a-4745-4710-ef4f-05554dc321b6"
      },
      "source": [
        "# read in the data\n",
        "# Import Data\n",
        "data = np.genfromtxt('https://raw.githubusercontent.com/lakigigar/Caltech-CS155-2021/main/projects/project3/data/shakespeare.txt',delimiter='\\t',dtype=None,encoding='ISO-8859-1')\n",
        "data[-15]"
      ],
      "execution_count": 59,
      "outputs": [
        {
          "output_type": "execute_result",
          "data": {
            "application/vnd.google.colaboratory.intrinsic+json": {
              "type": "string"
            },
            "text/plain": [
              "'154'"
            ]
          },
          "metadata": {
            "tags": []
          },
          "execution_count": 59
        }
      ]
    },
    {
      "cell_type": "code",
      "metadata": {
        "id": "FWjzTm1TY-Us"
      },
      "source": [
        "# make all words lower case\n",
        "for i in range(len(data)):\n",
        "  data[i]=data[i].lower()"
      ],
      "execution_count": 60,
      "outputs": []
    },
    {
      "cell_type": "code",
      "metadata": {
        "id": "DTZh0lAeajPB"
      },
      "source": [
        "# remove space at beginning of line\n",
        "for i in range(len(data)):\n",
        "  while data[i][0] == ' ':\n",
        "    line = list(data[i])\n",
        "    data[i] = \"\".join(line[1:len(line)])"
      ],
      "execution_count": 61,
      "outputs": []
    },
    {
      "cell_type": "code",
      "metadata": {
        "id": "faG6yVLGbrUK"
      },
      "source": [
        "# remove \\n\n",
        "for i in range(len(data)):\n",
        "        data[i] = data[i].replace('\\n', '')"
      ],
      "execution_count": 62,
      "outputs": []
    },
    {
      "cell_type": "code",
      "metadata": {
        "id": "EFb9hQSUbz_d"
      },
      "source": [
        "# remove punctuation\n",
        "to_remove = ['.', ',', ';', ':', '?', '!', '-', \"'\"]\n",
        "for k in range(len(to_remove)):\n",
        "  for i in range(len(data)):\n",
        "    data[i] = ''.join([j for j in data[i] if j not in to_remove])"
      ],
      "execution_count": 63,
      "outputs": []
    },
    {
      "cell_type": "code",
      "metadata": {
        "id": "7WOHcW20X2sf"
      },
      "source": [
        "# remove empty lines\n",
        "# find indices to remove\n",
        "remove_idx = []\n",
        "for i in range(len(data)):\n",
        "  if data[i] == '\\n':\n",
        "    remove_idx.append(i)\n",
        "  if data[i] == '':\n",
        "    remove_idx.append(i)\n",
        "# remove\n",
        "data_clean = []\n",
        "for k in range(len(data)):\n",
        "  if k not in remove_idx:\n",
        "    data_clean.append(data[k])\n",
        "data = data_clean"
      ],
      "execution_count": 64,
      "outputs": []
    },
    {
      "cell_type": "code",
      "metadata": {
        "colab": {
          "base_uri": "https://localhost:8080/"
        },
        "id": "2CY8BZzxY7G8",
        "outputId": "7058285e-6e96-485c-b06a-6635eed6a54d"
      },
      "source": [
        "len(data)"
      ],
      "execution_count": 44,
      "outputs": [
        {
          "output_type": "execute_result",
          "data": {
            "text/plain": [
              "2309"
            ]
          },
          "metadata": {
            "tags": []
          },
          "execution_count": 44
        }
      ]
    },
    {
      "cell_type": "code",
      "metadata": {
        "colab": {
          "base_uri": "https://localhost:8080/"
        },
        "id": "ijE-a5WWdmi9",
        "outputId": "626802ed-7b10-4f83-b576-986a3d76cfb7"
      },
      "source": [
        "# remove sonnets which are too long or too short\n",
        "# always 14 lines long\n",
        "# check how long each sonnet is - should be 14!\n",
        "digit_idxs = []\n",
        "for i in range(len(data)):\n",
        "  if data[i].isdigit():\n",
        "    digit_idxs.append(i)\n",
        "#print(digit_idxs)\n",
        "# get difference\n",
        "length = np.diff(np.array(digit_idxs))\n",
        "#print(length)\n",
        "# remove the sonnet with too many or too few lines\n",
        "remove_nbrs = dict()\n",
        "for i in range(len(length)):\n",
        "  if length[i]!=15:\n",
        "    remove_nbrs.update({data[digit_idxs[i]]:length[i]})\n",
        "# remove the sonnets with the numbers in remove_numbers\n",
        "remove_idx = []\n",
        "for i in range(len(data)):\n",
        "  if data[i] in remove_nbrs:\n",
        "    print(data[i])\n",
        "    for k in range(0,remove_nbrs[data[i]]):\n",
        "      remove_idx.append(i+k)\n",
        "# remove\n",
        "data_clean = []\n",
        "for k in range(len(data)):\n",
        "  if k not in remove_idx:\n",
        "    data_clean.append(data[k])\n",
        "data = data_clean"
      ],
      "execution_count": 65,
      "outputs": [
        {
          "output_type": "stream",
          "text": [
            "99\n",
            "126\n"
          ],
          "name": "stdout"
        }
      ]
    },
    {
      "cell_type": "code",
      "metadata": {
        "colab": {
          "base_uri": "https://localhost:8080/"
        },
        "id": "zTroINIUY6CP",
        "outputId": "c1f69de2-6646-46eb-98bd-4702543ac121"
      },
      "source": [
        "len(data)"
      ],
      "execution_count": 46,
      "outputs": [
        {
          "output_type": "execute_result",
          "data": {
            "text/plain": [
              "2280"
            ]
          },
          "metadata": {
            "tags": []
          },
          "execution_count": 46
        }
      ]
    },
    {
      "cell_type": "code",
      "metadata": {
        "id": "HfeWb8KGYI4C"
      },
      "source": [
        "# remove numbers\n",
        "for i in range(len(data)):\n",
        "  data[i] = ''.join([j for j in data[i] if not j.isdigit()])\n",
        "# remove created empty lines again\n",
        "# find indices to remove\n",
        "remove_idx = []\n",
        "for i in range(len(data)):\n",
        "  if data[i] == '\\n':\n",
        "    remove_idx.append(i)\n",
        "  if data[i] == '':\n",
        "    remove_idx.append(i)\n",
        "# remove\n",
        "data_clean = []\n",
        "for k in range(len(data)):\n",
        "  if k not in remove_idx:\n",
        "    data_clean.append(data[k])\n",
        "data = data_clean"
      ],
      "execution_count": 66,
      "outputs": []
    },
    {
      "cell_type": "code",
      "metadata": {
        "id": "sDdcig86YOrb"
      },
      "source": [
        "# this is the data per line\n",
        "data_by_line = data"
      ],
      "execution_count": 67,
      "outputs": []
    },
    {
      "cell_type": "code",
      "metadata": {
        "colab": {
          "base_uri": "https://localhost:8080/"
        },
        "id": "xGJkizSvYX3b",
        "outputId": "5173dd85-e689-4113-9e6b-212cc42bb034"
      },
      "source": [
        "len(data)"
      ],
      "execution_count": 53,
      "outputs": [
        {
          "output_type": "execute_result",
          "data": {
            "text/plain": [
              "152.0"
            ]
          },
          "metadata": {
            "tags": []
          },
          "execution_count": 53
        }
      ]
    },
    {
      "cell_type": "code",
      "metadata": {
        "id": "BZhwdlDLfaTK"
      },
      "source": [
        "# get data per sonnet\n",
        "# split up in sonnets\n",
        "nr_sonnets = len(data)/14\n",
        "data_by_sonnet = [None] * int(nr_sonnets)\n",
        "i = 0\n",
        "for k in range(0, len(data), 14):\n",
        "  cString = ''\n",
        "  for idx in range(14):\n",
        "    #print(idx)\n",
        "    if idx != 0:\n",
        "      try:\n",
        "        cString = cString + ' ' + data[k + idx]\n",
        "      except:\n",
        "        import pdb; pdb.set_trace()\n",
        "    else: \n",
        "      cString = data[k]\n",
        "  data_by_sonnet[i] = cString\n",
        "  i+=1"
      ],
      "execution_count": 68,
      "outputs": []
    },
    {
      "cell_type": "code",
      "metadata": {
        "colab": {
          "base_uri": "https://localhost:8080/"
        },
        "id": "UEv2RgfYaC5x",
        "outputId": "5377a2fd-41ab-4ee5-c7d5-2425f3fb37aa"
      },
      "source": [
        "len(data_by_sonnet)"
      ],
      "execution_count": 56,
      "outputs": [
        {
          "output_type": "execute_result",
          "data": {
            "text/plain": [
              "152"
            ]
          },
          "metadata": {
            "tags": []
          },
          "execution_count": 56
        }
      ]
    },
    {
      "cell_type": "code",
      "metadata": {
        "id": "4eeGpJ93bdwU"
      },
      "source": [
        "# mount drive\n",
        "# save data by line and data by sonnet\n",
        "from google.colab import drive\n",
        "drive.mount('./drive',force_remount=True)"
      ],
      "execution_count": null,
      "outputs": []
    },
    {
      "cell_type": "code",
      "metadata": {
        "id": "D9dxC62XZSzC"
      },
      "source": [
        "# make new file for data per line\n",
        "with open('/content/drive/My Drive/CS155_miniproject_3/data_line.txt', 'w') as f:\n",
        "  for item in data_by_line:\n",
        "        f.write(\"%s\\n\" % item)"
      ],
      "execution_count": 71,
      "outputs": []
    },
    {
      "cell_type": "code",
      "metadata": {
        "id": "QY0xUd3KbjXB"
      },
      "source": [
        "# make new file for data per sonnet\n",
        "with open('/content/drive/My Drive/CS155_miniproject_3/data_sonnet.txt', 'w') as f:\n",
        "  for item in data_by_sonnet:\n",
        "        f.write(\"%s\\n\" % item)"
      ],
      "execution_count": 72,
      "outputs": []
    }
  ]
}