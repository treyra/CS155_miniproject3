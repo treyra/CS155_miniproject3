{
  "nbformat": 4,
  "nbformat_minor": 0,
  "metadata": {
    "anaconda-cloud": {},
    "kernelspec": {
      "display_name": "Python 3",
      "language": "python",
      "name": "python3"
    },
    "language_info": {
      "codemirror_mode": {
        "name": "ipython",
        "version": 3
      },
      "file_extension": ".py",
      "mimetype": "text/x-python",
      "name": "python",
      "nbconvert_exporter": "python",
      "pygments_lexer": "ipython3",
      "version": "3.6.3"
    },
    "colab": {
      "name": "Data Imputation",
      "provenance": [],
      "collapsed_sections": [],
      "include_colab_link": true
    }
  },
  "cells": [
    {
      "cell_type": "markdown",
      "metadata": {
        "id": "view-in-github",
        "colab_type": "text"
      },
      "source": [
        "<a href=\"https://colab.research.google.com/github/treyra/CS155_miniproject/blob/data_visualization_v1/Data_Imputation.ipynb\" target=\"_parent\"><img src=\"https://colab.research.google.com/assets/colab-badge.svg\" alt=\"Open In Colab\"/></a>"
      ]
    },
    {
      "cell_type": "markdown",
      "metadata": {
        "id": "WF1crkj-DTKO"
      },
      "source": [
        "# Notebook for data imputation - in progress\n",
        "\n"
      ]
    },
    {
      "cell_type": "markdown",
      "metadata": {
        "id": "XNkW8PGKDTKW"
      },
      "source": [
        "Import statements"
      ]
    },
    {
      "cell_type": "code",
      "metadata": {
        "collapsed": true,
        "id": "yXh6KLlUDTKX"
      },
      "source": [
        "import matplotlib.pyplot as plt\n",
        "import numpy as np\n",
        "import pandas as pd"
      ],
      "execution_count": 2,
      "outputs": []
    },
    {
      "cell_type": "code",
      "metadata": {
        "id": "z59PzLJWviUl",
        "colab": {
          "base_uri": "https://localhost:8080/",
          "height": 204
        },
        "outputId": "474eb53d-4954-453b-8db0-103e88832914"
      },
      "source": [
        "df = pd.read_csv('https://raw.githubusercontent.com/treyra/CS155_miniproject/master/WILDFIRES_TRAIN.csv',sep=',', header=0)\n",
        "df.head()"
      ],
      "execution_count": 35,
      "outputs": [
        {
          "output_type": "execute_result",
          "data": {
            "text/html": [
              "<div>\n",
              "<style scoped>\n",
              "    .dataframe tbody tr th:only-of-type {\n",
              "        vertical-align: middle;\n",
              "    }\n",
              "\n",
              "    .dataframe tbody tr th {\n",
              "        vertical-align: top;\n",
              "    }\n",
              "\n",
              "    .dataframe thead th {\n",
              "        text-align: right;\n",
              "    }\n",
              "</style>\n",
              "<table border=\"1\" class=\"dataframe\">\n",
              "  <thead>\n",
              "    <tr style=\"text-align: right;\">\n",
              "      <th></th>\n",
              "      <th>id</th>\n",
              "      <th>LATITUDE</th>\n",
              "      <th>LONGITUDE</th>\n",
              "      <th>STATE</th>\n",
              "      <th>DISCOVERY_TIME</th>\n",
              "      <th>FIRE_SIZE</th>\n",
              "      <th>FIPS_NAME</th>\n",
              "      <th>FIPS_CODE</th>\n",
              "      <th>SOURCE_REPORTING_UNIT_NAME</th>\n",
              "      <th>DATE</th>\n",
              "      <th>LABEL</th>\n",
              "    </tr>\n",
              "  </thead>\n",
              "  <tbody>\n",
              "    <tr>\n",
              "      <th>0</th>\n",
              "      <td>0</td>\n",
              "      <td>38.205000</td>\n",
              "      <td>-120.335000</td>\n",
              "      <td>CA</td>\n",
              "      <td>130.0</td>\n",
              "      <td>0.10</td>\n",
              "      <td>NaN</td>\n",
              "      <td>NaN</td>\n",
              "      <td>Stanislaus National Forest</td>\n",
              "      <td>1992-01-01</td>\n",
              "      <td>1</td>\n",
              "    </tr>\n",
              "    <tr>\n",
              "      <th>1</th>\n",
              "      <td>1</td>\n",
              "      <td>33.813100</td>\n",
              "      <td>-85.104300</td>\n",
              "      <td>GA</td>\n",
              "      <td>1115.0</td>\n",
              "      <td>1.17</td>\n",
              "      <td>Haralson</td>\n",
              "      <td>143.0</td>\n",
              "      <td>Georgia Forestry Commission</td>\n",
              "      <td>1992-01-01</td>\n",
              "      <td>4</td>\n",
              "    </tr>\n",
              "    <tr>\n",
              "      <th>2</th>\n",
              "      <td>2</td>\n",
              "      <td>32.201000</td>\n",
              "      <td>-82.498700</td>\n",
              "      <td>GA</td>\n",
              "      <td>1600.0</td>\n",
              "      <td>0.07</td>\n",
              "      <td>Montgomery</td>\n",
              "      <td>209.0</td>\n",
              "      <td>Georgia Forestry Commission</td>\n",
              "      <td>1992-01-01</td>\n",
              "      <td>2</td>\n",
              "    </tr>\n",
              "    <tr>\n",
              "      <th>3</th>\n",
              "      <td>3</td>\n",
              "      <td>32.509300</td>\n",
              "      <td>-81.708600</td>\n",
              "      <td>GA</td>\n",
              "      <td>1215.0</td>\n",
              "      <td>4.40</td>\n",
              "      <td>Bulloch</td>\n",
              "      <td>31.0</td>\n",
              "      <td>Georgia Forestry Commission</td>\n",
              "      <td>1992-01-01</td>\n",
              "      <td>4</td>\n",
              "    </tr>\n",
              "    <tr>\n",
              "      <th>4</th>\n",
              "      <td>4</td>\n",
              "      <td>33.663889</td>\n",
              "      <td>-116.171944</td>\n",
              "      <td>CA</td>\n",
              "      <td>NaN</td>\n",
              "      <td>0.20</td>\n",
              "      <td>NaN</td>\n",
              "      <td>NaN</td>\n",
              "      <td>CDF - Riverside Unit</td>\n",
              "      <td>1992-01-01</td>\n",
              "      <td>2</td>\n",
              "    </tr>\n",
              "  </tbody>\n",
              "</table>\n",
              "</div>"
            ],
            "text/plain": [
              "   id   LATITUDE   LONGITUDE  ...   SOURCE_REPORTING_UNIT_NAME        DATE  LABEL\n",
              "0   0  38.205000 -120.335000  ...   Stanislaus National Forest  1992-01-01      1\n",
              "1   1  33.813100  -85.104300  ...  Georgia Forestry Commission  1992-01-01      4\n",
              "2   2  32.201000  -82.498700  ...  Georgia Forestry Commission  1992-01-01      2\n",
              "3   3  32.509300  -81.708600  ...  Georgia Forestry Commission  1992-01-01      4\n",
              "4   4  33.663889 -116.171944  ...         CDF - Riverside Unit  1992-01-01      2\n",
              "\n",
              "[5 rows x 11 columns]"
            ]
          },
          "metadata": {
            "tags": []
          },
          "execution_count": 35
        }
      ]
    },
    {
      "cell_type": "code",
      "metadata": {
        "colab": {
          "base_uri": "https://localhost:8080/",
          "height": 204
        },
        "id": "umnkcug9nXjR",
        "outputId": "04e37e31-e178-43d8-dd11-e84a24d6c5c7"
      },
      "source": [
        "# convert State from strings to numbers\n",
        "df['STATE'] = df['STATE'].replace(['CA'],1)\n",
        "df['STATE'] = df['STATE'].replace(['GA'],2)\n",
        "df.head()"
      ],
      "execution_count": 36,
      "outputs": [
        {
          "output_type": "execute_result",
          "data": {
            "text/html": [
              "<div>\n",
              "<style scoped>\n",
              "    .dataframe tbody tr th:only-of-type {\n",
              "        vertical-align: middle;\n",
              "    }\n",
              "\n",
              "    .dataframe tbody tr th {\n",
              "        vertical-align: top;\n",
              "    }\n",
              "\n",
              "    .dataframe thead th {\n",
              "        text-align: right;\n",
              "    }\n",
              "</style>\n",
              "<table border=\"1\" class=\"dataframe\">\n",
              "  <thead>\n",
              "    <tr style=\"text-align: right;\">\n",
              "      <th></th>\n",
              "      <th>id</th>\n",
              "      <th>LATITUDE</th>\n",
              "      <th>LONGITUDE</th>\n",
              "      <th>STATE</th>\n",
              "      <th>DISCOVERY_TIME</th>\n",
              "      <th>FIRE_SIZE</th>\n",
              "      <th>FIPS_NAME</th>\n",
              "      <th>FIPS_CODE</th>\n",
              "      <th>SOURCE_REPORTING_UNIT_NAME</th>\n",
              "      <th>DATE</th>\n",
              "      <th>LABEL</th>\n",
              "    </tr>\n",
              "  </thead>\n",
              "  <tbody>\n",
              "    <tr>\n",
              "      <th>0</th>\n",
              "      <td>0</td>\n",
              "      <td>38.205000</td>\n",
              "      <td>-120.335000</td>\n",
              "      <td>1</td>\n",
              "      <td>130.0</td>\n",
              "      <td>0.10</td>\n",
              "      <td>NaN</td>\n",
              "      <td>NaN</td>\n",
              "      <td>Stanislaus National Forest</td>\n",
              "      <td>1992-01-01</td>\n",
              "      <td>1</td>\n",
              "    </tr>\n",
              "    <tr>\n",
              "      <th>1</th>\n",
              "      <td>1</td>\n",
              "      <td>33.813100</td>\n",
              "      <td>-85.104300</td>\n",
              "      <td>2</td>\n",
              "      <td>1115.0</td>\n",
              "      <td>1.17</td>\n",
              "      <td>Haralson</td>\n",
              "      <td>143.0</td>\n",
              "      <td>Georgia Forestry Commission</td>\n",
              "      <td>1992-01-01</td>\n",
              "      <td>4</td>\n",
              "    </tr>\n",
              "    <tr>\n",
              "      <th>2</th>\n",
              "      <td>2</td>\n",
              "      <td>32.201000</td>\n",
              "      <td>-82.498700</td>\n",
              "      <td>2</td>\n",
              "      <td>1600.0</td>\n",
              "      <td>0.07</td>\n",
              "      <td>Montgomery</td>\n",
              "      <td>209.0</td>\n",
              "      <td>Georgia Forestry Commission</td>\n",
              "      <td>1992-01-01</td>\n",
              "      <td>2</td>\n",
              "    </tr>\n",
              "    <tr>\n",
              "      <th>3</th>\n",
              "      <td>3</td>\n",
              "      <td>32.509300</td>\n",
              "      <td>-81.708600</td>\n",
              "      <td>2</td>\n",
              "      <td>1215.0</td>\n",
              "      <td>4.40</td>\n",
              "      <td>Bulloch</td>\n",
              "      <td>31.0</td>\n",
              "      <td>Georgia Forestry Commission</td>\n",
              "      <td>1992-01-01</td>\n",
              "      <td>4</td>\n",
              "    </tr>\n",
              "    <tr>\n",
              "      <th>4</th>\n",
              "      <td>4</td>\n",
              "      <td>33.663889</td>\n",
              "      <td>-116.171944</td>\n",
              "      <td>1</td>\n",
              "      <td>NaN</td>\n",
              "      <td>0.20</td>\n",
              "      <td>NaN</td>\n",
              "      <td>NaN</td>\n",
              "      <td>CDF - Riverside Unit</td>\n",
              "      <td>1992-01-01</td>\n",
              "      <td>2</td>\n",
              "    </tr>\n",
              "  </tbody>\n",
              "</table>\n",
              "</div>"
            ],
            "text/plain": [
              "   id   LATITUDE   LONGITUDE  ...   SOURCE_REPORTING_UNIT_NAME        DATE  LABEL\n",
              "0   0  38.205000 -120.335000  ...   Stanislaus National Forest  1992-01-01      1\n",
              "1   1  33.813100  -85.104300  ...  Georgia Forestry Commission  1992-01-01      4\n",
              "2   2  32.201000  -82.498700  ...  Georgia Forestry Commission  1992-01-01      2\n",
              "3   3  32.509300  -81.708600  ...  Georgia Forestry Commission  1992-01-01      4\n",
              "4   4  33.663889 -116.171944  ...         CDF - Riverside Unit  1992-01-01      2\n",
              "\n",
              "[5 rows x 11 columns]"
            ]
          },
          "metadata": {
            "tags": []
          },
          "execution_count": 36
        }
      ]
    },
    {
      "cell_type": "code",
      "metadata": {
        "colab": {
          "base_uri": "https://localhost:8080/"
        },
        "id": "m7H0DlBEravb",
        "outputId": "3ffe108c-7a52-4ad8-b419-43f242560dd3"
      },
      "source": [
        "df.STATE.unique()"
      ],
      "execution_count": null,
      "outputs": [
        {
          "output_type": "execute_result",
          "data": {
            "text/plain": [
              "array(['1', '2'], dtype=object)"
            ]
          },
          "metadata": {
            "tags": []
          },
          "execution_count": 13
        }
      ]
    },
    {
      "cell_type": "code",
      "metadata": {
        "colab": {
          "base_uri": "https://localhost:8080/"
        },
        "id": "p2zdLYC_reSf",
        "outputId": "8f7ee84f-7e97-4afd-a2a8-35e0c4abe0d9"
      },
      "source": [
        "len(df.FIPS_NAME.unique())"
      ],
      "execution_count": null,
      "outputs": [
        {
          "output_type": "execute_result",
          "data": {
            "text/plain": [
              "216"
            ]
          },
          "metadata": {
            "tags": []
          },
          "execution_count": 19
        }
      ]
    },
    {
      "cell_type": "code",
      "metadata": {
        "colab": {
          "base_uri": "https://localhost:8080/"
        },
        "id": "l5z6ay_2rjam",
        "outputId": "dcc49748-03a8-4e97-8681-c85d756c22e3"
      },
      "source": [
        "df.FIPS_CODE.unique()\n",
        "#len(df.FIPS_CODE.unique())"
      ],
      "execution_count": 33,
      "outputs": [
        {
          "output_type": "execute_result",
          "data": {
            "text/plain": [
              "array([ nan, 143., 209.,  31.,  71., 129., 309., 279.,  93., 271.,  69.,\n",
              "       175., 115., 183., 235., 233.,  27., 127., 205., 319.,  49., 315.,\n",
              "       131., 185., 153.,   3., 269., 201.,  87., 317., 287., 181.,  17.,\n",
              "         1.,  39.,  75., 109., 117., 273., 111., 165., 139., 255., 199.,\n",
              "       251.,   5.,  91.,  95., 231., 151., 177., 253., 299., 179., 321.,\n",
              "       225.,  29.,  81., 293.,  47., 103.,  45., 275., 283.,  25., 195.,\n",
              "        33., 155., 107., 277., 211., 229., 305., 257., 223., 217., 121.,\n",
              "        57., 101., 133.,  99., 161., 171., 301., 135., 237., 141.,  43.,\n",
              "       249.,  97., 193., 113.,  73., 173.,  19., 227.,  77., 303.,  13.,\n",
              "        15.,  61., 261., 289., 167., 221., 105.,  79., 119., 169., 247.,\n",
              "       297.,  11., 159., 191.,  55., 267., 157., 295., 219.,  59., 213.,\n",
              "       137., 281., 311., 313.,  83.,  21., 187., 197., 291., 307.,  51.,\n",
              "       243.,  23., 189., 259., 207.,   9., 245.,  30., 263.,  63.,   7.,\n",
              "       149., 147., 285., 123., 145., 163.,  89., 265.,  85., 239., 125.,\n",
              "        65.,  37.,  35.,  53., 215., 241.,  67.,  41.])"
            ]
          },
          "metadata": {
            "tags": []
          },
          "execution_count": 33
        }
      ]
    },
    {
      "cell_type": "code",
      "metadata": {
        "id": "aSUZ2thfvE42"
      },
      "source": [
        "# transform FIPS_NAME in integer\n",
        "for i,fipsname in enumerate(df.FIPS_NAME.unique()):\n",
        "  df['FIPS_NAME'] = df['FIPS_NAME'].replace([str(fipsname)],[i])"
      ],
      "execution_count": 37,
      "outputs": []
    },
    {
      "cell_type": "code",
      "metadata": {
        "id": "BRbRUlFzwFHA"
      },
      "source": [
        "# transform SOURCE_REPORTING_UNIT_NAME in integer\n",
        "for i,unitname in enumerate(df.SOURCE_REPORTING_UNIT_NAME.unique()):\n",
        "  df['SOURCE_REPORTING_UNIT_NAME'] = df['SOURCE_REPORTING_UNIT_NAME'].replace([str(unitname)],[i])"
      ],
      "execution_count": 38,
      "outputs": []
    },
    {
      "cell_type": "code",
      "metadata": {
        "colab": {
          "base_uri": "https://localhost:8080/",
          "height": 204
        },
        "id": "AZf1gpyWvoov",
        "outputId": "45455055-b822-42c2-d7ab-e611b8c0b9b0"
      },
      "source": [
        "df.head()"
      ],
      "execution_count": 39,
      "outputs": [
        {
          "output_type": "execute_result",
          "data": {
            "text/html": [
              "<div>\n",
              "<style scoped>\n",
              "    .dataframe tbody tr th:only-of-type {\n",
              "        vertical-align: middle;\n",
              "    }\n",
              "\n",
              "    .dataframe tbody tr th {\n",
              "        vertical-align: top;\n",
              "    }\n",
              "\n",
              "    .dataframe thead th {\n",
              "        text-align: right;\n",
              "    }\n",
              "</style>\n",
              "<table border=\"1\" class=\"dataframe\">\n",
              "  <thead>\n",
              "    <tr style=\"text-align: right;\">\n",
              "      <th></th>\n",
              "      <th>id</th>\n",
              "      <th>LATITUDE</th>\n",
              "      <th>LONGITUDE</th>\n",
              "      <th>STATE</th>\n",
              "      <th>DISCOVERY_TIME</th>\n",
              "      <th>FIRE_SIZE</th>\n",
              "      <th>FIPS_NAME</th>\n",
              "      <th>FIPS_CODE</th>\n",
              "      <th>SOURCE_REPORTING_UNIT_NAME</th>\n",
              "      <th>DATE</th>\n",
              "      <th>LABEL</th>\n",
              "    </tr>\n",
              "  </thead>\n",
              "  <tbody>\n",
              "    <tr>\n",
              "      <th>0</th>\n",
              "      <td>0</td>\n",
              "      <td>38.205000</td>\n",
              "      <td>-120.335000</td>\n",
              "      <td>1</td>\n",
              "      <td>130.0</td>\n",
              "      <td>0.10</td>\n",
              "      <td>NaN</td>\n",
              "      <td>NaN</td>\n",
              "      <td>0</td>\n",
              "      <td>1992-01-01</td>\n",
              "      <td>1</td>\n",
              "    </tr>\n",
              "    <tr>\n",
              "      <th>1</th>\n",
              "      <td>1</td>\n",
              "      <td>33.813100</td>\n",
              "      <td>-85.104300</td>\n",
              "      <td>2</td>\n",
              "      <td>1115.0</td>\n",
              "      <td>1.17</td>\n",
              "      <td>1.0</td>\n",
              "      <td>143.0</td>\n",
              "      <td>1</td>\n",
              "      <td>1992-01-01</td>\n",
              "      <td>4</td>\n",
              "    </tr>\n",
              "    <tr>\n",
              "      <th>2</th>\n",
              "      <td>2</td>\n",
              "      <td>32.201000</td>\n",
              "      <td>-82.498700</td>\n",
              "      <td>2</td>\n",
              "      <td>1600.0</td>\n",
              "      <td>0.07</td>\n",
              "      <td>2.0</td>\n",
              "      <td>209.0</td>\n",
              "      <td>1</td>\n",
              "      <td>1992-01-01</td>\n",
              "      <td>2</td>\n",
              "    </tr>\n",
              "    <tr>\n",
              "      <th>3</th>\n",
              "      <td>3</td>\n",
              "      <td>32.509300</td>\n",
              "      <td>-81.708600</td>\n",
              "      <td>2</td>\n",
              "      <td>1215.0</td>\n",
              "      <td>4.40</td>\n",
              "      <td>3.0</td>\n",
              "      <td>31.0</td>\n",
              "      <td>1</td>\n",
              "      <td>1992-01-01</td>\n",
              "      <td>4</td>\n",
              "    </tr>\n",
              "    <tr>\n",
              "      <th>4</th>\n",
              "      <td>4</td>\n",
              "      <td>33.663889</td>\n",
              "      <td>-116.171944</td>\n",
              "      <td>1</td>\n",
              "      <td>NaN</td>\n",
              "      <td>0.20</td>\n",
              "      <td>NaN</td>\n",
              "      <td>NaN</td>\n",
              "      <td>2</td>\n",
              "      <td>1992-01-01</td>\n",
              "      <td>2</td>\n",
              "    </tr>\n",
              "  </tbody>\n",
              "</table>\n",
              "</div>"
            ],
            "text/plain": [
              "   id   LATITUDE   LONGITUDE  ...  SOURCE_REPORTING_UNIT_NAME        DATE  LABEL\n",
              "0   0  38.205000 -120.335000  ...                           0  1992-01-01      1\n",
              "1   1  33.813100  -85.104300  ...                           1  1992-01-01      4\n",
              "2   2  32.201000  -82.498700  ...                           1  1992-01-01      2\n",
              "3   3  32.509300  -81.708600  ...                           1  1992-01-01      4\n",
              "4   4  33.663889 -116.171944  ...                           2  1992-01-01      2\n",
              "\n",
              "[5 rows x 11 columns]"
            ]
          },
          "metadata": {
            "tags": []
          },
          "execution_count": 39
        }
      ]
    },
    {
      "cell_type": "code",
      "metadata": {
        "colab": {
          "base_uri": "https://localhost:8080/",
          "height": 419
        },
        "id": "6le9D5y-xDfu",
        "outputId": "aea1ded1-3c43-4cc6-8782-9110f90c7085"
      },
      "source": [
        "# set all missing values to np.nan for simple imputer to work (just to make sure)\n",
        "df.fillna(np.nan)"
      ],
      "execution_count": null,
      "outputs": [
        {
          "output_type": "execute_result",
          "data": {
            "text/html": [
              "<div>\n",
              "<style scoped>\n",
              "    .dataframe tbody tr th:only-of-type {\n",
              "        vertical-align: middle;\n",
              "    }\n",
              "\n",
              "    .dataframe tbody tr th {\n",
              "        vertical-align: top;\n",
              "    }\n",
              "\n",
              "    .dataframe thead th {\n",
              "        text-align: right;\n",
              "    }\n",
              "</style>\n",
              "<table border=\"1\" class=\"dataframe\">\n",
              "  <thead>\n",
              "    <tr style=\"text-align: right;\">\n",
              "      <th></th>\n",
              "      <th>id</th>\n",
              "      <th>LATITUDE</th>\n",
              "      <th>LONGITUDE</th>\n",
              "      <th>STATE</th>\n",
              "      <th>DISCOVERY_TIME</th>\n",
              "      <th>FIRE_SIZE</th>\n",
              "      <th>FIPS_NAME</th>\n",
              "      <th>FIPS_CODE</th>\n",
              "      <th>SOURCE_REPORTING_UNIT_NAME</th>\n",
              "      <th>DATE</th>\n",
              "      <th>LABEL</th>\n",
              "    </tr>\n",
              "  </thead>\n",
              "  <tbody>\n",
              "    <tr>\n",
              "      <th>0</th>\n",
              "      <td>0</td>\n",
              "      <td>38.205000</td>\n",
              "      <td>-120.335000</td>\n",
              "      <td>1</td>\n",
              "      <td>130.0</td>\n",
              "      <td>0.10</td>\n",
              "      <td>NaN</td>\n",
              "      <td>NaN</td>\n",
              "      <td>0</td>\n",
              "      <td>1992-01-01</td>\n",
              "      <td>1</td>\n",
              "    </tr>\n",
              "    <tr>\n",
              "      <th>1</th>\n",
              "      <td>1</td>\n",
              "      <td>33.813100</td>\n",
              "      <td>-85.104300</td>\n",
              "      <td>2</td>\n",
              "      <td>1115.0</td>\n",
              "      <td>1.17</td>\n",
              "      <td>1.0</td>\n",
              "      <td>143.0</td>\n",
              "      <td>1</td>\n",
              "      <td>1992-01-01</td>\n",
              "      <td>4</td>\n",
              "    </tr>\n",
              "    <tr>\n",
              "      <th>2</th>\n",
              "      <td>2</td>\n",
              "      <td>32.201000</td>\n",
              "      <td>-82.498700</td>\n",
              "      <td>2</td>\n",
              "      <td>1600.0</td>\n",
              "      <td>0.07</td>\n",
              "      <td>2.0</td>\n",
              "      <td>209.0</td>\n",
              "      <td>1</td>\n",
              "      <td>1992-01-01</td>\n",
              "      <td>2</td>\n",
              "    </tr>\n",
              "    <tr>\n",
              "      <th>3</th>\n",
              "      <td>3</td>\n",
              "      <td>32.509300</td>\n",
              "      <td>-81.708600</td>\n",
              "      <td>2</td>\n",
              "      <td>1215.0</td>\n",
              "      <td>4.40</td>\n",
              "      <td>3.0</td>\n",
              "      <td>31.0</td>\n",
              "      <td>1</td>\n",
              "      <td>1992-01-01</td>\n",
              "      <td>4</td>\n",
              "    </tr>\n",
              "    <tr>\n",
              "      <th>4</th>\n",
              "      <td>4</td>\n",
              "      <td>33.663889</td>\n",
              "      <td>-116.171944</td>\n",
              "      <td>1</td>\n",
              "      <td>NaN</td>\n",
              "      <td>0.20</td>\n",
              "      <td>NaN</td>\n",
              "      <td>NaN</td>\n",
              "      <td>2</td>\n",
              "      <td>1992-01-01</td>\n",
              "      <td>2</td>\n",
              "    </tr>\n",
              "    <tr>\n",
              "      <th>...</th>\n",
              "      <td>...</td>\n",
              "      <td>...</td>\n",
              "      <td>...</td>\n",
              "      <td>...</td>\n",
              "      <td>...</td>\n",
              "      <td>...</td>\n",
              "      <td>...</td>\n",
              "      <td>...</td>\n",
              "      <td>...</td>\n",
              "      <td>...</td>\n",
              "      <td>...</td>\n",
              "    </tr>\n",
              "    <tr>\n",
              "      <th>285377</th>\n",
              "      <td>285377</td>\n",
              "      <td>32.359105</td>\n",
              "      <td>-82.893909</td>\n",
              "      <td>2</td>\n",
              "      <td>NaN</td>\n",
              "      <td>0.25</td>\n",
              "      <td>11.0</td>\n",
              "      <td>175.0</td>\n",
              "      <td>140</td>\n",
              "      <td>2009-12-30</td>\n",
              "      <td>4</td>\n",
              "    </tr>\n",
              "    <tr>\n",
              "      <th>285378</th>\n",
              "      <td>285378</td>\n",
              "      <td>38.346342</td>\n",
              "      <td>-120.855472</td>\n",
              "      <td>1</td>\n",
              "      <td>1031.0</td>\n",
              "      <td>0.10</td>\n",
              "      <td>NaN</td>\n",
              "      <td>NaN</td>\n",
              "      <td>32</td>\n",
              "      <td>2009-12-30</td>\n",
              "      <td>2</td>\n",
              "    </tr>\n",
              "    <tr>\n",
              "      <th>285379</th>\n",
              "      <td>285379</td>\n",
              "      <td>32.780596</td>\n",
              "      <td>-82.742433</td>\n",
              "      <td>2</td>\n",
              "      <td>NaN</td>\n",
              "      <td>0.01</td>\n",
              "      <td>103.0</td>\n",
              "      <td>167.0</td>\n",
              "      <td>144</td>\n",
              "      <td>2009-12-30</td>\n",
              "      <td>2</td>\n",
              "    </tr>\n",
              "    <tr>\n",
              "      <th>285380</th>\n",
              "      <td>285380</td>\n",
              "      <td>33.985000</td>\n",
              "      <td>-116.915000</td>\n",
              "      <td>1</td>\n",
              "      <td>NaN</td>\n",
              "      <td>0.30</td>\n",
              "      <td>NaN</td>\n",
              "      <td>NaN</td>\n",
              "      <td>2</td>\n",
              "      <td>2009-12-30</td>\n",
              "      <td>2</td>\n",
              "    </tr>\n",
              "    <tr>\n",
              "      <th>285381</th>\n",
              "      <td>285381</td>\n",
              "      <td>33.470031</td>\n",
              "      <td>-116.953468</td>\n",
              "      <td>1</td>\n",
              "      <td>1440.0</td>\n",
              "      <td>1.00</td>\n",
              "      <td>NaN</td>\n",
              "      <td>NaN</td>\n",
              "      <td>2</td>\n",
              "      <td>2009-12-31</td>\n",
              "      <td>2</td>\n",
              "    </tr>\n",
              "  </tbody>\n",
              "</table>\n",
              "<p>285382 rows × 11 columns</p>\n",
              "</div>"
            ],
            "text/plain": [
              "            id   LATITUDE  ...        DATE LABEL\n",
              "0            0  38.205000  ...  1992-01-01     1\n",
              "1            1  33.813100  ...  1992-01-01     4\n",
              "2            2  32.201000  ...  1992-01-01     2\n",
              "3            3  32.509300  ...  1992-01-01     4\n",
              "4            4  33.663889  ...  1992-01-01     2\n",
              "...        ...        ...  ...         ...   ...\n",
              "285377  285377  32.359105  ...  2009-12-30     4\n",
              "285378  285378  38.346342  ...  2009-12-30     2\n",
              "285379  285379  32.780596  ...  2009-12-30     2\n",
              "285380  285380  33.985000  ...  2009-12-30     2\n",
              "285381  285381  33.470031  ...  2009-12-31     2\n",
              "\n",
              "[285382 rows x 11 columns]"
            ]
          },
          "metadata": {
            "tags": []
          },
          "execution_count": 38
        }
      ]
    },
    {
      "cell_type": "code",
      "metadata": {
        "colab": {
          "base_uri": "https://localhost:8080/",
          "height": 204
        },
        "id": "wDSBXdiKoWOK",
        "outputId": "d074a9db-0013-4986-d8b0-9e640ce1d407"
      },
      "source": [
        "# replacing missing values with most frequent\n",
        "# probably not the best idea, should instead learn the fips name and code from lat+lon\n",
        "# no idea about discovery time\n",
        "from sklearn.impute import SimpleImputer\n",
        "imp = SimpleImputer(missing_values= np.nan, strategy='most_frequent')\n",
        "imp.fit(df)\n",
        "imp.transform(df)\n",
        "T=imp.transform(df)\n",
        "# make pandas frame again from imputed data\n",
        "df2 = pd.DataFrame({'id': T[:, 0], 'LATITUDE': T[:, 1], 'LONGITUDE': T[:, 2], 'STATE': T[:, 3], 'DISCOVERY_TIME': T[:, 4], 'FIRE_SIZE': T[:, 5], 'FIPS_NAME': T[:, 6], 'FIPS_CODE': T[:, 7], 'SOURCE_REPORTING_UNIT_NAME': T[:, 8], 'DATE': T[:, 9], 'LABEL': T[:, 10]})\n",
        "df2.head()"
      ],
      "execution_count": null,
      "outputs": [
        {
          "output_type": "execute_result",
          "data": {
            "text/html": [
              "<div>\n",
              "<style scoped>\n",
              "    .dataframe tbody tr th:only-of-type {\n",
              "        vertical-align: middle;\n",
              "    }\n",
              "\n",
              "    .dataframe tbody tr th {\n",
              "        vertical-align: top;\n",
              "    }\n",
              "\n",
              "    .dataframe thead th {\n",
              "        text-align: right;\n",
              "    }\n",
              "</style>\n",
              "<table border=\"1\" class=\"dataframe\">\n",
              "  <thead>\n",
              "    <tr style=\"text-align: right;\">\n",
              "      <th></th>\n",
              "      <th>id</th>\n",
              "      <th>LATITUDE</th>\n",
              "      <th>LONGITUDE</th>\n",
              "      <th>STATE</th>\n",
              "      <th>DISCOVERY_TIME</th>\n",
              "      <th>FIRE_SIZE</th>\n",
              "      <th>FIPS_NAME</th>\n",
              "      <th>FIPS_CODE</th>\n",
              "      <th>SOURCE_REPORTING_UNIT_NAME</th>\n",
              "      <th>DATE</th>\n",
              "      <th>LABEL</th>\n",
              "    </tr>\n",
              "  </thead>\n",
              "  <tbody>\n",
              "    <tr>\n",
              "      <th>0</th>\n",
              "      <td>0</td>\n",
              "      <td>38.205</td>\n",
              "      <td>-120.335</td>\n",
              "      <td>1</td>\n",
              "      <td>130</td>\n",
              "      <td>0.1</td>\n",
              "      <td>168</td>\n",
              "      <td>65</td>\n",
              "      <td>0</td>\n",
              "      <td>1992-01-01</td>\n",
              "      <td>1</td>\n",
              "    </tr>\n",
              "    <tr>\n",
              "      <th>1</th>\n",
              "      <td>1</td>\n",
              "      <td>33.8131</td>\n",
              "      <td>-85.1043</td>\n",
              "      <td>2</td>\n",
              "      <td>1115</td>\n",
              "      <td>1.17</td>\n",
              "      <td>1</td>\n",
              "      <td>143</td>\n",
              "      <td>1</td>\n",
              "      <td>1992-01-01</td>\n",
              "      <td>4</td>\n",
              "    </tr>\n",
              "    <tr>\n",
              "      <th>2</th>\n",
              "      <td>2</td>\n",
              "      <td>32.201</td>\n",
              "      <td>-82.4987</td>\n",
              "      <td>2</td>\n",
              "      <td>1600</td>\n",
              "      <td>0.07</td>\n",
              "      <td>2</td>\n",
              "      <td>209</td>\n",
              "      <td>1</td>\n",
              "      <td>1992-01-01</td>\n",
              "      <td>2</td>\n",
              "    </tr>\n",
              "    <tr>\n",
              "      <th>3</th>\n",
              "      <td>3</td>\n",
              "      <td>32.5093</td>\n",
              "      <td>-81.7086</td>\n",
              "      <td>2</td>\n",
              "      <td>1215</td>\n",
              "      <td>4.4</td>\n",
              "      <td>3</td>\n",
              "      <td>31</td>\n",
              "      <td>1</td>\n",
              "      <td>1992-01-01</td>\n",
              "      <td>4</td>\n",
              "    </tr>\n",
              "    <tr>\n",
              "      <th>4</th>\n",
              "      <td>4</td>\n",
              "      <td>33.6639</td>\n",
              "      <td>-116.172</td>\n",
              "      <td>1</td>\n",
              "      <td>1400</td>\n",
              "      <td>0.2</td>\n",
              "      <td>168</td>\n",
              "      <td>65</td>\n",
              "      <td>2</td>\n",
              "      <td>1992-01-01</td>\n",
              "      <td>2</td>\n",
              "    </tr>\n",
              "  </tbody>\n",
              "</table>\n",
              "</div>"
            ],
            "text/plain": [
              "  id LATITUDE LONGITUDE  ... SOURCE_REPORTING_UNIT_NAME        DATE LABEL\n",
              "0  0   38.205  -120.335  ...                          0  1992-01-01     1\n",
              "1  1  33.8131  -85.1043  ...                          1  1992-01-01     4\n",
              "2  2   32.201  -82.4987  ...                          1  1992-01-01     2\n",
              "3  3  32.5093  -81.7086  ...                          1  1992-01-01     4\n",
              "4  4  33.6639  -116.172  ...                          2  1992-01-01     2\n",
              "\n",
              "[5 rows x 11 columns]"
            ]
          },
          "metadata": {
            "tags": []
          },
          "execution_count": 48
        }
      ]
    },
    {
      "cell_type": "code",
      "metadata": {
        "id": "XGw6o-dcfV4-"
      },
      "source": [
        "# find out exactly how many values are missing and in which columns to get a feel for the time needed to impute\n",
        "# impute fips code from closest lat lon neighbor\n",
        "# prepare dataframe - Latitude + Longitude data is complete\n",
        "print(df['LATITUDE'].isnull().values.any()) # checked of longitude also\n",
        "df_impute_code = df.drop(['id','STATE','DISCOVERY_TIME','FIRE_SIZE','FIPS_NAME','SOURCE_REPORTING_UNIT_NAME','DATE','LABEL'], axis=1)\n",
        "df_impute_code.head()\n",
        "from sklearn.impute import KNNImputer\n",
        "imputer = KNNImputer(n_neighbors=1)\n",
        "df_code_imputed = imputer.fit_transform(df_impute_code)"
      ],
      "execution_count": 29,
      "outputs": []
    },
    {
      "cell_type": "code",
      "metadata": {
        "colab": {
          "base_uri": "https://localhost:8080/",
          "height": 204
        },
        "id": "ZCkQKPB7svrd",
        "outputId": "87dc840d-e454-4655-f513-408b3a884d40"
      },
      "source": [
        "# make pandas frame again from imputed data\n",
        "df_imputed_1 = pd.DataFrame({'LATITUDE': df_code_imputed[:, 0], 'LONGITUDE': df_code_imputed[:, 1], 'FIPS_CODE': df_code_imputed[:, 2],})\n",
        "df_imputed_1.head()"
      ],
      "execution_count": 41,
      "outputs": [
        {
          "output_type": "execute_result",
          "data": {
            "text/html": [
              "<div>\n",
              "<style scoped>\n",
              "    .dataframe tbody tr th:only-of-type {\n",
              "        vertical-align: middle;\n",
              "    }\n",
              "\n",
              "    .dataframe tbody tr th {\n",
              "        vertical-align: top;\n",
              "    }\n",
              "\n",
              "    .dataframe thead th {\n",
              "        text-align: right;\n",
              "    }\n",
              "</style>\n",
              "<table border=\"1\" class=\"dataframe\">\n",
              "  <thead>\n",
              "    <tr style=\"text-align: right;\">\n",
              "      <th></th>\n",
              "      <th>LATITUDE</th>\n",
              "      <th>LONGITUDE</th>\n",
              "      <th>FIPS_CODE</th>\n",
              "    </tr>\n",
              "  </thead>\n",
              "  <tbody>\n",
              "    <tr>\n",
              "      <th>0</th>\n",
              "      <td>38.205000</td>\n",
              "      <td>-120.335000</td>\n",
              "      <td>9.0</td>\n",
              "    </tr>\n",
              "    <tr>\n",
              "      <th>1</th>\n",
              "      <td>33.813100</td>\n",
              "      <td>-85.104300</td>\n",
              "      <td>143.0</td>\n",
              "    </tr>\n",
              "    <tr>\n",
              "      <th>2</th>\n",
              "      <td>32.201000</td>\n",
              "      <td>-82.498700</td>\n",
              "      <td>209.0</td>\n",
              "    </tr>\n",
              "    <tr>\n",
              "      <th>3</th>\n",
              "      <td>32.509300</td>\n",
              "      <td>-81.708600</td>\n",
              "      <td>31.0</td>\n",
              "    </tr>\n",
              "    <tr>\n",
              "      <th>4</th>\n",
              "      <td>33.663889</td>\n",
              "      <td>-116.171944</td>\n",
              "      <td>65.0</td>\n",
              "    </tr>\n",
              "  </tbody>\n",
              "</table>\n",
              "</div>"
            ],
            "text/plain": [
              "    LATITUDE   LONGITUDE  FIPS_CODE\n",
              "0  38.205000 -120.335000        9.0\n",
              "1  33.813100  -85.104300      143.0\n",
              "2  32.201000  -82.498700      209.0\n",
              "3  32.509300  -81.708600       31.0\n",
              "4  33.663889 -116.171944       65.0"
            ]
          },
          "metadata": {
            "tags": []
          },
          "execution_count": 41
        }
      ]
    },
    {
      "cell_type": "code",
      "metadata": {
        "colab": {
          "base_uri": "https://localhost:8080/",
          "height": 198
        },
        "id": "0N5V9A8OimlT",
        "outputId": "90028fe6-edc2-41c8-e084-13d763fb96a0"
      },
      "source": [
        "# then impute fips name from fips code + lat + lon neighbor\n",
        "df_to_impute_2 = pd.DataFrame({'LATITUDE': df_code_imputed[:, 0], 'LONGITUDE': df_code_imputed[:, 1], 'FIPS_CODE': df_code_imputed[:, 2]})\n",
        "# add fips name to df\n",
        "df_to_impute_2['FIPS_NAME']=df['FIPS_NAME']\n",
        "imputer = KNNImputer(n_neighbors=1)\n",
        "df_code_imputed_2 = imputer.fit_transform(df_to_impute_2)"
      ],
      "execution_count": 48,
      "outputs": [
        {
          "output_type": "error",
          "ename": "AttributeError",
          "evalue": "ignored",
          "traceback": [
            "\u001b[0;31m---------------------------------------------------------------------------\u001b[0m",
            "\u001b[0;31mAttributeError\u001b[0m                            Traceback (most recent call last)",
            "\u001b[0;32m<ipython-input-48-f86e495cd399>\u001b[0m in \u001b[0;36m<module>\u001b[0;34m()\u001b[0m\n\u001b[1;32m      5\u001b[0m \u001b[0mimputer\u001b[0m \u001b[0;34m=\u001b[0m \u001b[0mKNNImputer\u001b[0m\u001b[0;34m(\u001b[0m\u001b[0mn_neighbors\u001b[0m\u001b[0;34m=\u001b[0m\u001b[0;36m1\u001b[0m\u001b[0;34m)\u001b[0m\u001b[0;34m\u001b[0m\u001b[0;34m\u001b[0m\u001b[0m\n\u001b[1;32m      6\u001b[0m \u001b[0mdf_code_imputed_2\u001b[0m \u001b[0;34m=\u001b[0m \u001b[0mimputer\u001b[0m\u001b[0;34m.\u001b[0m\u001b[0mfit_transform\u001b[0m\u001b[0;34m(\u001b[0m\u001b[0mdf_to_impute_2\u001b[0m\u001b[0;34m)\u001b[0m\u001b[0;34m\u001b[0m\u001b[0;34m\u001b[0m\u001b[0m\n\u001b[0;32m----> 7\u001b[0;31m \u001b[0mdf_code_imputed_2\u001b[0m\u001b[0;34m.\u001b[0m\u001b[0mhead\u001b[0m\u001b[0;34m(\u001b[0m\u001b[0;34m)\u001b[0m\u001b[0;34m\u001b[0m\u001b[0;34m\u001b[0m\u001b[0m\n\u001b[0m",
            "\u001b[0;31mAttributeError\u001b[0m: 'numpy.ndarray' object has no attribute 'head'"
          ]
        }
      ]
    },
    {
      "cell_type": "code",
      "metadata": {
        "colab": {
          "base_uri": "https://localhost:8080/",
          "height": 204
        },
        "id": "7ZV6JSg6N75Y",
        "outputId": "98e7c0b8-33c6-4a8b-bc9d-dfa72ff2e2ed"
      },
      "source": [
        "# make pandas frame again from imputed data\n",
        "df_code_imputed_2 = pd.DataFrame({'LATITUDE': df_code_imputed_2[:, 0], 'LONGITUDE': df_code_imputed_2[:, 1], 'FIPS_CODE': df_code_imputed_2[:, 2],'FIPS_NAME': df_code_imputed_2[:, 3]})\n",
        "df_code_imputed_2.head()"
      ],
      "execution_count": 49,
      "outputs": [
        {
          "output_type": "execute_result",
          "data": {
            "text/html": [
              "<div>\n",
              "<style scoped>\n",
              "    .dataframe tbody tr th:only-of-type {\n",
              "        vertical-align: middle;\n",
              "    }\n",
              "\n",
              "    .dataframe tbody tr th {\n",
              "        vertical-align: top;\n",
              "    }\n",
              "\n",
              "    .dataframe thead th {\n",
              "        text-align: right;\n",
              "    }\n",
              "</style>\n",
              "<table border=\"1\" class=\"dataframe\">\n",
              "  <thead>\n",
              "    <tr style=\"text-align: right;\">\n",
              "      <th></th>\n",
              "      <th>LATITUDE</th>\n",
              "      <th>LONGITUDE</th>\n",
              "      <th>FIPS_CODE</th>\n",
              "      <th>FIPS_NAME</th>\n",
              "    </tr>\n",
              "  </thead>\n",
              "  <tbody>\n",
              "    <tr>\n",
              "      <th>0</th>\n",
              "      <td>38.205000</td>\n",
              "      <td>-120.335000</td>\n",
              "      <td>9.0</td>\n",
              "      <td>192.0</td>\n",
              "    </tr>\n",
              "    <tr>\n",
              "      <th>1</th>\n",
              "      <td>33.813100</td>\n",
              "      <td>-85.104300</td>\n",
              "      <td>143.0</td>\n",
              "      <td>1.0</td>\n",
              "    </tr>\n",
              "    <tr>\n",
              "      <th>2</th>\n",
              "      <td>32.201000</td>\n",
              "      <td>-82.498700</td>\n",
              "      <td>209.0</td>\n",
              "      <td>2.0</td>\n",
              "    </tr>\n",
              "    <tr>\n",
              "      <th>3</th>\n",
              "      <td>32.509300</td>\n",
              "      <td>-81.708600</td>\n",
              "      <td>31.0</td>\n",
              "      <td>3.0</td>\n",
              "    </tr>\n",
              "    <tr>\n",
              "      <th>4</th>\n",
              "      <td>33.663889</td>\n",
              "      <td>-116.171944</td>\n",
              "      <td>65.0</td>\n",
              "      <td>168.0</td>\n",
              "    </tr>\n",
              "  </tbody>\n",
              "</table>\n",
              "</div>"
            ],
            "text/plain": [
              "    LATITUDE   LONGITUDE  FIPS_CODE  FIPS_NAME\n",
              "0  38.205000 -120.335000        9.0      192.0\n",
              "1  33.813100  -85.104300      143.0        1.0\n",
              "2  32.201000  -82.498700      209.0        2.0\n",
              "3  32.509300  -81.708600       31.0        3.0\n",
              "4  33.663889 -116.171944       65.0      168.0"
            ]
          },
          "metadata": {
            "tags": []
          },
          "execution_count": 49
        }
      ]
    },
    {
      "cell_type": "code",
      "metadata": {
        "colab": {
          "base_uri": "https://localhost:8080/",
          "height": 204
        },
        "id": "-LjK4G4VEf7I",
        "outputId": "54cebf04-7a5c-4111-9c0f-1d043bdcc23c"
      },
      "source": [
        "# put it together in a dataframe back in order again\n",
        "# change the changed columns of df_original\n",
        "df_imputed = df\n",
        "# add the imputed values for name and code\n",
        "df_imputed['FIPS_NAME']=df_code_imputed_2['FIPS_NAME']\n",
        "df_imputed['FIPS_CODE']=df_code_imputed_2['FIPS_CODE']\n",
        "# what to do about date and discovery time - TBD??\n",
        "df_imputed.head()"
      ],
      "execution_count": 50,
      "outputs": [
        {
          "output_type": "execute_result",
          "data": {
            "text/html": [
              "<div>\n",
              "<style scoped>\n",
              "    .dataframe tbody tr th:only-of-type {\n",
              "        vertical-align: middle;\n",
              "    }\n",
              "\n",
              "    .dataframe tbody tr th {\n",
              "        vertical-align: top;\n",
              "    }\n",
              "\n",
              "    .dataframe thead th {\n",
              "        text-align: right;\n",
              "    }\n",
              "</style>\n",
              "<table border=\"1\" class=\"dataframe\">\n",
              "  <thead>\n",
              "    <tr style=\"text-align: right;\">\n",
              "      <th></th>\n",
              "      <th>id</th>\n",
              "      <th>LATITUDE</th>\n",
              "      <th>LONGITUDE</th>\n",
              "      <th>STATE</th>\n",
              "      <th>DISCOVERY_TIME</th>\n",
              "      <th>FIRE_SIZE</th>\n",
              "      <th>FIPS_NAME</th>\n",
              "      <th>FIPS_CODE</th>\n",
              "      <th>SOURCE_REPORTING_UNIT_NAME</th>\n",
              "      <th>DATE</th>\n",
              "      <th>LABEL</th>\n",
              "    </tr>\n",
              "  </thead>\n",
              "  <tbody>\n",
              "    <tr>\n",
              "      <th>0</th>\n",
              "      <td>0</td>\n",
              "      <td>38.205000</td>\n",
              "      <td>-120.335000</td>\n",
              "      <td>1</td>\n",
              "      <td>130.0</td>\n",
              "      <td>0.10</td>\n",
              "      <td>192.0</td>\n",
              "      <td>9.0</td>\n",
              "      <td>0</td>\n",
              "      <td>1992-01-01</td>\n",
              "      <td>1</td>\n",
              "    </tr>\n",
              "    <tr>\n",
              "      <th>1</th>\n",
              "      <td>1</td>\n",
              "      <td>33.813100</td>\n",
              "      <td>-85.104300</td>\n",
              "      <td>2</td>\n",
              "      <td>1115.0</td>\n",
              "      <td>1.17</td>\n",
              "      <td>1.0</td>\n",
              "      <td>143.0</td>\n",
              "      <td>1</td>\n",
              "      <td>1992-01-01</td>\n",
              "      <td>4</td>\n",
              "    </tr>\n",
              "    <tr>\n",
              "      <th>2</th>\n",
              "      <td>2</td>\n",
              "      <td>32.201000</td>\n",
              "      <td>-82.498700</td>\n",
              "      <td>2</td>\n",
              "      <td>1600.0</td>\n",
              "      <td>0.07</td>\n",
              "      <td>2.0</td>\n",
              "      <td>209.0</td>\n",
              "      <td>1</td>\n",
              "      <td>1992-01-01</td>\n",
              "      <td>2</td>\n",
              "    </tr>\n",
              "    <tr>\n",
              "      <th>3</th>\n",
              "      <td>3</td>\n",
              "      <td>32.509300</td>\n",
              "      <td>-81.708600</td>\n",
              "      <td>2</td>\n",
              "      <td>1215.0</td>\n",
              "      <td>4.40</td>\n",
              "      <td>3.0</td>\n",
              "      <td>31.0</td>\n",
              "      <td>1</td>\n",
              "      <td>1992-01-01</td>\n",
              "      <td>4</td>\n",
              "    </tr>\n",
              "    <tr>\n",
              "      <th>4</th>\n",
              "      <td>4</td>\n",
              "      <td>33.663889</td>\n",
              "      <td>-116.171944</td>\n",
              "      <td>1</td>\n",
              "      <td>NaN</td>\n",
              "      <td>0.20</td>\n",
              "      <td>168.0</td>\n",
              "      <td>65.0</td>\n",
              "      <td>2</td>\n",
              "      <td>1992-01-01</td>\n",
              "      <td>2</td>\n",
              "    </tr>\n",
              "  </tbody>\n",
              "</table>\n",
              "</div>"
            ],
            "text/plain": [
              "   id   LATITUDE   LONGITUDE  ...  SOURCE_REPORTING_UNIT_NAME        DATE  LABEL\n",
              "0   0  38.205000 -120.335000  ...                           0  1992-01-01      1\n",
              "1   1  33.813100  -85.104300  ...                           1  1992-01-01      4\n",
              "2   2  32.201000  -82.498700  ...                           1  1992-01-01      2\n",
              "3   3  32.509300  -81.708600  ...                           1  1992-01-01      4\n",
              "4   4  33.663889 -116.171944  ...                           2  1992-01-01      2\n",
              "\n",
              "[5 rows x 11 columns]"
            ]
          },
          "metadata": {
            "tags": []
          },
          "execution_count": 50
        }
      ]
    },
    {
      "cell_type": "code",
      "metadata": {
        "id": "tzDUHNEDDyNY"
      },
      "source": [
        "# put it together in a dataframe and save\n",
        "from google.colab import  drive\n",
        "\n",
        "def save_csv(df, savestr):\n",
        "  drive.mount(\"/drive\", force_remount=True)\n",
        "  df.to_csv('/drive/My Drive/CS155_miniproject_1/'+str(savestr)+'.csv')"
      ],
      "execution_count": 57,
      "outputs": []
    },
    {
      "cell_type": "code",
      "metadata": {
        "colab": {
          "base_uri": "https://localhost:8080/"
        },
        "id": "CmupSHP9OjIH",
        "outputId": "d8872a24-93be-4da1-e70a-601d6b60561e"
      },
      "source": [
        "save_csv(df_imputed,'traindata_fipsname_code_imputed')"
      ],
      "execution_count": 58,
      "outputs": [
        {
          "output_type": "stream",
          "text": [
            "Mounted at /drive\n"
          ],
          "name": "stdout"
        }
      ]
    },
    {
      "cell_type": "code",
      "metadata": {
        "colab": {
          "base_uri": "https://localhost:8080/"
        },
        "id": "VE8m0uBtDSnZ",
        "outputId": "9345b898-2218-4ab0-86c9-4d70a2bedeb7"
      },
      "source": [
        "# then impute discovery time from ??? year + season + label ???\n",
        "# convert date column into 2 columns - year and day of the year\n",
        "import datetime \n",
        "dates = pd.DataFrame({'DATE':df['DATE']})\n",
        "df.dtypes\n",
        "dates['DATE'] = pd.to_datetime(dates['DATE'])\n",
        "year = np.zeros(len(dates['DATE']))\n",
        "day = np.zeros(len(dates['DATE']))\n",
        "for i in range(0,len(dates['DATE'])):\n",
        "  timetuple = dates['DATE'][:][i].timetuple()\n",
        "  year[i] = timetuple.tm_year\n",
        "  day[i] = timetuple.tm_yday\n",
        "print(year)\n",
        "print(day)"
      ],
      "execution_count": 90,
      "outputs": [
        {
          "output_type": "stream",
          "text": [
            "[1992. 1992. 1992. ... 2009. 2009. 2009.]\n",
            "[  1.   1.   1. ... 364. 364. 365.]\n"
          ],
          "name": "stdout"
        }
      ]
    },
    {
      "cell_type": "code",
      "metadata": {
        "colab": {
          "base_uri": "https://localhost:8080/",
          "height": 204
        },
        "id": "IRCRPWQoXSVC",
        "outputId": "112ac155-cbb9-4ab6-c141-867b02f5de73"
      },
      "source": [
        "# add to dataframe\n",
        "df.insert(9,'YEAR',year)\n",
        "df.insert(10,'DAY',day)\n",
        "df = df.drop(['DATE'],axis=1)\n",
        "df.head()"
      ],
      "execution_count": 96,
      "outputs": [
        {
          "output_type": "execute_result",
          "data": {
            "text/html": [
              "<div>\n",
              "<style scoped>\n",
              "    .dataframe tbody tr th:only-of-type {\n",
              "        vertical-align: middle;\n",
              "    }\n",
              "\n",
              "    .dataframe tbody tr th {\n",
              "        vertical-align: top;\n",
              "    }\n",
              "\n",
              "    .dataframe thead th {\n",
              "        text-align: right;\n",
              "    }\n",
              "</style>\n",
              "<table border=\"1\" class=\"dataframe\">\n",
              "  <thead>\n",
              "    <tr style=\"text-align: right;\">\n",
              "      <th></th>\n",
              "      <th>id</th>\n",
              "      <th>LATITUDE</th>\n",
              "      <th>LONGITUDE</th>\n",
              "      <th>STATE</th>\n",
              "      <th>DISCOVERY_TIME</th>\n",
              "      <th>FIRE_SIZE</th>\n",
              "      <th>FIPS_NAME</th>\n",
              "      <th>FIPS_CODE</th>\n",
              "      <th>SOURCE_REPORTING_UNIT_NAME</th>\n",
              "      <th>YEAR</th>\n",
              "      <th>DAY</th>\n",
              "      <th>LABEL</th>\n",
              "    </tr>\n",
              "  </thead>\n",
              "  <tbody>\n",
              "    <tr>\n",
              "      <th>0</th>\n",
              "      <td>0</td>\n",
              "      <td>38.205000</td>\n",
              "      <td>-120.335000</td>\n",
              "      <td>1</td>\n",
              "      <td>130.0</td>\n",
              "      <td>0.10</td>\n",
              "      <td>192.0</td>\n",
              "      <td>9.0</td>\n",
              "      <td>0</td>\n",
              "      <td>1992.0</td>\n",
              "      <td>1.0</td>\n",
              "      <td>1</td>\n",
              "    </tr>\n",
              "    <tr>\n",
              "      <th>1</th>\n",
              "      <td>1</td>\n",
              "      <td>33.813100</td>\n",
              "      <td>-85.104300</td>\n",
              "      <td>2</td>\n",
              "      <td>1115.0</td>\n",
              "      <td>1.17</td>\n",
              "      <td>1.0</td>\n",
              "      <td>143.0</td>\n",
              "      <td>1</td>\n",
              "      <td>1992.0</td>\n",
              "      <td>1.0</td>\n",
              "      <td>4</td>\n",
              "    </tr>\n",
              "    <tr>\n",
              "      <th>2</th>\n",
              "      <td>2</td>\n",
              "      <td>32.201000</td>\n",
              "      <td>-82.498700</td>\n",
              "      <td>2</td>\n",
              "      <td>1600.0</td>\n",
              "      <td>0.07</td>\n",
              "      <td>2.0</td>\n",
              "      <td>209.0</td>\n",
              "      <td>1</td>\n",
              "      <td>1992.0</td>\n",
              "      <td>1.0</td>\n",
              "      <td>2</td>\n",
              "    </tr>\n",
              "    <tr>\n",
              "      <th>3</th>\n",
              "      <td>3</td>\n",
              "      <td>32.509300</td>\n",
              "      <td>-81.708600</td>\n",
              "      <td>2</td>\n",
              "      <td>1215.0</td>\n",
              "      <td>4.40</td>\n",
              "      <td>3.0</td>\n",
              "      <td>31.0</td>\n",
              "      <td>1</td>\n",
              "      <td>1992.0</td>\n",
              "      <td>1.0</td>\n",
              "      <td>4</td>\n",
              "    </tr>\n",
              "    <tr>\n",
              "      <th>4</th>\n",
              "      <td>4</td>\n",
              "      <td>33.663889</td>\n",
              "      <td>-116.171944</td>\n",
              "      <td>1</td>\n",
              "      <td>NaN</td>\n",
              "      <td>0.20</td>\n",
              "      <td>168.0</td>\n",
              "      <td>65.0</td>\n",
              "      <td>2</td>\n",
              "      <td>1992.0</td>\n",
              "      <td>1.0</td>\n",
              "      <td>2</td>\n",
              "    </tr>\n",
              "  </tbody>\n",
              "</table>\n",
              "</div>"
            ],
            "text/plain": [
              "   id   LATITUDE   LONGITUDE  ...    YEAR  DAY  LABEL\n",
              "0   0  38.205000 -120.335000  ...  1992.0  1.0      1\n",
              "1   1  33.813100  -85.104300  ...  1992.0  1.0      4\n",
              "2   2  32.201000  -82.498700  ...  1992.0  1.0      2\n",
              "3   3  32.509300  -81.708600  ...  1992.0  1.0      4\n",
              "4   4  33.663889 -116.171944  ...  1992.0  1.0      2\n",
              "\n",
              "[5 rows x 12 columns]"
            ]
          },
          "metadata": {
            "tags": []
          },
          "execution_count": 96
        }
      ]
    },
    {
      "cell_type": "code",
      "metadata": {
        "colab": {
          "base_uri": "https://localhost:8080/"
        },
        "id": "5iv83cL8ZCB0",
        "outputId": "a2bbd8d6-be86-4033-bf01-c1bc37a48fbe"
      },
      "source": [
        "save_csv(df_imputed,'traindata_fipsname_code_imputed_year_day')"
      ],
      "execution_count": 97,
      "outputs": [
        {
          "output_type": "stream",
          "text": [
            "Mounted at /drive\n"
          ],
          "name": "stdout"
        }
      ]
    },
    {
      "cell_type": "code",
      "metadata": {
        "id": "UP5ASB9caOLa"
      },
      "source": [
        "# normalize data tbd how\n",
        "# impute discovery time from ?? - year/day/state/fips_code?"
      ],
      "execution_count": null,
      "outputs": []
    },
    {
      "cell_type": "code",
      "metadata": {
        "id": "yBmAW_GuqabH"
      },
      "source": [
        "# ALL IN ONE - TOO SLOW !!! and probs not too useful\n",
        "# df.dtypes\n",
        "# df['DATE'] = pd.to_datetime(df['DATE'])\n",
        "# # took out date data, if we want to keep it for imputation need to convert to numeric, but doesnt really have to do with zip?/ but maybe with detection time\n",
        "# df3 = df.drop(['DATE'], axis=1)\n",
        "# # maybe use K-Nearest Neighbor to impute data\n",
        "# from sklearn.impute import KNNImputer\n",
        "# imputer = KNNImputer(n_neighbors=2)\n",
        "# imputer.fit_transform(df3)\n",
        "# df3.head()\n"
      ],
      "execution_count": 59,
      "outputs": []
    }
  ]
}