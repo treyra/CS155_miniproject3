{
  "nbformat": 4,
  "nbformat_minor": 0,
  "metadata": {
    "colab": {
      "name": "Rhyme dictionary generator",
      "provenance": [],
      "collapsed_sections": [],
      "include_colab_link": true
    },
    "kernelspec": {
      "name": "python3",
      "display_name": "Python 3"
    }
  },
  "cells": [
    {
      "cell_type": "markdown",
      "metadata": {
        "id": "view-in-github",
        "colab_type": "text"
      },
      "source": [
        "<a href=\"https://colab.research.google.com/github/treyra/CS155_miniproject3/blob/main/Rhyme_dictionary_generator.ipynb\" target=\"_parent\"><img src=\"https://colab.research.google.com/assets/colab-badge.svg\" alt=\"Open In Colab\"/></a>"
      ]
    },
    {
      "cell_type": "code",
      "metadata": {
        "id": "7supoXnazmC1"
      },
      "source": [
        "import numpy as np"
      ],
      "execution_count": 1,
      "outputs": []
    },
    {
      "cell_type": "markdown",
      "metadata": {
        "id": "1ibninVYXaKH"
      },
      "source": [
        "Load line data\r\n",
        "\r\n",
        "\r\n",
        "\r\n"
      ]
    },
    {
      "cell_type": "code",
      "metadata": {
        "id": "IR0TkrchXYb9"
      },
      "source": [
        "data_line = np.genfromtxt('https://raw.githubusercontent.com/treyra/CS155_miniproject3/main/data/data_line.txt',delimiter='\\t',dtype=None,encoding='ISO-8859-1')"
      ],
      "execution_count": 2,
      "outputs": []
    },
    {
      "cell_type": "markdown",
      "metadata": {
        "id": "t_lGTPacZGvO"
      },
      "source": [
        "Read through to create the data base using abab cdcd efef gg rhyme scheme"
      ]
    },
    {
      "cell_type": "code",
      "metadata": {
        "id": "YYCseFowX1pv"
      },
      "source": [
        "rhymes = np.zeros((int(len(data_line)/2),2),dtype=object)\r\n",
        "\r\n",
        "#Line number\r\n",
        "i = 0\r\n",
        "#Sonnet number\r\n",
        "sonnet = 0\r\n",
        "\r\n",
        "for line in data_line:\r\n",
        "    if i == 0:\r\n",
        "        a = 7*sonnet\r\n",
        "        b = 0\r\n",
        "    elif i == 1:\r\n",
        "        a = 7*sonnet + 1\r\n",
        "        b = 0\r\n",
        "    elif i == 2:\r\n",
        "        a = 7*sonnet\r\n",
        "        b = 1\r\n",
        "    elif i == 3:\r\n",
        "        a = 7*sonnet + 1\r\n",
        "        b = 1\r\n",
        "    elif i == 4:\r\n",
        "        a = 7*sonnet + 2\r\n",
        "        b = 0\r\n",
        "    elif i == 5:\r\n",
        "        a = 7*sonnet + 3\r\n",
        "        b = 0\r\n",
        "    elif i == 6:\r\n",
        "        a = 7*sonnet + 2\r\n",
        "        b = 1\r\n",
        "    elif i == 7:\r\n",
        "        a = 7*sonnet + 3\r\n",
        "        b = 1\r\n",
        "    elif i == 8:\r\n",
        "        a = 7*sonnet + 4\r\n",
        "        b = 0\r\n",
        "    elif i == 9:\r\n",
        "        a = 7*sonnet + 5\r\n",
        "        b = 0\r\n",
        "    elif i == 10:\r\n",
        "        a = 7*sonnet + 4\r\n",
        "        b = 1\r\n",
        "    elif i == 11:\r\n",
        "        a = 7*sonnet + 5\r\n",
        "        b = 1\r\n",
        "    elif i == 12:\r\n",
        "        a = 7*sonnet + 6\r\n",
        "        b = 0\r\n",
        "    elif i == 13:\r\n",
        "        a = 7*sonnet + 6\r\n",
        "        b = 1\r\n",
        "        i -= 14\r\n",
        "        sonnet += 1\r\n",
        "    \r\n",
        "    \r\n",
        "    rhymes[a,b] = line.split(\" \")[-1]\r\n",
        "    i += 1"
      ],
      "execution_count": 5,
      "outputs": []
    },
    {
      "cell_type": "code",
      "metadata": {
        "colab": {
          "base_uri": "https://localhost:8080/"
        },
        "id": "iT-O_8Vz1GU5",
        "outputId": "0376231a-06a6-4b61-9092-de41d3e143ae"
      },
      "source": [
        "rhymes"
      ],
      "execution_count": 6,
      "outputs": [
        {
          "output_type": "execute_result",
          "data": {
            "text/plain": [
              "array([['increase', 'decease'],\n",
              "       ['die', 'memory'],\n",
              "       ['eyes', 'lies'],\n",
              "       ...,\n",
              "       ['by', 'remedy'],\n",
              "       ['perpetual', 'thrall'],\n",
              "       ['prove', 'love']], dtype=object)"
            ]
          },
          "metadata": {
            "tags": []
          },
          "execution_count": 6
        }
      ]
    },
    {
      "cell_type": "code",
      "metadata": {
        "id": "tXMxhK5HYmzu",
        "colab": {
          "base_uri": "https://localhost:8080/"
        },
        "outputId": "09aa55e2-9c9b-4529-cce6-be8a876dcd09"
      },
      "source": [
        "# mount drive\r\n",
        "# save data by line and data by sonnet\r\n",
        "from google.colab import drive\r\n",
        "drive.mount('./drive',force_remount=True)"
      ],
      "execution_count": 7,
      "outputs": [
        {
          "output_type": "stream",
          "text": [
            "Mounted at ./drive\n"
          ],
          "name": "stdout"
        }
      ]
    },
    {
      "cell_type": "code",
      "metadata": {
        "id": "2S1QXXvAzkrd"
      },
      "source": [
        "rhymes.tofile('/content/drive/My Drive/CS155_miniproject_3/rhyme_list.csv', sep = ',')\r\n",
        "\r\n",
        "#np.savetxt('/content/drive/My Drive/CS155_miniproject_3/rhyme_list.csv',rhymes, delimiter = \",\")"
      ],
      "execution_count": 11,
      "outputs": []
    },
    {
      "cell_type": "code",
      "metadata": {
        "id": "gC0bSyR3ZQGG"
      },
      "source": [
        ""
      ],
      "execution_count": null,
      "outputs": []
    }
  ]
}